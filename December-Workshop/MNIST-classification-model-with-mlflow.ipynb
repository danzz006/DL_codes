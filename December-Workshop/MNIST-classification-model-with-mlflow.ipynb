{
 "cells": [
  {
   "cell_type": "code",
   "execution_count": 1,
   "id": "6iJr-VFgyZRB",
   "metadata": {
    "colab": {
     "base_uri": "https://localhost:8080/"
    },
    "id": "6iJr-VFgyZRB",
    "outputId": "1cb765f4-3c96-4ddf-ffe9-0aa56a3a3289"
   },
   "outputs": [
    {
     "name": "stdout",
     "output_type": "stream",
     "text": [
      "Installing collected packages: smmap, websocket-client, pyjwt, prometheus-client, Mako, gitdb, querystring-parser, prometheus-flask-exporter, gunicorn, gitpython, docker, databricks-cli, alembic, mlflow\n",
      "Successfully installed Mako-1.2.2 alembic-1.8.1 databricks-cli-0.17.3 docker-5.0.3 gitdb-4.0.9 gitpython-3.1.27 gunicorn-20.1.0 mlflow-1.28.0 prometheus-client-0.14.1 prometheus-flask-exporter-0.20.3 pyjwt-2.4.0 querystring-parser-1.2.4 smmap-5.0.0 websocket-client-1.4.1\n"
     ]
    }
   ],
   "source": [
    "# !pip install mlflow"
   ]
  },
  {
   "cell_type": "code",
   "execution_count": 15,
   "id": "347aXO4e4bWy",
   "metadata": {
    "colab": {
     "base_uri": "https://localhost:8080/"
    },
    "id": "347aXO4e4bWy",
    "outputId": "f666b339-5248-4227-96c8-d3efca77bebc"
   },
   "outputs": [
    {
     "name": "stdout",
     "output_type": "stream",
     "text": [
      "\u001b[K\u001b[?25h/tools/node/bin/lt -> /tools/node/lib/node_modules/localtunnel/bin/lt.js\n",
      "+ localtunnel@2.0.2\n",
      "added 22 packages from 22 contributors in 2.124s\n"
     ]
    }
   ],
   "source": [
    "# !npm install -g localtunnel"
   ]
  },
  {
   "cell_type": "code",
   "execution_count": 29,
   "id": "44c91a88-e498-4286-9249-d949265c8f03",
   "metadata": {
    "id": "44c91a88-e498-4286-9249-d949265c8f03"
   },
   "outputs": [],
   "source": [
    "from tensorflow.keras.datasets import mnist\n",
    "import matplotlib.pyplot as plt\n",
    "from tensorflow import keras\n",
    "from tensorflow.keras import layers\n",
    "from pathlib import Path\n",
    "import numpy as np\n",
    "import json\n",
    "import mlflow"
   ]
  },
  {
   "cell_type": "code",
   "execution_count": 3,
   "id": "d15b8a35-df07-4834-9c6c-b94c132cf7a4",
   "metadata": {
    "id": "d15b8a35-df07-4834-9c6c-b94c132cf7a4"
   },
   "outputs": [
    {
     "data": {
      "text/plain": [
       "'When creating new experiment'"
      ]
     },
     "execution_count": 3,
     "metadata": {},
     "output_type": "execute_result"
    }
   ],
   "source": [
    "'''When creating new experiment'''\n",
    "# experiment_id = mlflow.create_experiment(\n",
    "#     \"MNIST MLP classifier\", \n",
    "#     artifact_location=Path.cwd().joinpath(\"./mlruns\").as_uri(),\n",
    "#     tags={\"version\":\"v1\", \"priority\":\"P1\"}\n",
    "# )"
   ]
  },
  {
   "cell_type": "code",
   "execution_count": 4,
   "id": "ba5e04ae-60f7-4773-bacf-ce213f1b2222",
   "metadata": {
    "id": "ba5e04ae-60f7-4773-bacf-ce213f1b2222"
   },
   "outputs": [],
   "source": [
    "mlflow.set_tracking_uri(\"sqlite:///mlruns/mlruns.db\")"
   ]
  },
  {
   "cell_type": "code",
   "execution_count": 5,
   "id": "1d9f09fc-8750-4725-98bd-475bd4bc975b",
   "metadata": {
    "colab": {
     "base_uri": "https://localhost:8080/"
    },
    "id": "1d9f09fc-8750-4725-98bd-475bd4bc975b",
    "outputId": "7fafe045-d927-426b-d572-b2908f9cea7a"
   },
   "outputs": [],
   "source": [
    "experiment = mlflow.set_experiment(\"MNIST MLP classifier\")"
   ]
  },
  {
   "cell_type": "code",
   "execution_count": 6,
   "id": "4f8b9c1e-561b-405b-822c-cbcd9c804cde",
   "metadata": {
    "colab": {
     "base_uri": "https://localhost:8080/"
    },
    "id": "4f8b9c1e-561b-405b-822c-cbcd9c804cde",
    "outputId": "b1da3ffe-09ef-4360-f563-e009c1767acb"
   },
   "outputs": [
    {
     "name": "stdout",
     "output_type": "stream",
     "text": [
      "60000\n"
     ]
    }
   ],
   "source": [
    "(train_images,train_labels),(test_images,test_labels) = mnist.load_data()\n",
    "print(len(train_images))"
   ]
  },
  {
   "cell_type": "code",
   "execution_count": 7,
   "id": "f464bed3-99c1-4a4a-85c9-de65501e3e06",
   "metadata": {},
   "outputs": [],
   "source": [
    "optim = \"rmsprop\"\n",
    "epochs = 5\n",
    "batch_size = 128"
   ]
  },
  {
   "cell_type": "code",
   "execution_count": 8,
   "id": "0f4544f5-3cb3-4c4a-9831-c49e90566428",
   "metadata": {
    "id": "0f4544f5-3cb3-4c4a-9831-c49e90566428"
   },
   "outputs": [
    {
     "name": "stderr",
     "output_type": "stream",
     "text": [
      "2022-12-09 13:01:50.556947: W tensorflow/stream_executor/platform/default/dso_loader.cc:64] Could not load dynamic library 'libcuda.so.1'; dlerror: libcuda.so.1: cannot open shared object file: No such file or directory\n",
      "2022-12-09 13:01:50.557363: W tensorflow/stream_executor/cuda/cuda_driver.cc:263] failed call to cuInit: UNKNOWN ERROR (303)\n",
      "2022-12-09 13:01:50.557406: I tensorflow/stream_executor/cuda/cuda_diagnostics.cc:156] kernel driver does not appear to be running on this host (f0a27f9ea0cc): /proc/driver/nvidia/version does not exist\n",
      "2022-12-09 13:01:50.558006: I tensorflow/core/platform/cpu_feature_guard.cc:193] This TensorFlow binary is optimized with oneAPI Deep Neural Network Library (oneDNN) to use the following CPU instructions in performance-critical operations:  AVX2 FMA\n",
      "To enable them in other operations, rebuild TensorFlow with the appropriate compiler flags.\n"
     ]
    }
   ],
   "source": [
    "model = keras.Sequential([layers.Dense(128,activation='relu'),\n",
    "layers.Dense(10,activation='softmax')])\n",
    "model.compile(optimizer=optim,loss='sparse_categorical_crossentropy',metrics=['accuracy'])"
   ]
  },
  {
   "cell_type": "code",
   "execution_count": 9,
   "id": "1762c88c-c308-445a-a202-aacb403f7ee5",
   "metadata": {
    "id": "1762c88c-c308-445a-a202-aacb403f7ee5"
   },
   "outputs": [],
   "source": [
    "train_images = train_images.reshape((60000,28*28))\n",
    "train_images = train_images.astype(\"float32\") / 255\n",
    "test_images = test_images.reshape((10000,28*28))\n",
    "test_images = test_images.astype(\"float32\") / 255"
   ]
  },
  {
   "cell_type": "code",
   "execution_count": 10,
   "id": "2d898d27-74e9-4ddc-b803-076c272466a2",
   "metadata": {
    "colab": {
     "base_uri": "https://localhost:8080/"
    },
    "id": "2d898d27-74e9-4ddc-b803-076c272466a2",
    "outputId": "2bd1d2a8-b69a-418b-904e-0f27d4f6c9d8"
   },
   "outputs": [
    {
     "name": "stderr",
     "output_type": "stream",
     "text": [
      "/usr/local/lib/python3.8/dist-packages/mlflow/utils/autologging_utils/__init__.py:416: FutureWarning: Autologging support for keras >= 2.6.0 has been deprecated and will be removed in a future MLflow release. Use `mlflow.tensorflow.autolog()` instead.\n",
      "  return _autolog(*args, **kwargs)\n",
      "2022/12/09 13:01:56 WARNING mlflow.utils.autologging_utils: Encountered unexpected error during autologging: This model has not yet been built. Build the model first by calling `build()` or by calling the model on a batch of data.\n"
     ]
    },
    {
     "name": "stdout",
     "output_type": "stream",
     "text": [
      "Epoch 1/5\n",
      "469/469 [==============================] - 2s 3ms/step - loss: 0.3305 - accuracy: 0.9086\n",
      "Epoch 2/5\n",
      "469/469 [==============================] - 1s 3ms/step - loss: 0.1583 - accuracy: 0.9543\n",
      "Epoch 3/5\n",
      "469/469 [==============================] - 1s 3ms/step - loss: 0.1134 - accuracy: 0.9674\n",
      "Epoch 4/5\n",
      "469/469 [==============================] - 1s 3ms/step - loss: 0.0879 - accuracy: 0.9745\n",
      "Epoch 5/5\n",
      "469/469 [==============================] - 1s 3ms/step - loss: 0.0721 - accuracy: 0.9786\n",
      "INFO:tensorflow:Assets written to: /tmp/tmpyu0sx8pp/model/data/model/assets\n"
     ]
    },
    {
     "name": "stderr",
     "output_type": "stream",
     "text": [
      "Registered model 'MLP MNIST classifier' already exists. Creating a new version of this model...\n",
      "2022/12/09 13:02:09 INFO mlflow.tracking._model_registry.client: Waiting up to 300 seconds for model version to finish creation.                     Model name: MLP MNIST classifier, version 8\n",
      "Created version '8' of model 'MLP MNIST classifier'.\n"
     ]
    }
   ],
   "source": [
    "with mlflow.start_run(experiment_id=experiment.experiment_id, description=\"MLP model for classifying MNIST hand written digits\", run_name=f\"{optim}-e{epochs}-{batch_size}\") as run:\n",
    "  mlflow.keras.autolog(registered_model_name=\"MLP MNIST classifier\")\n",
    "  history = model.fit(train_images,train_labels,epochs = epochs, batch_size = batch_size)"
   ]
  },
  {
   "cell_type": "code",
   "execution_count": 11,
   "id": "3h2xMP3i6V3o",
   "metadata": {
    "id": "3h2xMP3i6V3o"
   },
   "outputs": [],
   "source": [
    "# get_ipython().system_raw(\"mlflow server --host 0.0.0.0 -p 8000 --backend-store-uri sqlite:///mlruns/mlruns.db --default-artifact-root ./mlruns &\")"
   ]
  },
  {
   "cell_type": "code",
   "execution_count": 12,
   "id": "DugQogoS9CQZ",
   "metadata": {
    "id": "DugQogoS9CQZ"
   },
   "outputs": [],
   "source": [
    "# get_ipython().system_raw('lt --port 8000 >> url.txt 2>&1 &')"
   ]
  },
  {
   "cell_type": "code",
   "execution_count": 13,
   "id": "SVSxf8QS3oe6",
   "metadata": {
    "id": "SVSxf8QS3oe6"
   },
   "outputs": [],
   "source": [
    "# !rm url.txt"
   ]
  },
  {
   "cell_type": "code",
   "execution_count": 14,
   "id": "WFr32LI29I8R",
   "metadata": {
    "colab": {
     "base_uri": "https://localhost:8080/"
    },
    "id": "WFr32LI29I8R",
    "outputId": "06e2a2e1-6c82-45b1-ffc6-33bf2bb245f0"
   },
   "outputs": [],
   "source": [
    "# !cat url.txt"
   ]
  },
  {
   "cell_type": "code",
   "execution_count": 15,
   "id": "bad2d627-4c2b-4513-bced-8a7d36abdfc5",
   "metadata": {
    "id": "bad2d627-4c2b-4513-bced-8a7d36abdfc5"
   },
   "outputs": [
    {
     "name": "stdout",
     "output_type": "stream",
     "text": [
      "1/1 [==============================] - 0s 80ms/step\n"
     ]
    }
   ],
   "source": [
    "test_img = np.expand_dims(test_images[0][:], axis=0)\n",
    "test_labl = test_labels[0]\n",
    "pred_labl = model.predict(test_img)"
   ]
  },
  {
   "cell_type": "code",
   "execution_count": 16,
   "id": "1550aa3d-f0b6-42ec-9db5-7fbd43a76806",
   "metadata": {
    "colab": {
     "base_uri": "https://localhost:8080/"
    },
    "id": "1550aa3d-f0b6-42ec-9db5-7fbd43a76806",
    "outputId": "60eb585f-e423-4dfb-f557-00e2c253e285"
   },
   "outputs": [],
   "source": [
    "# print(f\"Predicted error {test_labl[0] - pred_labl[0].argmax()}\") "
   ]
  },
  {
   "cell_type": "code",
   "execution_count": 17,
   "id": "51ff3dae-171d-4cea-bbba-7a622bb8c3d7",
   "metadata": {
    "id": "51ff3dae-171d-4cea-bbba-7a622bb8c3d7",
    "outputId": "db2a70f2-1e12-4ded-ae1e-a8c0c95b5665"
   },
   "outputs": [],
   "source": [
    "# test_loss, test_accuracy = model.evaluate(test_img,test_labl)\n",
    "# print('Test Loss: ', test_loss)\n",
    "# print('Test Accuracy: ',test_accuracy*100)"
   ]
  },
  {
   "cell_type": "code",
   "execution_count": 18,
   "id": "c1b07c3c-3ee3-49b7-9f2b-024a6f02883e",
   "metadata": {
    "id": "c1b07c3c-3ee3-49b7-9f2b-024a6f02883e",
    "outputId": "a320ba37-67b0-430e-d97a-129e87d0adef"
   },
   "outputs": [
    {
     "name": "stdout",
     "output_type": "stream",
     "text": [
      "313/313 [==============================] - 0s 1ms/step - loss: 0.0864 - accuracy: 0.9742\n",
      "Test Loss:  0.08635642379522324\n",
      "Test Accuracy:  97.42000102996826\n"
     ]
    }
   ],
   "source": [
    "test_loss, test_accuracy = model.evaluate(test_images,test_labels)\n",
    "print('Test Loss: ', test_loss)\n",
    "print('Test Accuracy: ',test_accuracy*100)"
   ]
  },
  {
   "cell_type": "markdown",
   "id": "bb912b2f-39c8-4d72-a685-0d8463037ab1",
   "metadata": {
    "id": "bb912b2f-39c8-4d72-a685-0d8463037ab1"
   },
   "source": [
    "## Loading model for predictions"
   ]
  },
  {
   "cell_type": "code",
   "execution_count": 19,
   "id": "3368df92-c03f-4194-a81a-f08b487bc9f1",
   "metadata": {
    "colab": {
     "base_uri": "https://localhost:8080/",
     "height": 35
    },
    "id": "3368df92-c03f-4194-a81a-f08b487bc9f1",
    "outputId": "5a291ab6-7bda-49ef-9c27-70f328ce7cd2"
   },
   "outputs": [
    {
     "data": {
      "text/plain": [
       "'c4d64dfca658436e86338c7bd25f84be'"
      ]
     },
     "execution_count": 19,
     "metadata": {},
     "output_type": "execute_result"
    }
   ],
   "source": [
    "run.info.run_id"
   ]
  },
  {
   "cell_type": "code",
   "execution_count": 20,
   "id": "5d914092-78b0-4ea6-95db-628d1fd8367b",
   "metadata": {
    "id": "5d914092-78b0-4ea6-95db-628d1fd8367b"
   },
   "outputs": [],
   "source": [
    "keras_model = mlflow.keras.load_model(f\"runs:/{run.info.run_id}\" + \"/model\")"
   ]
  },
  {
   "cell_type": "code",
   "execution_count": 21,
   "id": "7e097b79-851b-4f6c-abc2-9f6060de677a",
   "metadata": {
    "id": "7e097b79-851b-4f6c-abc2-9f6060de677a"
   },
   "outputs": [
    {
     "name": "stdout",
     "output_type": "stream",
     "text": [
      "1/1 [==============================] - 0s 39ms/step\n"
     ]
    }
   ],
   "source": [
    "predictions = keras_model.predict(test_img)"
   ]
  },
  {
   "cell_type": "code",
   "execution_count": 22,
   "id": "c1ba2c64-cf6e-4865-8d49-2176bc3b926e",
   "metadata": {
    "colab": {
     "base_uri": "https://localhost:8080/"
    },
    "id": "c1ba2c64-cf6e-4865-8d49-2176bc3b926e",
    "outputId": "cbb7e46c-5539-4b75-d3d2-1e9d85dd4657"
   },
   "outputs": [
    {
     "data": {
      "text/plain": [
       "7"
      ]
     },
     "execution_count": 22,
     "metadata": {},
     "output_type": "execute_result"
    }
   ],
   "source": [
    "predictions[0].argmax()"
   ]
  },
  {
   "cell_type": "code",
   "execution_count": 23,
   "id": "9879f74d-be7f-4c4e-82fb-425c4682d4ab",
   "metadata": {
    "colab": {
     "base_uri": "https://localhost:8080/"
    },
    "id": "9879f74d-be7f-4c4e-82fb-425c4682d4ab",
    "outputId": "fde3e9ad-3980-4160-baee-9e2da8fab061"
   },
   "outputs": [
    {
     "data": {
      "text/plain": [
       "(784,)"
      ]
     },
     "execution_count": 23,
     "metadata": {},
     "output_type": "execute_result"
    }
   ],
   "source": [
    "test_images[0].shape"
   ]
  },
  {
   "cell_type": "markdown",
   "id": "f59b3b32-56d6-41b1-be2a-0497bb75c326",
   "metadata": {
    "id": "f59b3b32-56d6-41b1-be2a-0497bb75c326"
   },
   "source": [
    "## Infering with served model"
   ]
  },
  {
   "cell_type": "code",
   "execution_count": 24,
   "id": "c378d53c-54db-483f-a7e0-dfff1c57554d",
   "metadata": {
    "tags": []
   },
   "outputs": [
    {
     "name": "stderr",
     "output_type": "stream",
     "text": [
      "/usr/local/lib/python3.8/dist-packages/click/core.py:2309: FutureWarning: `--no-conda` is deprecated and will be removed in a future MLflow release. Use `--env-manager=local` instead.\n",
      "  value = self.callback(ctx, self, value)\n",
      "2022/12/09 13:02:38 INFO mlflow.models.cli: Selected backend for flavor 'python_function'\n",
      "2022/12/09 13:02:38 INFO mlflow.pyfunc.backend: === Running command 'exec gunicorn --timeout=60 -b 127.0.0.1:5000 -w 1 ${GUNICORN_CMD_ARGS} -- mlflow.pyfunc.scoring_server.wsgi:app'\n",
      "[2022-12-09 13:02:38 +0000] [562] [INFO] Starting gunicorn 20.1.0\n",
      "[2022-12-09 13:02:38 +0000] [562] [INFO] Listening at: http://127.0.0.1:5000 (562)\n",
      "[2022-12-09 13:02:38 +0000] [562] [INFO] Using worker: sync\n",
      "[2022-12-09 13:02:38 +0000] [564] [INFO] Booting worker with pid: 564\n",
      "2022-12-09 13:02:39.791466: I tensorflow/core/platform/cpu_feature_guard.cc:193] This TensorFlow binary is optimized with oneAPI Deep Neural Network Library (oneDNN) to use the following CPU instructions in performance-critical operations:  AVX2 FMA\n",
      "To enable them in other operations, rebuild TensorFlow with the appropriate compiler flags.\n",
      "2022-12-09 13:02:39.936547: W tensorflow/stream_executor/platform/default/dso_loader.cc:64] Could not load dynamic library 'libcudart.so.11.0'; dlerror: libcudart.so.11.0: cannot open shared object file: No such file or directory\n",
      "2022-12-09 13:02:39.936630: I tensorflow/stream_executor/cuda/cudart_stub.cc:29] Ignore above cudart dlerror if you do not have a GPU set up on your machine.\n",
      "2022-12-09 13:02:39.964878: E tensorflow/stream_executor/cuda/cuda_blas.cc:2981] Unable to register cuBLAS factory: Attempting to register factory for plugin cuBLAS when one has already been registered\n",
      "2022-12-09 13:02:40.667302: W tensorflow/stream_executor/platform/default/dso_loader.cc:64] Could not load dynamic library 'libnvinfer.so.7'; dlerror: libnvinfer.so.7: cannot open shared object file: No such file or directory\n",
      "2022-12-09 13:02:40.667397: W tensorflow/stream_executor/platform/default/dso_loader.cc:64] Could not load dynamic library 'libnvinfer_plugin.so.7'; dlerror: libnvinfer_plugin.so.7: cannot open shared object file: No such file or directory\n",
      "2022-12-09 13:02:40.667407: W tensorflow/compiler/tf2tensorrt/utils/py_utils.cc:38] TF-TRT Warning: Cannot dlopen some TensorRT libraries. If you would like to use Nvidia GPU with TensorRT, please make sure the missing libraries mentioned above are installed properly.\n",
      "2022-12-09 13:02:41.407281: W tensorflow/stream_executor/platform/default/dso_loader.cc:64] Could not load dynamic library 'libcuda.so.1'; dlerror: libcuda.so.1: cannot open shared object file: No such file or directory\n",
      "2022-12-09 13:02:41.407333: W tensorflow/stream_executor/cuda/cuda_driver.cc:263] failed call to cuInit: UNKNOWN ERROR (303)\n",
      "2022-12-09 13:02:41.407351: I tensorflow/stream_executor/cuda/cuda_diagnostics.cc:156] kernel driver does not appear to be running on this host (f0a27f9ea0cc): /proc/driver/nvidia/version does not exist\n",
      "2022-12-09 13:02:41.407562: I tensorflow/core/platform/cpu_feature_guard.cc:193] This TensorFlow binary is optimized with oneAPI Deep Neural Network Library (oneDNN) to use the following CPU instructions in performance-critical operations:  AVX2 FMA\n",
      "To enable them in other operations, rebuild TensorFlow with the appropriate compiler flags.\n"
     ]
    }
   ],
   "source": [
    "get_ipython().system_raw(f\"mlflow models serve --model-uri mlruns/{experiment.experiment_id}/{run.info.run_id}/artifacts/model --no-conda &\")"
   ]
  },
  {
   "cell_type": "code",
   "execution_count": 25,
   "id": "261ed65c-aca5-491d-a556-701ee6cedf37",
   "metadata": {
    "id": "261ed65c-aca5-491d-a556-701ee6cedf37"
   },
   "outputs": [],
   "source": [
    "import requests\n",
    "import json\n",
    "import numpy as np"
   ]
  },
  {
   "cell_type": "code",
   "execution_count": 26,
   "id": "98e73761-31a7-41b1-9e88-16fd322a3062",
   "metadata": {
    "id": "98e73761-31a7-41b1-9e88-16fd322a3062"
   },
   "outputs": [],
   "source": [
    "json_data = {'data': np.expand_dims(test_images[0], axis=0).tolist()}"
   ]
  },
  {
   "cell_type": "code",
   "execution_count": 27,
   "id": "8c4851c8-da59-4e02-8690-acddf7df984c",
   "metadata": {
    "id": "8c4851c8-da59-4e02-8690-acddf7df984c",
    "outputId": "00fca20d-1aeb-43e3-983d-6155e62f0518",
    "tags": []
   },
   "outputs": [
    {
     "name": "stdout",
     "output_type": "stream",
     "text": [
      "1/1 [==============================] - 0s 71ms/step\n",
      "[{\"0\": 5.624719179309068e-08, \"1\": 1.4245428170411856e-09, \"2\": 0.0001184048960567452, \"3\": 0.0011782062938436866, \"4\": 1.6664601920624023e-09, \"5\": 1.4434417607844807e-06, \"6\": 1.701980778534562e-10, \"7\": 0.9986528158187866, \"8\": 2.7376670459489105e-06, \"9\": 4.6316399675561115e-05}]\n"
     ]
    }
   ],
   "source": [
    "headers = {'Content-type': 'application/json'}\n",
    "res = requests.post('http://127.0.0.1:5000/invocations', headers=headers, data=json.dumps(json_data))\n",
    "print(res.text)"
   ]
  },
  {
   "cell_type": "code",
   "execution_count": 31,
   "id": "914ac685-8969-411e-867e-d3f79e23c717",
   "metadata": {},
   "outputs": [],
   "source": [
    "res_json = json.loads(res.text)"
   ]
  },
  {
   "cell_type": "code",
   "execution_count": 39,
   "id": "1488e4cd-8168-4bfd-8b9e-5ad416388ce1",
   "metadata": {},
   "outputs": [
    {
     "data": {
      "text/plain": [
       "'7'"
      ]
     },
     "execution_count": 39,
     "metadata": {},
     "output_type": "execute_result"
    }
   ],
   "source": [
    "max(res_json[0], key=res_json[0].get)"
   ]
  }
 ],
 "metadata": {
  "colab": {
   "provenance": []
  },
  "kernelspec": {
   "display_name": "Python 3 (ipykernel)",
   "language": "python",
   "name": "python3"
  },
  "language_info": {
   "codemirror_mode": {
    "name": "ipython",
    "version": 3
   },
   "file_extension": ".py",
   "mimetype": "text/x-python",
   "name": "python",
   "nbconvert_exporter": "python",
   "pygments_lexer": "ipython3",
   "version": "3.8.10"
  },
  "vscode": {
   "interpreter": {
    "hash": "1cca9558bc5ad879ec93cc030b157d75f18267527c60932cecaace349eef54dd"
   }
  }
 },
 "nbformat": 4,
 "nbformat_minor": 5
}
