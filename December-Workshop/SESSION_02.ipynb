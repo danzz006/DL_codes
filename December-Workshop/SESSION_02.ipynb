{
  "cells": [
    {
      "cell_type": "markdown",
      "id": "2c3418df",
      "metadata": {
        "id": "2c3418df"
      },
      "source": [
        "# Session 02 "
      ]
    },
    {
      "cell_type": "markdown",
      "id": "ea3d60ed",
      "metadata": {
        "id": "ea3d60ed"
      },
      "source": [
        "## Intro to Python <table class=\"tfo-notebook-buttons\" align=\"right\" style=\"margin-top:-55px\">\n",
        "  <td>\n",
        "      <a target=\"_blank\" href=\"https://www.python.org/doc/\"><img src=\"https://external-content.duckduckgo.com/iu/?u=https%3A%2F%2Fwww.baptiste-donaux.fr%2Fpackager-application-python-avec-dependances%2Fpython.png&f=1&nofb=1\"  width=\"60\" height=\"50\" /><p style='margin-left:8px'>PYTHON</p></a>\n",
        "  </td>\n",
        " </table>"
      ]
    },
    {
      "cell_type": "code",
      "source": [
        "# !git clone https://github.com/FawadAbbas12/Workshop_ses1/ \n",
        "# !mv Workshop_ses1 res"
      ],
      "metadata": {
        "id": "lnYyKGWkq4RF"
      },
      "id": "lnYyKGWkq4RF",
      "execution_count": 142,
      "outputs": []
    },
    {
      "cell_type": "markdown",
      "id": "23c86101",
      "metadata": {
        "heading_collapsed": true,
        "id": "23c86101"
      },
      "source": [
        "## Data type 🏛\n",
        "Python has the following data types built-in by default, in these categories        \n",
        "```\n",
        "    Text Type     : str\n",
        "    Numeric Types : int, float, complex\n",
        "    Sequence Types: list, tuple, range\n",
        "    Mapping Type  : dict\n",
        "    Set Types     : set, frozenset\n",
        "    Boolean Type  : bool\n",
        "    Binary Types  : bytes, bytearray, memoryview\n",
        "```"
      ]
    },
    {
      "cell_type": "code",
      "execution_count": 143,
      "id": "e0b4a467",
      "metadata": {
        "ExecuteTime": {
          "end_time": "2022-01-06T04:26:46.783141Z",
          "start_time": "2022-01-06T04:26:46.781267Z"
        },
        "hidden": true,
        "id": "e0b4a467"
      },
      "outputs": [],
      "source": [
        "prompt = 'Enter your name:'\n",
        "message = str('Invalid option')\n",
        "\n",
        "number = 3\n",
        "array_index = int(32)\n",
        "\n",
        "circle_area = 45.356\n",
        "temperature = float(30.55)"
      ]
    },
    {
      "cell_type": "code",
      "source": [
        "array = [1, 2, 3]\n",
        "emptyArray = []\n",
        "alsoEmptyArray = list()\n",
        "\n",
        "length_and_area = (45, 300.456)\n",
        "coordinates = tuple((32, 45, 100))\n",
        "# coordinates.index(32, 0, 1)\n",
        "\n",
        "cellphone_dictionary ={\n",
        "    \"khan\":3245332,\n",
        "    \"MR X.\":000000\n",
        "}"
      ],
      "metadata": {
        "id": "tN6mMwmB9dXH"
      },
      "id": "tN6mMwmB9dXH",
      "execution_count": 144,
      "outputs": []
    },
    {
      "cell_type": "markdown",
      "id": "d4b541b8",
      "metadata": {
        "heading_collapsed": true,
        "hidden": true,
        "id": "d4b541b8"
      },
      "source": [
        "### Get datatype of variable \n",
        "  to get data type of a variable pytoh have a built in function named type<br>\n",
        "  <code> <b><i>type(obj)</code></i></b><br>\n",
        "  obj = object for which data type is to be verified"
      ]
    },
    {
      "cell_type": "code",
      "execution_count": 145,
      "id": "9f9266e6",
      "metadata": {
        "ExecuteTime": {
          "end_time": "2022-01-06T04:26:49.438679Z",
          "start_time": "2022-01-06T04:26:49.436068Z"
        },
        "hidden": true,
        "id": "9f9266e6",
        "colab": {
          "base_uri": "https://localhost:8080/"
        },
        "outputId": "e1d54e85-5055-4b1d-d3b4-9b8811eaaf23"
      },
      "outputs": [
        {
          "output_type": "stream",
          "name": "stdout",
          "text": [
            "<class 'dict'>\n"
          ]
        }
      ],
      "source": [
        "print(type(cellphone_dictionary))"
      ]
    },
    {
      "cell_type": "markdown",
      "id": "820f54cd",
      "metadata": {
        "heading_collapsed": true,
        "hidden": true,
        "id": "820f54cd"
      },
      "source": [
        "### Get list of member functions \n",
        "  <code> <b><i>dir(obj)</code></i></b><br>\n",
        "  <i><b>dir<i></b> is a python3's bulitin function whihc iterates over all member functions and prints their names. <br>\n",
        "    one simple trick of ide can be used to get immidiate information about object by hovering over it pressing <code> tab</code> or <code> shift + tab </code> or in colab you can also use <code> Ctrl + space </code>\n"
      ]
    },
    {
      "cell_type": "code",
      "execution_count": 146,
      "id": "4efe46b1",
      "metadata": {
        "ExecuteTime": {
          "end_time": "2022-01-06T04:56:51.420540Z",
          "start_time": "2022-01-06T04:56:51.414282Z"
        },
        "collapsed": true,
        "hidden": true,
        "id": "4efe46b1",
        "colab": {
          "base_uri": "https://localhost:8080/"
        },
        "outputId": "5b867c36-bd9c-417b-e827-8b77ed0d22d6"
      },
      "outputs": [
        {
          "output_type": "execute_result",
          "data": {
            "text/plain": [
              "['__class__',\n",
              " '__contains__',\n",
              " '__delattr__',\n",
              " '__delitem__',\n",
              " '__dir__',\n",
              " '__doc__',\n",
              " '__eq__',\n",
              " '__format__',\n",
              " '__ge__',\n",
              " '__getattribute__',\n",
              " '__getitem__',\n",
              " '__gt__',\n",
              " '__hash__',\n",
              " '__init__',\n",
              " '__init_subclass__',\n",
              " '__iter__',\n",
              " '__le__',\n",
              " '__len__',\n",
              " '__lt__',\n",
              " '__ne__',\n",
              " '__new__',\n",
              " '__reduce__',\n",
              " '__reduce_ex__',\n",
              " '__repr__',\n",
              " '__setattr__',\n",
              " '__setitem__',\n",
              " '__sizeof__',\n",
              " '__str__',\n",
              " '__subclasshook__',\n",
              " 'clear',\n",
              " 'copy',\n",
              " 'fromkeys',\n",
              " 'get',\n",
              " 'items',\n",
              " 'keys',\n",
              " 'pop',\n",
              " 'popitem',\n",
              " 'setdefault',\n",
              " 'update',\n",
              " 'values']"
            ]
          },
          "metadata": {},
          "execution_count": 146
        }
      ],
      "source": [
        "dir(cellphone_dictionary)"
      ]
    },
    {
      "cell_type": "markdown",
      "id": "94c5ee49",
      "metadata": {
        "heading_collapsed": true,
        "id": "94c5ee49"
      },
      "source": [
        "## Conditions and loops ↪ 🏃"
      ]
    },
    {
      "cell_type": "markdown",
      "id": "5c533439",
      "metadata": {
        "heading_collapsed": true,
        "hidden": true,
        "id": "5c533439"
      },
      "source": [
        "### Conditions 👍 🙅\n",
        "    Equals    : a == b\n",
        "    Not Equals: a != b\n",
        "    Less than : a < b\n",
        "    Greater than: a > b\n",
        "    Less than or equal to   : a <= b\n",
        "    Greater than or equal to: a >= b\n",
        "    and operator: and\n",
        "    or operator : or\n"
      ]
    },
    {
      "cell_type": "code",
      "execution_count": 147,
      "id": "52c012f6",
      "metadata": {
        "ExecuteTime": {
          "end_time": "2022-01-06T05:12:44.318050Z",
          "start_time": "2022-01-06T05:12:44.315610Z"
        },
        "hidden": true,
        "id": "52c012f6",
        "colab": {
          "base_uri": "https://localhost:8080/"
        },
        "outputId": "9eb3eb0f-732c-4d1a-a354-07366a68c5c6"
      },
      "outputs": [
        {
          "output_type": "stream",
          "name": "stdout",
          "text": [
            "a is less than b\n"
          ]
        }
      ],
      "source": [
        "a = 1\n",
        "b = 2\n",
        "if (a < b):\n",
        "    print('a is less than b')\n",
        "    # print(f'{a} is less than {b}')\n",
        "# else:\n",
        "#     print(f'{a} is grater than {b}')\n",
        "\n",
        "#######################################\n",
        "# exercise 1 uncomment line# 5        #\n",
        "#######################################\n",
        "\n",
        "#######################################\n",
        "# exercise 2 uncomment line# 5~8      #\n",
        "#######################################"
      ]
    },
    {
      "cell_type": "code",
      "execution_count": 148,
      "id": "dc595819",
      "metadata": {
        "ExecuteTime": {
          "end_time": "2022-01-06T05:10:07.835760Z",
          "start_time": "2022-01-06T05:10:07.801767Z"
        },
        "hidden": true,
        "id": "dc595819",
        "colab": {
          "base_uri": "https://localhost:8080/"
        },
        "outputId": "56b9b483-bacf-4888-d606-7a3717aa2d2a"
      },
      "outputs": [
        {
          "output_type": "stream",
          "name": "stdout",
          "text": [
            "3 is the biggest number\n"
          ]
        }
      ],
      "source": [
        "# if else ladder \n",
        "a, b, c = (1,2,3)\n",
        "biggest = -1\n",
        "if a > b and a > c:\n",
        "    biggest = a\n",
        "elif b > c:\n",
        "    biggest = b\n",
        "else:\n",
        "    biggest = c\n",
        "print(f'{biggest} is the biggest number')\n",
        "#######################################################\n",
        "# Chellange Change this code to print smallest Number #\n",
        "#######################################################"
      ]
    },
    {
      "cell_type": "code",
      "source": [
        "# short hand notation\n",
        "_str = f'{a} is {\"grater\" if a>b else \"less\"} than {b}'\n",
        "print(_str)"
      ],
      "metadata": {
        "id": "-V_VGIvZHNWy",
        "colab": {
          "base_uri": "https://localhost:8080/"
        },
        "outputId": "cdf8566d-6d6c-4d79-f58b-348040a587e0"
      },
      "id": "-V_VGIvZHNWy",
      "execution_count": 149,
      "outputs": [
        {
          "output_type": "stream",
          "name": "stdout",
          "text": [
            "1 is less than 2\n"
          ]
        }
      ]
    },
    {
      "cell_type": "markdown",
      "source": [
        "## Lists and dictionaries 📔"
      ],
      "metadata": {
        "id": "vcrlgTg_OqEN"
      },
      "id": "vcrlgTg_OqEN"
    },
    {
      "cell_type": "markdown",
      "source": [
        "Lists enable you to store a set of items in place. Lists take the form of arrays in other languages like Java.\n",
        "\n",
        "A list in Python is created using the following syntax:\n",
        "<br><code> listname = [item1, item2, item3, ...]</code>"
      ],
      "metadata": {
        "id": "l4bqf8pMYN2P"
      },
      "id": "l4bqf8pMYN2P"
    },
    {
      "cell_type": "code",
      "source": [
        "aiProblmodelems = ['Classification', 'Regression', 'clustering', 'segmentatoin', 'signalprocessing']\n",
        "print(aiProblmodelems)"
      ],
      "metadata": {
        "id": "DNJ-iSRoOrdG",
        "colab": {
          "base_uri": "https://localhost:8080/"
        },
        "outputId": "15e12b94-9595-473f-a160-beade17d3499"
      },
      "id": "DNJ-iSRoOrdG",
      "execution_count": 150,
      "outputs": [
        {
          "output_type": "stream",
          "name": "stdout",
          "text": [
            "['Classification', 'Regression', 'clustering', 'segmentatoin', 'signalprocessing']\n"
          ]
        }
      ]
    },
    {
      "cell_type": "code",
      "source": [
        "# access list item\n",
        "modelOptimizers = ['Adamax', 'Adam', 'sgd', 'adabost']\n",
        "print(modelOptimizers[0])\n",
        "\n",
        "print(modelOptimizers[-1])\n",
        "\n",
        "modelOptimizers.append('Adagrad') \n",
        "print(modelOptimizers)\n",
        "\n",
        "modelOptimizers.insert(2,'RMSprop') \n",
        "print(modelOptimizers)\n",
        "\n",
        "modelOptimizers.remove('adabost') \n",
        "print(modelOptimizers)\n",
        "\n"
      ],
      "metadata": {
        "id": "D_NlgjjqYgDM",
        "colab": {
          "base_uri": "https://localhost:8080/"
        },
        "outputId": "14aa95d2-2afb-4ee2-d586-92e7c854ecd7"
      },
      "id": "D_NlgjjqYgDM",
      "execution_count": 151,
      "outputs": [
        {
          "output_type": "stream",
          "name": "stdout",
          "text": [
            "Adamax\n",
            "adabost\n",
            "['Adamax', 'Adam', 'sgd', 'adabost', 'Adagrad']\n",
            "['Adamax', 'Adam', 'RMSprop', 'sgd', 'adabost', 'Adagrad']\n",
            "['Adamax', 'Adam', 'RMSprop', 'sgd', 'Adagrad']\n"
          ]
        }
      ]
    },
    {
      "cell_type": "markdown",
      "source": [
        "### Slicing a list\n",
        "To derive a segment, you need to specify the index of the first element and where to stop slicing.\n",
        "\n",
        "In Python, we use a colon(:) as a slicing operator. Slicing follows the following syntax.<br>\n",
        "<code> list_name[Index_start:Index_end] </code>\n"
      ],
      "metadata": {
        "id": "kUTVC4trZhFU"
      },
      "id": "kUTVC4trZhFU"
    },
    {
      "cell_type": "code",
      "source": [
        "    layers = ['Dense', 'conv2d', 'Activation', 'batchNorm', 'Dropout']\n",
        "    print(layers[0:3])\n",
        "    print(layers[:3]) \n",
        "    print(layers[3:])\n",
        "    \n",
        "#######################################################\n",
        "# exercise 1: list items including index 2 and 4      #\n",
        "# Hint:                                               #\n",
        "#      last number in range is not included           #\n",
        "#######################################################"
      ],
      "metadata": {
        "id": "96Fp8iCRYfqS",
        "colab": {
          "base_uri": "https://localhost:8080/"
        },
        "outputId": "4e8c36d4-ceb9-4f5e-b7c2-29df7e8aaa1b"
      },
      "id": "96Fp8iCRYfqS",
      "execution_count": 152,
      "outputs": [
        {
          "output_type": "stream",
          "name": "stdout",
          "text": [
            "['Dense', 'conv2d', 'Activation']\n",
            "['Dense', 'conv2d', 'Activation']\n",
            "['batchNorm', 'Dropout']\n"
          ]
        }
      ]
    },
    {
      "cell_type": "markdown",
      "source": [
        "# Dictionaries\n",
        "Dictionaries are used to store data values in key:value pairs.\n",
        "A dictionary is a collection which is ordered*, changeable and do not allow duplicates.\n",
        "\n",
        "    dict = {\n",
        "        \"key\": \"value\",\n",
        "        \"string\": \"Name\",\n",
        "        \"number\": 40,\n",
        "        \"list \" : [item1, item2, ....]\n",
        "        \"dict \" : {'key', 'value'}\n",
        "    }"
      ],
      "metadata": {
        "id": "fD4jZzPiaumS"
      },
      "id": "fD4jZzPiaumS"
    },
    {
      "cell_type": "code",
      "source": [
        "modelOutputLog =\t{\n",
        "   \"lossFunctoin\" : \"Categorical Cross Entrpy\", \n",
        "   \"ModelAccuracy\": 0.932,\n",
        "   \"ModelLoss\"   : 0.231,\n",
        "   \"ValidatoinLoss\": 0.321\n",
        "\n",
        "}\n",
        "print(modelOutputLog)"
      ],
      "metadata": {
        "id": "KcLN3q61YfP7",
        "colab": {
          "base_uri": "https://localhost:8080/"
        },
        "outputId": "66e032f9-881c-4e90-a8af-e5a98eea1bb1"
      },
      "id": "KcLN3q61YfP7",
      "execution_count": 153,
      "outputs": [
        {
          "output_type": "stream",
          "name": "stdout",
          "text": [
            "{'lossFunctoin': 'Categorical Cross Entrpy', 'ModelAccuracy': 0.932, 'ModelLoss': 0.231, 'ValidatoinLoss': 0.321}\n"
          ]
        }
      ]
    },
    {
      "cell_type": "code",
      "source": [
        "#accessing dictionary items\n",
        "print(modelOutputLog[\"lossFunctoin\"])\n",
        "print(modelOutputLog.items())\n",
        "print(modelOutputLog.keys())\n",
        "print(modelOutputLog.values())"
      ],
      "metadata": {
        "id": "Nyc7h7fBaBIN",
        "colab": {
          "base_uri": "https://localhost:8080/"
        },
        "outputId": "0551b365-f746-4bc5-8ffa-1d257977fb03"
      },
      "id": "Nyc7h7fBaBIN",
      "execution_count": 154,
      "outputs": [
        {
          "output_type": "stream",
          "name": "stdout",
          "text": [
            "Categorical Cross Entrpy\n",
            "dict_items([('lossFunctoin', 'Categorical Cross Entrpy'), ('ModelAccuracy', 0.932), ('ModelLoss', 0.231), ('ValidatoinLoss', 0.321)])\n",
            "dict_keys(['lossFunctoin', 'ModelAccuracy', 'ModelLoss', 'ValidatoinLoss'])\n",
            "dict_values(['Categorical Cross Entrpy', 0.932, 0.231, 0.321])\n"
          ]
        }
      ]
    },
    {
      "cell_type": "code",
      "source": [
        "# update dictionary items\n",
        "modelOutputLog.update({\"name\": \"Resnet\"})\n",
        "print(modelOutputLog)\n",
        "#delete item from dictionary \n",
        "del modelOutputLog['ModelAccuracy']\n",
        "print(modelOutputLog)"
      ],
      "metadata": {
        "id": "GL5HpltcaAsz",
        "colab": {
          "base_uri": "https://localhost:8080/"
        },
        "outputId": "021c4edb-28be-4de9-ef0d-e7227d77942f"
      },
      "id": "GL5HpltcaAsz",
      "execution_count": 155,
      "outputs": [
        {
          "output_type": "stream",
          "name": "stdout",
          "text": [
            "{'lossFunctoin': 'Categorical Cross Entrpy', 'ModelAccuracy': 0.932, 'ModelLoss': 0.231, 'ValidatoinLoss': 0.321, 'name': 'Resnet'}\n",
            "{'lossFunctoin': 'Categorical Cross Entrpy', 'ModelLoss': 0.231, 'ValidatoinLoss': 0.321, 'name': 'Resnet'}\n"
          ]
        }
      ]
    },
    {
      "cell_type": "code",
      "source": [
        "#iterate over dictionary\n",
        "for key, item in modelOutputLog.items():\n",
        "    print(f'modelOutputLog[\"{key}\"] = {item}')"
      ],
      "metadata": {
        "id": "YMnsqZbpdL2c",
        "colab": {
          "base_uri": "https://localhost:8080/"
        },
        "outputId": "c367c036-2aa5-4436-bcc8-07992a4d5e1f"
      },
      "id": "YMnsqZbpdL2c",
      "execution_count": 156,
      "outputs": [
        {
          "output_type": "stream",
          "name": "stdout",
          "text": [
            "modelOutputLog[\"lossFunctoin\"] = Categorical Cross Entrpy\n",
            "modelOutputLog[\"ModelLoss\"] = 0.231\n",
            "modelOutputLog[\"ValidatoinLoss\"] = 0.321\n",
            "modelOutputLog[\"name\"] = Resnet\n"
          ]
        }
      ]
    },
    {
      "cell_type": "code",
      "source": [
        "#Nested Dictionaries \n",
        "multiOutputModelLog={\n",
        "    'loss_function':{\n",
        "        'brach1':\"CCE\",\n",
        "        'brach2':\"MSE\",\n",
        "        'brach3':\"BCE\",\n",
        "        }, \n",
        "    'loss':{\n",
        "        'brach1':.0356,\n",
        "        'brach2':.0756,\n",
        "        'brach3':.0056,\n",
        "        },\n",
        "    'val_loss':{\n",
        "        'brach1':.0356,\n",
        "        'brach2':.0756,\n",
        "        'brach3':.0056,\n",
        "        },\n",
        "    'accuracy':{\n",
        "        'brach1':.9235,\n",
        "        'brach2':.6234,\n",
        "        'brach3':.5423,\n",
        "        }\n",
        "}\n",
        "print(multiOutputModelLog)\n",
        "\n",
        "#######################################################\n",
        "# exercise 1: print loss  for 3rd branch              #\n",
        "# Hint:                                               #\n",
        "#      you may need to use multiple []                #\n",
        "#######################################################"
      ],
      "metadata": {
        "id": "IPil7yQOiYCf",
        "colab": {
          "base_uri": "https://localhost:8080/"
        },
        "outputId": "e8e4bd7b-b26a-4a4b-f5f1-a693bdc8557c"
      },
      "id": "IPil7yQOiYCf",
      "execution_count": 157,
      "outputs": [
        {
          "output_type": "stream",
          "name": "stdout",
          "text": [
            "{'loss_function': {'brach1': 'CCE', 'brach2': 'MSE', 'brach3': 'BCE'}, 'loss': {'brach1': 0.0356, 'brach2': 0.0756, 'brach3': 0.0056}, 'val_loss': {'brach1': 0.0356, 'brach2': 0.0756, 'brach3': 0.0056}, 'accuracy': {'brach1': 0.9235, 'brach2': 0.6234, 'brach3': 0.5423}}\n"
          ]
        }
      ]
    },
    {
      "cell_type": "markdown",
      "id": "43a92c14",
      "metadata": {
        "heading_collapsed": true,
        "hidden": true,
        "id": "43a92c14"
      },
      "source": [
        "### Loops 🔄\n",
        "Python have two major loops <br><br>\n",
        "    <code> For Loop </code><br>\n",
        "        &emsp; for (place holders ) in (range, list, iterator):<br>\n",
        "            &emsp;&emsp;&emsp;do action<br>\n",
        "            \n",
        "<code> While Loop </code><br>\n",
        "    &emsp; while condition:<br>\n",
        "            &emsp;&emsp;&emsp;do action<br>"
      ]
    },
    {
      "cell_type": "markdown",
      "source": [
        "### for loop"
      ],
      "metadata": {
        "id": "6KVeXyyeCiT7"
      },
      "id": "6KVeXyyeCiT7"
    },
    {
      "cell_type": "code",
      "execution_count": 158,
      "id": "ea4aaacf",
      "metadata": {
        "ExecuteTime": {
          "end_time": "2022-01-06T05:32:06.868269Z",
          "start_time": "2022-01-06T05:32:06.865191Z"
        },
        "hidden": true,
        "id": "ea4aaacf",
        "colab": {
          "base_uri": "https://localhost:8080/"
        },
        "outputId": "9fbd38df-4e60-4d1b-f75b-a1d18e280c44"
      },
      "outputs": [
        {
          "output_type": "stream",
          "name": "stdout",
          "text": [
            "2, 5, 8, 11, 14, 17, 20, 23, 26, 29, "
          ]
        }
      ],
      "source": [
        "# range is a python's builtin function which returnes a list of numbers \n",
        "# in the given range it takes 3 arguments which are as following\n",
        "# arg1: starting_Point  arg2: end_point   arg_3: Step_size\n",
        "\n",
        "for x in range(2, 30, 3):\n",
        "  print(x, end=', ')\n",
        "\n",
        "#######################################################\n",
        "# exercise 1: change above given loop to only print   #\n",
        "# even numbers between 4 and 100                      #\n",
        "# Hint:                                               #\n",
        "#      start from 4 and increment wiht 2              #\n",
        "#######################################################\n",
        "\n",
        "#######################################################\n",
        "# exercise 2: uncomment line number 12~15 and rerun   #\n",
        "# Hint:                                               #\n",
        "#      zip is used to merge multiple iterators into   #\n",
        "#      one single iteratr wiht valued mapeed on index #    \n",
        "#######################################################\n",
        "\n",
        "# fruits = [\"apple\", \"banana\", \"cherry\", \"kiwi\", \"mango\"]\n",
        "# prices  = [1,2,3,4,5]\n",
        "# for fruit, price in zip(fruits, prices):\n",
        "#     print(f\"{fruit} is sold for {price}\")"
      ]
    },
    {
      "cell_type": "markdown",
      "source": [
        "#### Continue and Break "
      ],
      "metadata": {
        "id": "uaovD2kuCbd6"
      },
      "id": "uaovD2kuCbd6"
    },
    {
      "cell_type": "code",
      "source": [
        ""
      ],
      "metadata": {
        "id": "bZhm8qQfH09S"
      },
      "id": "bZhm8qQfH09S",
      "execution_count": 158,
      "outputs": []
    },
    {
      "cell_type": "markdown",
      "source": [
        "### while Loop"
      ],
      "metadata": {
        "id": "RlxhrxvVClgS"
      },
      "id": "RlxhrxvVClgS"
    },
    {
      "cell_type": "code",
      "execution_count": 159,
      "id": "bfe3f91f",
      "metadata": {
        "ExecuteTime": {
          "end_time": "2022-01-06T05:36:15.808670Z",
          "start_time": "2022-01-06T05:36:11.315039Z"
        },
        "hidden": true,
        "id": "bfe3f91f",
        "colab": {
          "base_uri": "https://localhost:8080/"
        },
        "outputId": "672bf1e2-9df8-4d67-9b75-53262c265a74"
      },
      "outputs": [
        {
          "name": "stdout",
          "output_type": "stream",
          "text": [
            "Enter a +ve number or -ve/0 to end -9\n"
          ]
        }
      ],
      "source": [
        "number = 1\n",
        "while int(number) > 0:\n",
        "    number = input(\"Enter a +ve number or -ve/0 to end \")\n",
        "# else:\n",
        "#     print(\"so it finally end.\" )\n",
        "\n",
        "###################################################\n",
        "# Challenge1: uncomment line number 4&5 and rerun #\n",
        "# Challenge2: update loop to also exit for number #\n",
        "# bigger than 20.                                 # \n",
        "# Hint use 'and' or break statement               #\n",
        "###################################################"
      ]
    },
    {
      "cell_type": "markdown",
      "id": "68845406",
      "metadata": {
        "heading_collapsed": true,
        "hidden": true,
        "id": "68845406"
      },
      "source": [
        "### List Comprehention"
      ]
    },
    {
      "cell_type": "code",
      "execution_count": 160,
      "id": "46c629cc",
      "metadata": {
        "ExecuteTime": {
          "end_time": "2022-01-06T04:59:22.284733Z",
          "start_time": "2022-01-06T04:59:22.263173Z"
        },
        "hidden": true,
        "id": "46c629cc",
        "colab": {
          "base_uri": "https://localhost:8080/"
        },
        "outputId": "259ba9da-4c8f-4b74-c251-a4940b9917fd"
      },
      "outputs": [
        {
          "output_type": "stream",
          "name": "stdout",
          "text": [
            "['apple', 'banana', 'mango']\n"
          ]
        }
      ],
      "source": [
        "fruits = [\"apple\", \"banana\", \"cherry\", \"kiwi\", \"mango\"]\n",
        "newlist = []\n",
        "for x in fruits:\n",
        "  if \"a\" in x:\n",
        "    newlist.append(x)\n",
        "print(newlist) "
      ]
    },
    {
      "cell_type": "code",
      "execution_count": 161,
      "id": "0cac8023",
      "metadata": {
        "hidden": true,
        "id": "0cac8023",
        "colab": {
          "base_uri": "https://localhost:8080/"
        },
        "outputId": "45057633-5cb9-4bf7-f445-49f8290544eb"
      },
      "outputs": [
        {
          "output_type": "stream",
          "name": "stdout",
          "text": [
            "['apple', 'banana', 'mango']\n"
          ]
        }
      ],
      "source": [
        "fruits = [\"apple\", \"banana\", \"cherry\", \"kiwi\", \"mango\"]\n",
        "newlist = [x for x in fruits if \"a\" in x]\n",
        "print(newlist) "
      ]
    },
    {
      "cell_type": "markdown",
      "id": "d30752d5",
      "metadata": {
        "heading_collapsed": true,
        "id": "d30752d5"
      },
      "source": [
        "## Functions \n",
        "A function is a block of code which only runs when it is called.<br>\n",
        "You can pass data, known as parameters, into a function.<br>\n",
        "A function may and maynot return data as a result.<br>\n",
        "\n",
        "<b>Syntax</b><br>\n",
        "\n",
        "    def functionName(parameters .....):\n",
        "        do action                      \n",
        "        return data "
      ]
    },
    {
      "cell_type": "code",
      "execution_count": 162,
      "id": "5c649088",
      "metadata": {
        "ExecuteTime": {
          "end_time": "2022-01-06T05:52:44.718786Z",
          "start_time": "2022-01-06T05:52:44.716353Z"
        },
        "hidden": true,
        "id": "5c649088",
        "colab": {
          "base_uri": "https://localhost:8080/"
        },
        "outputId": "ce6901ec-3529-4cfb-8aa6-94ad2ba55e45"
      },
      "outputs": [
        {
          "output_type": "stream",
          "name": "stdout",
          "text": [
            "[ DBG ] [1641749495.9886582] hello\n",
            "[ DBG ] hello\n"
          ]
        }
      ],
      "source": [
        "def print_n_time(message, count):\n",
        "    for i in range(count):\n",
        "        print(message)\n",
        "\n",
        "def debug_log(level, debug_msg):\n",
        "    import time # time is an external module will be discussed later \n",
        "    if level >5:\n",
        "        print(f\"[ DBG ] {debug_msg}\")\n",
        "    else :\n",
        "        print(f\"[ DBG ] [{time.time()}] {debug_msg}\")\n",
        "\n",
        "debug_log(1,\"hello\")\n",
        "debug_log(8,\"hello\")\n",
        "\n",
        "########################################\n",
        "# exercise 1: add your own debug level #\n",
        "# hint:                                #\n",
        "# add a new elif statemtn              # \n",
        "########################################"
      ]
    },
    {
      "cell_type": "code",
      "source": [
        "def line(m, x, c):\n",
        "    return m*x + c\n",
        "\n",
        "def predict_next(weights, _input):\n",
        "    pred = line(weights, _input, 0)\n",
        "    return _input, pred    \n",
        "\n",
        "_input, prediction = predict_next(12,4)\n",
        "print(f'Input: {_input} Prediction: {prediction}')\n",
        "\n",
        "#######################################\n",
        "# exercise 1: modify predict_next to  #\n",
        "# take extra argument named as biase  #\n",
        "# and add it to line function's       #\n",
        "# input(c)                            #\n",
        "# hint:                               #\n",
        "# functio signature should look like  #\n",
        "# predict_next(weight, _input, biase) # \n",
        "#######################################\n"
      ],
      "metadata": {
        "id": "K-Y5bDBIJtzt",
        "colab": {
          "base_uri": "https://localhost:8080/"
        },
        "outputId": "f0863970-ead5-43ef-f7f1-5549c865fed0"
      },
      "execution_count": 163,
      "outputs": [
        {
          "output_type": "stream",
          "name": "stdout",
          "text": [
            "Input: 4 Prediction: 48\n"
          ]
        }
      ],
      "id": "K-Y5bDBIJtzt"
    },
    {
      "cell_type": "code",
      "source": [
        "#######################################\n",
        "# exercise 1: write a function named  #\n",
        "# relu with following functinality    #\n",
        "# return 0 if number is -ve or same   #\n",
        "# number is returned                  #\n",
        "# hint:                               #\n",
        "# Use IF-else and return              #\n",
        "# functio signature                   #\n",
        "# def relu(input)                     # \n",
        "#######################################\n",
        "\n",
        "\n",
        "# def sigmoid(x):\n",
        "#     z = (1./(1. + np.exp(-x)))\n",
        "#     return z"
      ],
      "metadata": {
        "id": "SKKQLrHJRBMQ"
      },
      "id": "SKKQLrHJRBMQ",
      "execution_count": 164,
      "outputs": []
    },
    {
      "cell_type": "markdown",
      "id": "96107ff0",
      "metadata": {
        "heading_collapsed": true,
        "id": "96107ff0"
      },
      "source": [
        "## Classes & Module 📘\n",
        "Python is an object oriented programming language.<br>\n",
        "Almost everything in Python is an object, with its properties and methods.<br>\n",
        "A Class is like an object constructor, or a \"blueprint\" for creating objects.<br>"
      ]
    },
    {
      "cell_type": "code",
      "execution_count": 165,
      "id": "07aef31f",
      "metadata": {
        "ExecuteTime": {
          "end_time": "2022-01-06T06:13:21.077720Z",
          "start_time": "2022-01-06T06:13:21.054807Z"
        },
        "hidden": true,
        "id": "07aef31f",
        "colab": {
          "base_uri": "https://localhost:8080/"
        },
        "outputId": "cafb0199-1554-4be9-e963-8a34e8e900ad"
      },
      "outputs": [
        {
          "output_type": "stream",
          "name": "stdout",
          "text": [
            "(1, 4)\n",
            "(6, 3)\n"
          ]
        }
      ],
      "source": [
        "import random\n",
        "class Dice:\n",
        "    def __init__(self):\n",
        "        self.dice_val = (1,2,3,4,5,6)\n",
        "    def roll(self):\n",
        "        print(f'({random.randint(1,6)}, {random.randint(1,6)})')\n",
        "    def roll_(self):\n",
        "        print(f'({random.choice(self.dice_val)}, {random.choice(self.dice_val)})')\n",
        "dice = Dice()\n",
        "dice.roll_()\n",
        "dice.roll()"
      ]
    },
    {
      "cell_type": "markdown",
      "id": "0a99caa9",
      "metadata": {
        "heading_collapsed": true,
        "hidden": true,
        "id": "0a99caa9"
      },
      "source": [
        "### Inheritance"
      ]
    },
    {
      "cell_type": "code",
      "execution_count": 166,
      "metadata": {
        "ExecuteTime": {
          "end_time": "2022-01-06T06:02:58.818411Z",
          "start_time": "2022-01-06T06:02:58.747741Z"
        },
        "code_folding": [
          0
        ],
        "hidden": true,
        "id": "2bb61f21",
        "colab": {
          "base_uri": "https://localhost:8080/"
        },
        "outputId": "505ec138-7a8f-4a14-b48a-7d2181114cca"
      },
      "outputs": [
        {
          "output_type": "stream",
          "name": "stdout",
          "text": [
            "draw\n",
            "10\n",
            "12\n",
            "43\n",
            "53\n",
            "draw\n",
            "-10\n",
            "Number1: -10, Number2: -20\n"
          ]
        }
      ],
      "source": [
        "class Point:\n",
        "    def __init__(self,x=12,y=12):\n",
        "        self.x=x\n",
        "        self.y=y\n",
        "    def mov(self):\n",
        "        print(\"move\")\n",
        "    def draw(self):\n",
        "        print(\"draw\") \n",
        "    def number(self,number):\n",
        "        print(number)   \n",
        "           \n",
        "#inheritance in classes\n",
        "class DrawPoint(Point):\n",
        "    def __init__(self,x,y):\n",
        "        super(DrawPoint, self).__init__(x,y)\n",
        "    def show(self):\n",
        "        print(f\"Number1: {self.x}, Number2: {self.y}\")\n",
        "\n",
        "point1 = Point()        \n",
        "point1.x = 10\n",
        "point1.draw()\n",
        "point1.number(point1.x)\n",
        "point1.number(point1.y)\n",
        "\n",
        "point2 = Point(43,53)\n",
        "point1.number(point2.x)\n",
        "point1.number(point2.y)\n",
        "\n",
        "drawpoint = DrawPoint(-10,-20)\n",
        "drawpoint.draw()\n",
        "drawpoint.number(drawpoint.x)\n",
        "drawpoint.show()"
      ],
      "id": "2bb61f21"
    },
    {
      "cell_type": "markdown",
      "id": "d1249e1b",
      "metadata": {
        "id": "d1249e1b"
      },
      "source": [
        "## Files and Directories 📁"
      ]
    },
    {
      "cell_type": "markdown",
      "id": "64f73fed",
      "metadata": {
        "heading_collapsed": true,
        "id": "64f73fed"
      },
      "source": [
        "### Read and write to a file"
      ]
    },
    {
      "cell_type": "code",
      "execution_count": 167,
      "id": "8a8f1464",
      "metadata": {
        "ExecuteTime": {
          "end_time": "2022-01-07T04:22:06.487232Z",
          "start_time": "2022-01-07T04:22:06.484164Z"
        },
        "hidden": true,
        "id": "8a8f1464",
        "colab": {
          "base_uri": "https://localhost:8080/"
        },
        "outputId": "2ebb0099-7b75-40e6-af4a-65ce2083dea7"
      },
      "outputs": [
        {
          "output_type": "stream",
          "name": "stdout",
          "text": [
            "Overwriting file\n",
            "added new data\n"
          ]
        }
      ],
      "source": [
        "def read_file_content(file_name):\n",
        "    try:\n",
        "        with open(file_name, 'r') as file:\n",
        "            print(file.read())\n",
        "    except Exception as e:\n",
        "        print(\"unable to read File\")\n",
        "        print(e)\n",
        "read_file_content('test.txt')"
      ]
    },
    {
      "cell_type": "code",
      "execution_count": 168,
      "id": "6f82c3e5",
      "metadata": {
        "ExecuteTime": {
          "end_time": "2022-01-07T04:22:15.320962Z",
          "start_time": "2022-01-07T04:22:15.317383Z"
        },
        "hidden": true,
        "id": "6f82c3e5",
        "colab": {
          "base_uri": "https://localhost:8080/"
        },
        "outputId": "8d85d93f-1828-468c-b78c-a097e4c2b0e0"
      },
      "outputs": [
        {
          "output_type": "stream",
          "name": "stdout",
          "text": [
            "Overwriting file\n"
          ]
        }
      ],
      "source": [
        "def write_to_file(file_name, data):\n",
        "    try:\n",
        "        with open(file_name, 'w') as file:\n",
        "            file.write(data)\n",
        "    except Exception as e:\n",
        "        print(\"unable to read File\")\n",
        "        print(e)\n",
        "\n",
        "write_to_file('test.txt', 'Overwriting file')\n",
        "read_file_content('test.txt')"
      ]
    },
    {
      "cell_type": "code",
      "execution_count": 169,
      "id": "21ad8e1c",
      "metadata": {
        "ExecuteTime": {
          "end_time": "2022-01-07T04:22:48.648651Z",
          "start_time": "2022-01-07T04:22:48.645043Z"
        },
        "hidden": true,
        "id": "21ad8e1c",
        "colab": {
          "base_uri": "https://localhost:8080/"
        },
        "outputId": "91df3ea3-9554-4e32-f8b9-8b54eaf003c4"
      },
      "outputs": [
        {
          "output_type": "stream",
          "name": "stdout",
          "text": [
            "Overwriting file\n",
            "added new data\n"
          ]
        }
      ],
      "source": [
        "def write_to_file_improved(file_name, mode, data):\n",
        "    try:\n",
        "        with open(file_name, mode) as file:\n",
        "            file.write(data)\n",
        "    except Exception as e:\n",
        "        print(\"unable to read File\")\n",
        "        print(e)\n",
        "write_to_file_improved('test.txt', 'a','\\nadded new data')\n",
        "read_file_content('test.txt')"
      ]
    },
    {
      "cell_type": "markdown",
      "id": "e343d4a6",
      "metadata": {
        "heading_collapsed": true,
        "id": "e343d4a6"
      },
      "source": [
        "### Iterate over files in directory"
      ]
    },
    {
      "cell_type": "code",
      "execution_count": 170,
      "id": "56352c52",
      "metadata": {
        "ExecuteTime": {
          "end_time": "2022-01-06T06:30:28.567940Z",
          "start_time": "2022-01-06T06:30:28.565429Z"
        },
        "hidden": true,
        "id": "56352c52",
        "colab": {
          "base_uri": "https://localhost:8080/"
        },
        "outputId": "71c4b4da-2aa1-45fe-d6e4-dc0527987d86"
      },
      "outputs": [
        {
          "output_type": "stream",
          "name": "stdout",
          "text": [
            "True\n",
            "test.txt\n"
          ]
        }
      ],
      "source": [
        "from pathlib import Path\n",
        "# p = Path('../')\n",
        "p = Path()\n",
        "print(p.exists())\n",
        "for file in p.glob('*.txt'):\n",
        "    print(file)\n",
        "\n",
        "###################################################\n",
        "# Challenge: move one directory up in path and    #\n",
        "# print the content of first .py file             #\n",
        "# Hint:                                           #\n",
        "# '.' represent current dir and '../' Parent      #\n",
        "# to find .py file use p.globe(\"*.py\") and then   #\n",
        "# print data by using one of above give functions #\n",
        "###################################################"
      ]
    },
    {
      "cell_type": "markdown",
      "id": "2f0a5ce2",
      "metadata": {
        "ExecuteTime": {
          "end_time": "2022-01-06T06:04:17.573734Z",
          "start_time": "2022-01-06T06:04:17.571824Z"
        },
        "heading_collapsed": true,
        "id": "2f0a5ce2"
      },
      "source": [
        "## External packages 📤"
      ]
    },
    {
      "cell_type": "markdown",
      "id": "bce65d3d",
      "metadata": {
        "heading_collapsed": true,
        "hidden": true,
        "id": "bce65d3d"
      },
      "source": [
        "### Numpy\n",
        "NumPy stands for Numerical Python.<br>\n",
        "NumPy is a Python library used for working with arrays.<br>\n",
        "It also has functions for working in domain of linear algebra, fourier transform, and matrices.<br>\n",
        "\n",
        "    In Python we have lists that serve the purpose of arrays, \n",
        "    but they are slow to process.\n",
        "    NumPy aims to provide an array object that is up to 50x faster\n",
        "    than traditional Python lists.\n",
        "    The array object in NumPy is called ndarray, it provides a lot \n",
        "    of supporting functions that make working with ndarray very easy.\n",
        "    Arrays are very frequently used in data science, where speed and \n",
        "    resources are very important.\n"
      ]
    },
    {
      "cell_type": "code",
      "execution_count": 171,
      "id": "26ab2801",
      "metadata": {
        "ExecuteTime": {
          "end_time": "2022-01-06T06:26:36.437158Z",
          "start_time": "2022-01-06T06:26:36.435512Z"
        },
        "hidden": true,
        "id": "26ab2801"
      },
      "outputs": [],
      "source": [
        "import numpy as np"
      ]
    },
    {
      "cell_type": "markdown",
      "id": "0b34d2d8",
      "metadata": {
        "hidden": true,
        "id": "0b34d2d8"
      },
      "source": [
        "1D and 2D Arrays"
      ]
    },
    {
      "cell_type": "code",
      "execution_count": 172,
      "id": "89292053",
      "metadata": {
        "hidden": true,
        "id": "89292053",
        "colab": {
          "base_uri": "https://localhost:8080/"
        },
        "outputId": "1654a8fd-f060-40e7-c96c-5a8b872404f0"
      },
      "outputs": [
        {
          "output_type": "stream",
          "name": "stdout",
          "text": [
            "100\n",
            "[100]\n",
            "[100]\n",
            "Array-y, Shape:(1,) Dim:1\n",
            "Array, x-type:<class 'numpy.ndarray'> x1-type:<class 'list'> y-type:<class 'numpy.ndarray'>\n"
          ]
        }
      ],
      "source": [
        "x = np.array(100)\n",
        "x1 = [100]\n",
        "y = np.array([100])\n",
        "print(x,x1,y,sep='\\n')\n",
        "print(f\"Array-y, Shape:{y.shape} Dim:{y.ndim}\")\n",
        "print(f\"Array, x-type:{type(x)} x1-type:{type(x1)} y-type:{type(y)}\")"
      ]
    },
    {
      "cell_type": "code",
      "execution_count": 173,
      "id": "4a87937a",
      "metadata": {
        "ExecuteTime": {
          "end_time": "2022-01-06T06:33:16.697945Z",
          "start_time": "2022-01-06T06:33:16.693620Z"
        },
        "collapsed": true,
        "hidden": true,
        "id": "4a87937a",
        "colab": {
          "base_uri": "https://localhost:8080/"
        },
        "outputId": "a33fd20c-c083-40d1-c962-6a432f726e89"
      },
      "outputs": [
        {
          "output_type": "stream",
          "name": "stdout",
          "text": [
            "Array-y,y1, Shape:(2,) ,(2, 2)\n",
            "Array-y,y1, ndim:1 ,2\n",
            "100\n",
            "Array-y1, Shape:(2, 2, 2) Dim,3\n",
            "200\n",
            "[[100 200]\n",
            " [300 400]]\n",
            "[[100 200]\n",
            " [300 400]]\n",
            "SUM array using numpy:\n",
            "2000\n",
            "get array mean using numpy:\n",
            "250.0\n"
          ]
        }
      ],
      "source": [
        "y = np.array([100,200])\n",
        "y1 = np.array([[100,200],[300,400]])\n",
        "print(f\"Array-y,y1, Shape:{y.shape} ,{y1.shape}\")\n",
        "print(f\"Array-y,y1, ndim:{y.ndim} ,{y1.ndim}\")\n",
        "print(y1[0][0])\n",
        "\n",
        "## Matrix -- rank 3 tensors\n",
        "y1 = np.array([ [   [100,200],\n",
        "                    [300,400] ],\n",
        "                [   [100,200],\n",
        "                    [300,400]] ])\n",
        "print(f\"Array-y1, Shape:{y1.shape} Dim,{y1.ndim}\")\n",
        "# Array Slicing\n",
        "print(y1[0][0][1])\n",
        "print(y1[0][:][:])\n",
        "print(y1[1][:][:])\n",
        "print(\"SUM array using numpy:\")\n",
        "print(y1.sum())\n",
        "print(\"get array mean using numpy:\")\n",
        "print(y1.mean())"
      ]
    },
    {
      "cell_type": "markdown",
      "source": [
        "generate Time series"
      ],
      "metadata": {
        "id": "AwCwJPuJqMu4"
      },
      "id": "AwCwJPuJqMu4"
    },
    {
      "cell_type": "code",
      "source": [
        "import numpy as np\n",
        "def generate_time_series(batch_size, n_steps):\n",
        "    freq1, freq2, offsets1, offsets2 = np.random.rand(4, batch_size, 1)\n",
        "    time = np.linspace(0, 1, n_steps)\n",
        "    series = 0.5 * np.sin((time - offsets1) * (freq1 * 10 + 10))  #   wave 1\n",
        "    series += 0.2 * np.sin((time - offsets2) * (freq2 * 20 + 20)) # + wave 2\n",
        "    series += 0.1 * (np.random.rand(batch_size, n_steps) - 0.5)   # + noise\n",
        "    return series[..., np.newaxis].astype(np.float32)\n",
        "\n",
        "np.random.seed(42)\n",
        "\n",
        "n_steps = 50\n",
        "series = generate_time_series(10000, n_steps + 1)"
      ],
      "metadata": {
        "id": "rS_Xe2FkqL7e"
      },
      "id": "rS_Xe2FkqL7e",
      "execution_count": 174,
      "outputs": []
    },
    {
      "cell_type": "markdown",
      "id": "a4e6375e",
      "metadata": {
        "heading_collapsed": true,
        "hidden": true,
        "id": "a4e6375e"
      },
      "source": [
        "### Pandas\n",
        "Pandas is a Python library used for working with data sets.<br>\n",
        "It has functions for analyzing, cleaning, exploring, and manipulating data.<br>\n",
        "The name \"Pandas\" has a reference to both \"Panel Data\", and \"Python Data Analysis\" and was created by Wes McKinney in 2008.<br>\n",
        "Usage:<br>\n",
        "\n",
        "     - Is there a correlation between two or more columns?\n",
        "     - What is average value?\n",
        "     - Max value?\n",
        "     - Min value?\n"
      ]
    },
    {
      "cell_type": "markdown",
      "id": "741649f9",
      "metadata": {
        "hidden": true,
        "id": "741649f9"
      },
      "source": [
        "Import Pandas"
      ]
    },
    {
      "cell_type": "code",
      "execution_count": 175,
      "id": "e0a2cf78",
      "metadata": {
        "hidden": true,
        "id": "e0a2cf78",
        "colab": {
          "base_uri": "https://localhost:8080/"
        },
        "outputId": "5292c646-28b4-4c16-a4b7-80097047c88e"
      },
      "outputs": [
        {
          "output_type": "stream",
          "name": "stdout",
          "text": [
            "0    1.0\n",
            "1    2.0\n",
            "2    3.0\n",
            "3    4.0\n",
            "4    NaN\n",
            "5    6.0\n",
            "6    7.0\n",
            "dtype: float64\n"
          ]
        }
      ],
      "source": [
        "import numpy as np\n",
        "import pandas as pd\n",
        "##object creation\n",
        "s = pd.Series([1,2,3,4,np.nan,6,7])\n",
        "print(s)"
      ]
    },
    {
      "cell_type": "code",
      "execution_count": 176,
      "id": "e19385b8",
      "metadata": {
        "ExecuteTime": {
          "end_time": "2022-01-06T06:16:05.617779Z",
          "start_time": "2022-01-06T06:16:05.598491Z"
        },
        "hidden": true,
        "id": "e19385b8",
        "colab": {
          "base_uri": "https://localhost:8080/"
        },
        "outputId": "423604e9-fa96-47c2-882d-c5587ee593b7"
      },
      "outputs": [
        {
          "output_type": "stream",
          "name": "stdout",
          "text": [
            "DatetimeIndex(['2022-01-10', '2022-01-11', '2022-01-12', '2022-01-13',\n",
            "               '2022-01-14'],\n",
            "              dtype='datetime64[ns]', freq='D')\n"
          ]
        }
      ],
      "source": [
        "dates = pd.date_range('20220110',periods=5)\n",
        "print(dates)"
      ]
    },
    {
      "cell_type": "code",
      "execution_count": 177,
      "id": "e932f1b6",
      "metadata": {
        "ExecuteTime": {
          "end_time": "2022-01-06T06:16:08.844472Z",
          "start_time": "2022-01-06T06:16:08.652433Z"
        },
        "collapsed": true,
        "hidden": true,
        "id": "e932f1b6",
        "colab": {
          "base_uri": "https://localhost:8080/"
        },
        "outputId": "650b2884-4035-4a36-95c4-f531a93e9455"
      },
      "outputs": [
        {
          "output_type": "stream",
          "name": "stdout",
          "text": [
            "<class 'pandas.core.frame.DataFrame'>\n",
            "DatetimeIndex: 5 entries, 2022-01-10 to 2022-01-14\n",
            "Freq: D\n",
            "Data columns (total 5 columns):\n",
            " #   Column  Non-Null Count  Dtype  \n",
            "---  ------  --------------  -----  \n",
            " 0   A       5 non-null      float64\n",
            " 1   B       5 non-null      float64\n",
            " 2   C       5 non-null      float64\n",
            " 3   D       5 non-null      float64\n",
            " 4   E       5 non-null      float64\n",
            "dtypes: float64(5)\n",
            "memory usage: 240.0 bytes\n",
            "None\n",
            "                   A         B         C         D         E\n",
            "2022-01-10 -2.242304  1.920414 -0.090006  1.224172 -0.667613\n",
            "2022-01-11 -0.490078  0.228318  0.184258  0.830956 -1.886927\n",
            "2022-01-12 -1.085932  1.050091 -1.056080 -1.266690 -0.521360\n",
            "2022-01-13  0.417957  0.511069  0.094387 -1.176468  1.456020\n",
            "2022-01-14  0.853302  2.123770  0.539041  0.654406 -2.456375\n",
            "pandas to numpy array [[-2.24230398  1.92041407 -0.09000604  1.22417246 -0.66761255]\n",
            " [-0.49007849  0.22831753  0.1842582   0.83095627 -1.88692676]\n",
            " [-1.08593193  1.05009098 -1.05608029 -1.26668991 -0.52135969]\n",
            " [ 0.41795655  0.51106872  0.09438686 -1.17646791  1.45602023]\n",
            " [ 0.85330247  2.12376979  0.53904123  0.65440606 -2.45637465]]\n"
          ]
        }
      ],
      "source": [
        "### dataframe\n",
        "df = pd.DataFrame(np.random.randn(5,5),index=dates,columns=list('ABCDE'))\n",
        "print(df.info())\n",
        "print(df.head())\n",
        "print('pandas to numpy array', df.to_numpy())"
      ]
    },
    {
      "cell_type": "code",
      "execution_count": 178,
      "id": "608641b4",
      "metadata": {
        "ExecuteTime": {
          "end_time": "2022-01-06T06:16:14.229294Z",
          "start_time": "2022-01-06T06:16:14.222674Z"
        },
        "collapsed": true,
        "hidden": true,
        "id": "608641b4",
        "colab": {
          "base_uri": "https://localhost:8080/"
        },
        "outputId": "35f7169a-afe5-463b-82ed-c9ef71ec257d"
      },
      "outputs": [
        {
          "output_type": "stream",
          "name": "stdout",
          "text": [
            "     A          B    C  D      E    F\n",
            "2  1.0 2022-01-10  1.0  3   test  foo\n",
            "3  1.0 2022-01-10  1.0  3  train  foo\n",
            "Index(['A', 'B', 'C', 'D', 'E', 'F'], dtype='object')\n"
          ]
        }
      ],
      "source": [
        "df2 = pd.DataFrame(\n",
        "    {\n",
        "        \"A\": 1.0,\n",
        "        \"B\": pd.Timestamp(\"20220110\"),\n",
        "        \"C\": pd.Series(1, index=list(range(4)), dtype=\"float32\"),\n",
        "        \"D\": np.array([3] * 4, dtype=\"int32\"),\n",
        "        \"E\": pd.Categorical([\"test\", \"train\", \"test\", \"train\"]),\n",
        "        \"F\": \"foo\",\n",
        "    }\n",
        ")\n",
        "\n",
        "print(df2.tail(2))\n",
        "print(df2.columns)"
      ]
    },
    {
      "cell_type": "markdown",
      "id": "0316e135",
      "metadata": {
        "ExecuteTime": {
          "end_time": "2022-01-06T06:34:24.839766Z",
          "start_time": "2022-01-06T06:34:24.837943Z"
        },
        "hidden": true,
        "id": "0316e135"
      },
      "source": [
        "### Matplot lib \n",
        "Matplotlib is a low level graph plotting library in python that serves as a visualization utility.<br>\n",
        "Matplotlib was created by John D. Hunter.<br>\n",
        "Matplotlib is open source and we can use it freely.<br>"
      ]
    },
    {
      "cell_type": "code",
      "execution_count": 179,
      "id": "91044916",
      "metadata": {
        "ExecuteTime": {
          "end_time": "2022-01-06T06:40:12.734497Z",
          "start_time": "2022-01-06T06:40:12.647034Z"
        },
        "hidden": true,
        "id": "91044916",
        "colab": {
          "base_uri": "https://localhost:8080/",
          "height": 265
        },
        "outputId": "2985c030-3536-4814-cdb1-5430e112671c"
      },
      "outputs": [
        {
          "output_type": "display_data",
          "data": {
            "image/png": "[encoded data removed]",
            "text/plain": [
              "<Figure size 432x288 with 1 Axes>"
            ]
          },
          "metadata": {
            "needs_background": "light"
          }
        }
      ],
      "source": [
        "%matplotlib inline\n",
        "import matplotlib.pyplot as plt\n",
        "import numpy as np\n",
        "from math import sin, cos\n",
        "xpoints = np.array(range(1,30))\n",
        "ypoints = []\n",
        "for i in xpoints:\n",
        "    ypoints.append(sin(i))\n",
        "# try using list comprehention \n",
        "# ypoints = [sin(ypoint) for ypoint in xpoints]\n",
        "plt.plot(xpoints, ypoints)\n",
        "plt.show()"
      ]
    },
    {
      "cell_type": "markdown",
      "source": [
        "#### Plot model loss"
      ],
      "metadata": {
        "id": "oyJX5s2Rpy9J"
      },
      "id": "oyJX5s2Rpy9J"
    },
    {
      "cell_type": "code",
      "source": [
        "from matplotlib import pyplot as plt\n",
        "def plot_series(series, y=None, y_pred=None, x_label=\"$t$\", y_label=\"$x(t)$\"):\n",
        "    plt.plot(series, \".-\")\n",
        "    if y is not None:\n",
        "        plt.plot(n_steps, y, \"bx\", markersize=10)\n",
        "    if y_pred is not None:\n",
        "        plt.plot(n_steps, y_pred, \"ro\")\n",
        "    plt.grid(True)\n",
        "    if x_label:\n",
        "        plt.xlabel(x_label, fontsize=16)\n",
        "    if y_label:\n",
        "        plt.ylabel(y_label, fontsize=16, rotation=0)\n",
        "    plt.hlines(0, 0, 100, linewidth=1)\n",
        "    plt.axis([0, n_steps + 1, -1, 1])\n",
        "\n",
        "fig, axes = plt.subplots(nrows=1, ncols=3, sharey=True, figsize=(12, 4))\n",
        "np.random.seed(42)\n",
        "n_steps = 50\n",
        "series = generate_time_series(10000, n_steps + 1)\n",
        "X_train, y_train = series[:7000, :n_steps], series[:7000, -1]\n",
        "X_valid, y_valid = series[7000:9000, :n_steps], series[7000:9000, -1]\n",
        "X_test, y_test = series[9000:, :n_steps], series[9000:, -1]\n",
        "for col in range(3):\n",
        "    plt.sca(axes[col])\n",
        "    plot_series(X_valid[col, :, 0], y_valid[col, 0],\n",
        "                y_label=(\"$x(t)$\" if col==0 else None))\n",
        "plt.show()"
      ],
      "metadata": {
        "id": "0SMNJIlep4O8",
        "colab": {
          "base_uri": "https://localhost:8080/",
          "height": 289
        },
        "outputId": "2bbbb8b1-bf56-477d-ff78-1396ee58062c"
      },
      "id": "0SMNJIlep4O8",
      "execution_count": 180,
      "outputs": [
        {
          "output_type": "display_data",
          "data": {
            "image/png": "[encoded data removed]",
            "text/plain": [
              "<Figure size 864x288 with 3 Axes>"
            ]
          },
          "metadata": {
            "needs_background": "light"
          }
        }
      ]
    },
    {
      "cell_type": "markdown",
      "source": [
        "### OPEN-CV"
      ],
      "metadata": {
        "id": "BCRWvYcXILZf"
      },
      "id": "BCRWvYcXILZf"
    },
    {
      "cell_type": "code",
      "source": [
        "import cv2 "
      ],
      "metadata": {
        "id": "lQHx1l8GIR-K"
      },
      "id": "lQHx1l8GIR-K",
      "execution_count": 181,
      "outputs": []
    },
    {
      "cell_type": "markdown",
      "source": [
        "## Tips and Advance concepts 👇\n",
        "\n"
      ],
      "metadata": {
        "id": "9z4IAPmbFwF0"
      },
      "id": "9z4IAPmbFwF0"
    },
    {
      "cell_type": "markdown",
      "source": [
        "### List of functions 🤯\n",
        "\n",
        "in python we can use lists to store functions as an element and when needed call a specific function by getting it from specified index.\n",
        "This kind of techique is good for functions having same signature.\n",
        "\n",
        "*   Can be helpful to reduce unwante ifelse ledder\n",
        "*   Should ony be used for code having little to no interaction wiht user's input \n",
        "*    also littlebit difficult to debug.\n",
        "\n",
        "<b> Remember index always starts at 0 (Except for some people who use matlab 🥶) \n",
        "\n"
      ],
      "metadata": {
        "id": "94sPkaNooTyP"
      },
      "id": "94sPkaNooTyP"
    },
    {
      "cell_type": "code",
      "source": [
        "# class UNDEFIEDOPERATION is derived from super class Exception\n",
        "# to make it easy for debuggin messy code wiht little effort.\n",
        "class UNDEFIEDOPERATION(Exception):\n",
        "    # Constructor or Initializer\n",
        "    def __init__(self, message='Undefinde operation'):\n",
        "        self.message = message\n",
        " \n",
        "    # __str__ is to print() the value\n",
        "    def __str__(self):\n",
        "        return(repr(self.message))\n",
        "\n",
        "def add(num1, num2):\n",
        "    return num1 + num2\n",
        "def subtract(num1, num2):\n",
        "    return num1 - num2\n",
        "def multiply(num1, num2):\n",
        "    return num1 * num2\n",
        "\n",
        "def calculate(num1, num2, opp_code):\n",
        "    if opp_code == 0:\n",
        "        return add(num1, num2)\n",
        "    if opp_code == 1:\n",
        "        return subtract(num1, num2)\n",
        "    if opp_code == 2:\n",
        "        return multiply(num1, num2)\n",
        "\n",
        "def calculate_simplefied(num1, num2, opp_code):\n",
        "    if(opp_code >=3):\n",
        "        raise UNDEFIEDOPERATION()\n",
        "    function = [add, subtract, multiply]\n",
        "    return function[opp_code](num1, num2)\n"
      ],
      "metadata": {
        "id": "YitjGQT4oOGT"
      },
      "id": "YitjGQT4oOGT",
      "execution_count": 182,
      "outputs": []
    },
    {
      "cell_type": "code",
      "source": [
        "calculat_res = calculate(3, 4, 1) \n",
        "print(f'Result = {calculat_res}')\n",
        "calculate_simplefied_res =  calculate_simplefied(3, 4, 1)\n",
        "print(f'Result = {calculate_simplefied_res}')"
      ],
      "metadata": {
        "id": "ILupe2gNw1m_",
        "colab": {
          "base_uri": "https://localhost:8080/"
        },
        "outputId": "63eb82c0-8a67-4d62-e250-c89fe3b6076e"
      },
      "id": "ILupe2gNw1m_",
      "execution_count": 183,
      "outputs": [
        {
          "output_type": "stream",
          "name": "stdout",
          "text": [
            "Result = -1\n",
            "Result = -1\n"
          ]
        }
      ]
    },
    {
      "cell_type": "code",
      "source": [
        "# catch an undefined operations \n",
        "# calculate_simplefied(3, 4, 4)"
      ],
      "metadata": {
        "id": "BXvlWchBoQrD"
      },
      "id": "BXvlWchBoQrD",
      "execution_count": 184,
      "outputs": []
    },
    {
      "cell_type": "markdown",
      "source": [
        "### Switch case statement in python 😉\n",
        "So by default python does not support switch case statemetns but dictionaries can be used in this regard to simulate switch statemtn.\n",
        "this process can optimize list of functions as it is easily manageable "
      ],
      "metadata": {
        "id": "8LNYiJdhygSr"
      },
      "id": "8LNYiJdhygSr"
    },
    {
      "cell_type": "code",
      "source": [
        "def calculate_simplefied_switch_case(num1, num2, operation):\n",
        "    def default(num1, num2):\n",
        "        raise UNDEFIEDOPERATION()\n",
        "    switch ={\n",
        "        'add':add,\n",
        "        'sub':subtract,\n",
        "        'mul':multiply\n",
        "    }\n",
        "    return switch.get(operation, default)(num1, num2)"
      ],
      "metadata": {
        "id": "BSHVSAyBoQbS"
      },
      "id": "BSHVSAyBoQbS",
      "execution_count": 185,
      "outputs": []
    },
    {
      "cell_type": "code",
      "source": [
        "calculate_simplefied_switch_case(1, 2, 'mul')"
      ],
      "metadata": {
        "id": "fSQbyPj200Tf",
        "colab": {
          "base_uri": "https://localhost:8080/"
        },
        "outputId": "15529afb-419e-4a58-e835-2d7260f308e0"
      },
      "id": "fSQbyPj200Tf",
      "execution_count": 186,
      "outputs": [
        {
          "output_type": "execute_result",
          "data": {
            "text/plain": [
              "2"
            ]
          },
          "metadata": {},
          "execution_count": 186
        }
      ]
    },
    {
      "cell_type": "markdown",
      "source": [
        "### Simple preceptron model 💡"
      ],
      "metadata": {
        "id": "zTNyovJC-oAd"
      },
      "id": "zTNyovJC-oAd"
    },
    {
      "cell_type": "code",
      "source": [
        "### LinearClassifier Example with perceptron training etc\n",
        "###\n",
        "from sklearn.datasets import make_classification\n",
        "from sklearn.datasets import make_circles\n",
        "import numpy as np\n",
        "import matplotlib.pyplot as plt\n",
        "\n",
        "\n",
        "class LinearClassifier:\n",
        "    def __init__(self):\n",
        "        pass\n",
        "    def sigmoid(self,z):\n",
        "        return 1.0/(1. + np.exp(-z))\n",
        "\n",
        "    def loss(self,y,y_ht):\n",
        "        loss =  -np.mean( y*(np.log(y_ht)) - (1-y)*np.log(1-y_ht) )\n",
        "        return loss\n",
        "\n",
        "    def gradient(self,x,y,y_ht):\n",
        "        m = x.shape[0]\n",
        "        dw = (1/m)*np.dot(x.T,(y_ht-y)) #wrt w\n",
        "        db = (1/m)*np.sum((y_ht-y)) # wrt bias\n",
        "        return dw,db \n",
        "\n",
        "    def plot_dec_boundry(self,x,w,b,y,debug):\n",
        "        x1 = [min(x[:,0]), max(x[:,0])]\n",
        "        m = -w[0]/w[1]\n",
        "        c = -b/w[1]\n",
        "        x2 = m*x1 + c\n",
        "        plt.plot(x[:,0][y==0], x[:,1][y==0],'r^')\n",
        "        plt.plot(x[:,0][y==1], x[:,1][y==1],'bs')\n",
        "        plt.plot(x1,x2,'y-')\n",
        "        if debug:\n",
        "            plt.show()\n",
        "\n",
        "    def normalize(self,x):\n",
        "        m,n = x.shape   #m : trg exmple, n: features\n",
        "        for i in range(n):\n",
        "            x = (x - x.mean(axis=0))/x.std(axis=0)\n",
        "        return x    \n",
        "\n",
        "    def train(self, x,y,bs,epochs,lr):\n",
        "        m,n = x.shape\n",
        "        w = np.zeros((n,1))  ## or random ?\n",
        "        b = 0\n",
        "        y = y.reshape(m,1)\n",
        "        x = self.normalize(x)\n",
        "\n",
        "        losses = []\n",
        "\n",
        "        for epoch in range(epochs):\n",
        "            for i in range((m-1)//bs+1):\n",
        "                start_i = i*bs\n",
        "                end_i = start_i + bs\n",
        "                xb = x[start_i:end_i]\n",
        "                yb = y[start_i:end_i]\n",
        "\n",
        "                y_ht = self.sigmoid(np.dot(xb,w)+b)\n",
        "\n",
        "                dw,db = self.gradient(xb,yb,y_ht)\n",
        "\n",
        "                w -=lr*dw\n",
        "                b -=lr*db\n",
        "\n",
        "            l = self.loss(y,self.sigmoid(np.dot(x,w)+b))\n",
        "            losses.append(l)\n",
        "            # self.plot_dec_boundry(x,w,b,y,1)\n",
        "\n",
        "        return w,b,losses\n",
        "\n",
        "    def step_func(self,z):\n",
        "        return 1.0 if (z > 0) else 0.0\n",
        "\n",
        "    def percep_train(self,x, y, epochs, lr):\n",
        "    \n",
        "        m, n = x.shape\n",
        "        \n",
        "        w = np.zeros((n+1,1))   ## weight plus bias\n",
        "        \n",
        "        losses = []\n",
        "        \n",
        "        for epoch in range(epochs):\n",
        "            n_miss = 0\n",
        "            for idx, x_i in enumerate(x):\n",
        "                x_i = np.insert(x_i, 0, 1).reshape(-1,1)\n",
        "                y_hat = self.step_func(np.dot(x_i.T, w))\n",
        "          \n",
        "                if (np.squeeze(y_hat) - y[idx]) != 0:\n",
        "                    w += lr*((y[idx] - y_hat)*x_i)\n",
        "                    n_miss += 1\n",
        "       \n",
        "            losses.append(n_miss)\n",
        "            \n",
        "        return np.array([ [w[1][0]],[w[2][0]] ]),w[0][0], losses\n",
        "    \n",
        "\n",
        "    def predict(self,x,w,b):\n",
        "\n",
        "        x = self.normalize(x)\n",
        "        preds = self.sigmoid((np.dot(x,w)+b))\n",
        "        pred_class = []\n",
        "\n",
        "        pred_class = [1 if i>0.5 else 0 for i in preds]\n",
        "\n",
        "        return np.array(pred_class)\n",
        "    \n",
        "    def accuracy(self,y, y_ht):\n",
        "        accuracy = np.sum(y == y_ht) / len(y)\n",
        "        return accuracy\n",
        "\n",
        "\n",
        "x,Y = make_classification(n_features=2,n_classes=2,n_samples=100,n_redundant=0,n_clusters_per_class=1)\n",
        "# x,Y = make_circles(n_samples=100,noise=0.03,factor=0.7)\n",
        "\n",
        "p = LinearClassifier()\n",
        "w,b,loss = p.train(x,Y,bs=10,epochs=9000,lr=0.01)\n",
        "print(w,b)\n",
        "class_pred = p.predict(x,w,b)\n",
        "print('Accuracy= ',p.accuracy(Y,class_pred) * 100,'%')\n",
        "plt.subplot(1,2,1)\n",
        "p.plot_dec_boundry(x,w,b,Y,0)\n",
        "plt.subplot(1,2,2)\n",
        "plt.plot(loss)\n",
        "plt.suptitle(['Accuray' + str(p.accuracy(Y,class_pred) * 100)])\n",
        "plt.show()\n",
        "\n",
        "w1,b1,loss1 = p.percep_train(x,Y,epochs=1000,lr=0.01)\n",
        "print(w1,b1)\n",
        "\n",
        "class_pred = p.predict(x,w1,b1)\n",
        "print('Accuracy= ',p.accuracy(Y,class_pred) * 100,'%')\n",
        "\n",
        "plt.subplot(1,2,1)\n",
        "p.plot_dec_boundry(x,w1,b1,Y,0)\n",
        "plt.subplot(1,2,2)\n",
        "plt.plot(loss1)\n",
        "plt.suptitle(['Accuray' + str(p.accuracy(Y,class_pred) * 100)])\n",
        "plt.show()\n",
        "\n"
      ],
      "metadata": {
        "id": "nx0l_faQ-tSK",
        "colab": {
          "base_uri": "https://localhost:8080/",
          "height": 675
        },
        "outputId": "8796d63a-8258-4eff-d05c-c0f522abddfa"
      },
      "id": "nx0l_faQ-tSK",
      "execution_count": 187,
      "outputs": [
        {
          "output_type": "stream",
          "name": "stdout",
          "text": [
            "[[ 2.83131711]\n",
            " [-0.9573157 ]] 0.29886695313058376\n",
            "Accuracy=  89.0 %\n"
          ]
        },
        {
          "output_type": "display_data",
          "data": {
            "image/png": "[encoded data removed]",
            "text/plain": [
              "<Figure size 432x288 with 2 Axes>"
            ]
          },
          "metadata": {
            "needs_background": "light"
          }
        },
        {
          "output_type": "stream",
          "name": "stdout",
          "text": [
            "[[ 0.02712393]\n",
            " [-0.02381936]] 0.019999999999999997\n",
            "Accuracy=  73.0 %\n"
          ]
        },
        {
          "output_type": "display_data",
          "data": {
            "image/png": "[encoded data removed]",
            "text/plain": [
              "<Figure size 432x288 with 2 Axes>"
            ]
          },
          "metadata": {
            "needs_background": "light"
          }
        }
      ]
    },
    {
      "cell_type": "markdown",
      "id": "aa7f7c71",
      "metadata": {
        "id": "aa7f7c71"
      },
      "source": [
        "## Save and Close"
      ]
    },
    {
      "cell_type": "code",
      "execution_count": 188,
      "id": "7c1ba051",
      "metadata": {
        "ExecuteTime": {
          "end_time": "2022-01-06T08:01:26.053621Z",
          "start_time": "2022-01-06T08:01:26.032301Z"
        },
        "id": "7c1ba051",
        "colab": {
          "base_uri": "https://localhost:8080/",
          "height": 17
        },
        "outputId": "22e789ec-c8c8-4de2-ac38-6e3f09bf521a"
      },
      "outputs": [
        {
          "output_type": "display_data",
          "data": {
            "application/javascript": [
              "IPython.notebook.save_checkpoint();\n",
              "window.onbeforeunload = null\n",
              "window.close();\n",
              "IPython.notebook.session.delete();"
            ],
            "text/plain": [
              "<IPython.core.display.Javascript object>"
            ]
          },
          "metadata": {}
        }
      ],
      "source": [
        "%%javascript\n",
        "IPython.notebook.save_checkpoint();\n",
        "window.onbeforeunload = null\n",
        "window.close();\n",
        "IPython.notebook.session.delete();"
      ]
    }
  ],
  "metadata": {
    "kernelspec": {
      "display_name": "Python 3 (ipykernel)",
      "language": "python",
      "name": "python3"
    },
    "language_info": {
      "codemirror_mode": {
        "name": "ipython",
        "version": 3
      },
      "file_extension": ".py",
      "mimetype": "text/x-python",
      "name": "python",
      "nbconvert_exporter": "python",
      "pygments_lexer": "ipython3",
      "version": "3.9.7"
    },
    "toc": {
      "base_numbering": 1,
      "nav_menu": {},
      "number_sections": false,
      "sideBar": true,
      "skip_h1_title": false,
      "title_cell": "Table of Contents",
      "title_sidebar": "Contents",
      "toc_cell": false,
      "toc_position": {},
      "toc_section_display": true,
      "toc_window_display": true
    },
    "varInspector": {
      "cols": {
        "lenName": 16,
        "lenType": 16,
        "lenVar": 40
      },
      "kernels_config": {
        "python": {
          "delete_cmd_postfix": "",
          "delete_cmd_prefix": "del ",
          "library": "var_list.py",
          "varRefreshCmd": "print(var_dic_list())"
        },
        "r": {
          "delete_cmd_postfix": ") ",
          "delete_cmd_prefix": "rm(",
          "library": "var_list.r",
          "varRefreshCmd": "cat(var_dic_list()) "
        }
      },
      "types_to_exclude": [
        "module",
        "function",
        "builtin_function_or_method",
        "instance",
        "_Feature"
      ],
      "window_display": false
    },
    "colab": {
      "name": "SESSION_02.ipynb",
      "provenance": [],
      "collapsed_sections": []
    }
  },
  "nbformat": 4,
  "nbformat_minor": 5
}