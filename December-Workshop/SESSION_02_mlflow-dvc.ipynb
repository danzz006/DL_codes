{
 "cells": [
  {
   "cell_type": "code",
   "execution_count": null,
   "id": "9b6eeef7-6e99-4703-b436-246746afaa95",
   "metadata": {},
   "outputs": [],
   "source": [
    "# !apt-get update && apt-get install -y git-all"
   ]
  },
  {
   "cell_type": "code",
   "execution_count": null,
   "id": "8d0c3643-1203-41ff-8b25-5f9b06ed20f0",
   "metadata": {},
   "outputs": [],
   "source": [
    "# !git init && dvc init"
   ]
  },
  {
   "cell_type": "code",
   "execution_count": null,
   "id": "98048245-689d-48bb-96ba-1d0e37ba9af8",
   "metadata": {},
   "outputs": [],
   "source": [
    "# import git \n",
    "# g = git.Git(os.getcwd()) \n",
    "# hexshas = g.log('--pretty=%H','--follow','--',\"Y_data.npy.dvc\").split('\\n') "
   ]
  },
  {
   "cell_type": "code",
   "execution_count": null,
   "id": "ff23ce4d-f9f6-4909-9136-03acf823d703",
   "metadata": {},
   "outputs": [],
   "source": [
    "# hexshas"
   ]
  },
  {
   "cell_type": "code",
   "execution_count": null,
   "id": "c5083620-d7f9-484b-99b6-592ad2dcbe25",
   "metadata": {},
   "outputs": [],
   "source": [
    "# !git config --global user.email \"danyail@mail.com\"\n",
    "# !git config --global user.name \"danzz006\""
   ]
  },
  {
   "cell_type": "code",
   "execution_count": null,
   "id": "29c247ed-f16d-4c7a-89bb-18947442502b",
   "metadata": {},
   "outputs": [],
   "source": [
    "from sklearn.datasets import make_classification\n",
    "from sklearn.datasets import make_circles\n",
    "import numpy as np\n",
    "import os\n",
    "import matplotlib.pyplot as plt\n",
    "from pathlib import Path\n",
    "from PIL import Image\n",
    "import mlflow"
   ]
  },
  {
   "cell_type": "code",
   "execution_count": null,
   "id": "40cc25cf-6134-4446-9c4b-304735e55397",
   "metadata": {
    "tags": []
   },
   "outputs": [],
   "source": [
    "'''When creating new experiment'''\n",
    "# experiment_id = mlflow.create_experiment(\n",
    "#     \"Linear classifier\", \n",
    "#     artifact_location=Path.cwd().joinpath(\"./mlruns\").as_uri(),\n",
    "#     tags={\"version\":\"v1\", \"priority\":\"P1\"}\n",
    "# )"
   ]
  },
  {
   "cell_type": "code",
   "execution_count": null,
   "id": "2fe04bc8-81b0-432f-8a91-031ddd4404d5",
   "metadata": {},
   "outputs": [],
   "source": [
    "mlflow.set_tracking_uri(\"sqlite:///mlruns/mlruns.db\")"
   ]
  },
  {
   "cell_type": "code",
   "execution_count": null,
   "id": "ebee6806-f76f-41d1-a9bc-7ef60572b427",
   "metadata": {
    "tags": []
   },
   "outputs": [],
   "source": [
    "experiment = mlflow.set_experiment(\"Linear classifier\")"
   ]
  },
  {
   "cell_type": "code",
   "execution_count": null,
   "id": "c96c8b6c-7ef3-496c-9062-ce5708c06fe8",
   "metadata": {},
   "outputs": [],
   "source": [
    "x,Y = make_classification(n_features=2,n_classes=2,n_samples=100,n_redundant=0,n_clusters_per_class=1)"
   ]
  },
  {
   "cell_type": "code",
   "execution_count": null,
   "id": "d60ff697-bd1e-4637-96a9-9a838ead8d05",
   "metadata": {},
   "outputs": [],
   "source": [
    "with open(\"X_data.npy\", \"wb\") as fs_x:\n",
    "    np.save(fs_x, x)\n",
    "\n",
    "with open(\"Y_data.npy\", \"wb\") as fs_y:\n",
    "    np.save(fs_y, Y)"
   ]
  },
  {
   "cell_type": "code",
   "execution_count": null,
   "id": "1b0502d3-1446-4a4a-9975-8841d060be22",
   "metadata": {
    "tags": []
   },
   "outputs": [],
   "source": [
    "!dvc add X_data.npy Y_data.npy\n",
    "!git add X_data.npy.dvc Y_data.npy.dvc .gitignore\n",
    "!git commit -m \"version 1.0.0 of data\"\n",
    "!git log"
   ]
  },
  {
   "cell_type": "code",
   "execution_count": null,
   "id": "4ad35ceb-0845-4d4e-8622-a3bad6556e26",
   "metadata": {},
   "outputs": [],
   "source": [
    "class LinearClassifier:\n",
    "    def __init__(self, mlflow_exp_id):\n",
    "        self.mlflow_exp_id = mlflow_exp_id\n",
    "        # pass\n",
    "    def sigmoid(self,z):\n",
    "        return 1.0/(1. + np.exp(-z))\n",
    "\n",
    "    def loss(self,y,y_ht):\n",
    "        loss =  -np.mean( y*(np.log(y_ht)) - (1-y)*np.log(1-y_ht) )\n",
    "        return loss\n",
    "\n",
    "    def gradient(self,x,y,y_ht):\n",
    "        m = x.shape[0]\n",
    "        dw = (1/m)*np.dot(x.T,(y_ht-y)) #wrt w\n",
    "        db = (1/m)*np.sum((y_ht-y)) # wrt bias\n",
    "        return dw,db \n",
    "\n",
    "    def plot_dec_boundry(self,x,w,b,y,debug, save):\n",
    "        x1 = [min(x[:,0]), max(x[:,0])]\n",
    "        m = -w[0]/w[1]\n",
    "        c = -b/w[1]\n",
    "        x2 = m*x1 + c\n",
    "        plt.plot(x[:,0][y==0], x[:,1][y==0],'r^')\n",
    "        plt.plot(x[:,0][y==1], x[:,1][y==1],'bs')\n",
    "        plt.plot(x1,x2,'y-')\n",
    "        if debug:\n",
    "            plt.show()\n",
    "        if save:\n",
    "            plt.savefig(\"tmp.png\")\n",
    "\n",
    "    def normalize(self,x):\n",
    "        m,n = x.shape   #m : trg exmple, n: features\n",
    "        for i in range(n):\n",
    "            x = (x - x.mean(axis=0))/x.std(axis=0)\n",
    "        return x    \n",
    "\n",
    "    def train(self, x,y,bs,epochs,lr):\n",
    "        m,n = x.shape\n",
    "        w = np.zeros((n,1))  ## or random ?\n",
    "        b = 0\n",
    "        y_ = y\n",
    "        y = y.reshape(m,1)\n",
    "        x = self.normalize(x)\n",
    "\n",
    "        losses = []\n",
    "        params = {\"learning_rate\": lr, \"batch_size\": bs, \"epochs\": epochs}\n",
    "        with mlflow.start_run(experiment_id=self.mlflow_exp_id, description=\"Linear classifier for data points\", run_name=f\"LC-{epochs}-{bs}-{lr}\") as run:\n",
    "            mlflow.log_params(params)        \n",
    "            for epoch in range(epochs):\n",
    "                for i in range((m-1)//bs+1):\n",
    "                    start_i = i*bs\n",
    "                    end_i = start_i + bs\n",
    "                    xb = x[start_i:end_i]\n",
    "                    yb = y[start_i:end_i]\n",
    "\n",
    "                    y_ht = self.sigmoid(np.dot(xb,w)+b)\n",
    "\n",
    "                    dw,db = self.gradient(xb,yb,y_ht)\n",
    "\n",
    "                    w -=lr*dw\n",
    "                    b -=lr*db\n",
    "\n",
    "                l = self.loss(y,self.sigmoid(np.dot(x,w)+b))\n",
    "                mlflow.log_metric(\"loss\", l)\n",
    "                losses.append(l)\n",
    "\n",
    "            y_ht = self.predict(x, w, b)\n",
    "            acc = self.accuracy(y, y_ht)\n",
    "            mlflow.log_metric(\"Acc\", acc)\n",
    "            self.plot_dec_boundry(x,w,b,y_,False, True)\n",
    "            mlflow.log_image(Image.open(\"tmp.png\"), \"dec_boundry.png\")\n",
    "            \n",
    "        return w,b,losses\n",
    "\n",
    "    def step_func(self,z):\n",
    "        return 1.0 if (z > 0) else 0.0\n",
    "\n",
    "    def percep_train(self,x, y, epochs, lr):\n",
    "    \n",
    "        m, n = x.shape\n",
    "        \n",
    "        w = np.zeros((n+1,1))   ## weight plus bias\n",
    "        \n",
    "        losses = []\n",
    "        params = {\"learning_rate\": lr, \"epochs\": epochs}\n",
    "        with mlflow.start_run(experiment_id=self.mlflow_exp_id, description=\"Linear classifier for data points\", run_name=f\"LC-percep-{epochs}-{lr}\") as run:\n",
    "            mlflow.log_params(params)\n",
    "            for epoch in range(epochs):\n",
    "                n_miss = 0\n",
    "                for idx, x_i in enumerate(x):\n",
    "                    x_i = np.insert(x_i, 0, 1).reshape(-1,1)\n",
    "                    y_hat = self.step_func(np.dot(x_i.T, w))\n",
    "\n",
    "                    if (np.squeeze(y_hat) - y[idx]) != 0:\n",
    "                        w += lr*((y[idx] - y_hat)*x_i)\n",
    "                        n_miss += 1\n",
    "                        \n",
    "                mlflow.log_metric(\"loss\", n_miss)\n",
    "                losses.append(n_miss)\n",
    "                \n",
    "            w = np.array([ [w[1][0]],[w[2][0]] ])\n",
    "            b = w[0][0]\n",
    "            y_ht = self.predict(x, w, b)\n",
    "            acc = self.accuracy(y, y_ht)\n",
    "            mlflow.log_metric(\"Acc\", acc)\n",
    "            self.plot_dec_boundry(x,w,b,y,False, True)\n",
    "            mlflow.log_image(Image.open(\"tmp.png\"), \"dec_boundry.png\")\n",
    "        \n",
    "        return w,b, losses\n",
    "        # return np.array([ [w[1][0]],[w[2][0]] ]),w[0][0], losses\n",
    "    \n",
    "\n",
    "    def predict(self,x,w,b):\n",
    "\n",
    "        x = self.normalize(x)\n",
    "        preds = self.sigmoid((np.dot(x,w)+b))\n",
    "        pred_class = []\n",
    "\n",
    "        pred_class = [1 if i>0.5 else 0 for i in preds]\n",
    "\n",
    "        return np.array(pred_class)\n",
    "    \n",
    "    def accuracy(self,y, y_ht):\n",
    "        accuracy = np.sum(y == y_ht) / len(y)\n",
    "        return accuracy\n"
   ]
  },
  {
   "cell_type": "code",
   "execution_count": null,
   "id": "33205a1a-09a1-4538-a930-7e8ef1f45885",
   "metadata": {},
   "outputs": [],
   "source": [
    "p = LinearClassifier(experiment.experiment_id)"
   ]
  },
  {
   "cell_type": "code",
   "execution_count": null,
   "id": "3f68a736-f951-4944-b5a3-9c1e98d857a5",
   "metadata": {},
   "outputs": [],
   "source": [
    "w,b,loss = p.train(x,Y,bs=10,epochs=40,lr=0.001)"
   ]
  },
  {
   "cell_type": "code",
   "execution_count": null,
   "id": "1789879c-bf34-429e-9cba-4198e4236161",
   "metadata": {},
   "outputs": [],
   "source": [
    "class_pred = p.predict(x,w,b)"
   ]
  },
  {
   "cell_type": "code",
   "execution_count": null,
   "id": "ad1d01e0-e61f-42b6-8788-e14a2233b16c",
   "metadata": {},
   "outputs": [],
   "source": [
    "print('Accuracy= ',p.accuracy(Y,class_pred) * 100,'%')"
   ]
  },
  {
   "cell_type": "code",
   "execution_count": null,
   "id": "a46d2f42-ffb7-44c4-9ddb-8869fbf38fef",
   "metadata": {},
   "outputs": [],
   "source": [
    "plt.subplot(1,2,1)\n",
    "p.plot_dec_boundry(x,w,b,Y,0, False)\n",
    "plt.subplot(1,2,2)\n",
    "plt.plot(loss)\n",
    "plt.suptitle(['Accuray' + str(p.accuracy(Y,class_pred) * 100)])\n",
    "plt.show()"
   ]
  },
  {
   "cell_type": "code",
   "execution_count": null,
   "id": "e04ef616-fe74-49f9-bb8a-5e274a8e7b38",
   "metadata": {},
   "outputs": [],
   "source": [
    "x,Y = make_classification(n_features=2,n_classes=2,n_samples=200,n_redundant=0,n_clusters_per_class=1)"
   ]
  },
  {
   "cell_type": "code",
   "execution_count": null,
   "id": "4bd2bfdd-d136-4464-a8cc-de4c1d0eb8ad",
   "metadata": {},
   "outputs": [],
   "source": [
    "with open(\"X_data.npy\", \"wb\") as fs_x:\n",
    "    np.save(fs_x, x)\n",
    "\n",
    "with open(\"Y_data.npy\", \"wb\") as fs_y:\n",
    "    np.save(fs_y, Y)"
   ]
  },
  {
   "cell_type": "code",
   "execution_count": null,
   "id": "9267f1c6-d30b-4fad-a525-e12b582e88be",
   "metadata": {
    "tags": []
   },
   "outputs": [],
   "source": [
    "!dvc add X_data.npy Y_data.npy\n",
    "!git add X_data.npy.dvc Y_data.npy.dvc .gitignore\n",
    "!git commit -m \"version 1.0.1 of data with increased samples 100 -> 200\"\n",
    "!git log"
   ]
  },
  {
   "cell_type": "code",
   "execution_count": null,
   "id": "d86951bd-352b-4c01-bbc7-b0ceb8cb1d7b",
   "metadata": {},
   "outputs": [],
   "source": [
    "w1,b1,loss1 = p.percep_train(x,Y,epochs=100,lr=0.01)"
   ]
  },
  {
   "cell_type": "code",
   "execution_count": null,
   "id": "cfa12829-ab0c-436b-af55-98b6f6d5bb28",
   "metadata": {},
   "outputs": [],
   "source": [
    "class_pred = p.predict(x,w1,b1)\n",
    "print('Accuracy= ',p.accuracy(Y,class_pred) * 100,'%')"
   ]
  },
  {
   "cell_type": "code",
   "execution_count": null,
   "id": "9faca1ce-907e-49e3-94f4-689cd74cee03",
   "metadata": {
    "tags": []
   },
   "outputs": [],
   "source": [
    "plt.subplot(1,2,1)\n",
    "p.plot_dec_boundry(x,w1,b1,Y,0, False)\n",
    "plt.subplot(1,2,2)\n",
    "plt.plot(loss1)\n",
    "plt.suptitle(['Accuray' + str(p.accuracy(Y,class_pred) * 100)])\n",
    "plt.show()"
   ]
  },
  {
   "cell_type": "markdown",
   "id": "59b5218f-a642-414a-ab56-8e5f091d4590",
   "metadata": {},
   "source": [
    "## Reverting back data"
   ]
  },
  {
   "cell_type": "code",
   "execution_count": null,
   "id": "50bbe14a-64c8-4dc7-aabe-0ac1c3845e78",
   "metadata": {},
   "outputs": [],
   "source": [
    "!git log"
   ]
  },
  {
   "cell_type": "code",
   "execution_count": null,
   "id": "95085bde-4364-4735-adb5-f9a04e3e125e",
   "metadata": {
    "tags": []
   },
   "outputs": [],
   "source": [
    "!git checkout 059ce205b4be748d31fab6b18aa4d5028ebc48c5\n",
    "!dvc checkout"
   ]
  },
  {
   "cell_type": "code",
   "execution_count": null,
   "id": "a66f6b0d-1637-4c2d-a5c6-dbd430550a71",
   "metadata": {},
   "outputs": [],
   "source": [
    "with open(\"X_data.npy\", \"rb\") as fs_x:\n",
    "    X = np.load(fs_x)\n",
    "    \n",
    "with open(\"Y_data.npy\", \"rb\") as fs_y:\n",
    "    Y = np.load(fs_y)"
   ]
  },
  {
   "cell_type": "code",
   "execution_count": null,
   "id": "9db8e8c7-ada6-4330-bded-fa1c4c21fe10",
   "metadata": {},
   "outputs": [],
   "source": [
    "X.shape, Y.shape"
   ]
  },
  {
   "cell_type": "code",
   "execution_count": null,
   "id": "9ecac2f5-838f-41cb-92d1-0be180ba5295",
   "metadata": {},
   "outputs": [],
   "source": [
    "w1,b1,loss1 = p.percep_train(X,Y,epochs=100,lr=0.01)"
   ]
  },
  {
   "cell_type": "code",
   "execution_count": null,
   "id": "b5bec1ae-b07e-43dc-9f07-a36459b3e8cc",
   "metadata": {},
   "outputs": [],
   "source": [
    "class_pred = p.predict(x,w1,b1)\n",
    "print('Accuracy= ',p.accuracy(Y,class_pred) * 100,'%')"
   ]
  }
 ],
 "metadata": {
  "kernelspec": {
   "display_name": "Python 3 (ipykernel)",
   "language": "python",
   "name": "python3"
  },
  "language_info": {
   "codemirror_mode": {
    "name": "ipython",
    "version": 3
   },
   "file_extension": ".py",
   "mimetype": "text/x-python",
   "name": "python",
   "nbconvert_exporter": "python",
   "pygments_lexer": "ipython3",
   "version": "3.8.10"
  }
 },
 "nbformat": 4,
 "nbformat_minor": 5
}
