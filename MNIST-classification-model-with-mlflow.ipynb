{
  "cells": [
    {
      "cell_type": "code",
      "source": [
        "!pip install mlflow"
      ],
      "metadata": {
        "colab": {
          "base_uri": "https://localhost:8080/"
        },
        "id": "6iJr-VFgyZRB",
        "outputId": "1cb765f4-3c96-4ddf-ffe9-0aa56a3a3289"
      },
      "id": "6iJr-VFgyZRB",
      "execution_count": 1,
      "outputs": [
        {
          "output_type": "stream",
          "name": "stdout",
          "text": [
            "Installing collected packages: smmap, websocket-client, pyjwt, prometheus-client, Mako, gitdb, querystring-parser, prometheus-flask-exporter, gunicorn, gitpython, docker, databricks-cli, alembic, mlflow\n",
            "Successfully installed Mako-1.2.2 alembic-1.8.1 databricks-cli-0.17.3 docker-5.0.3 gitdb-4.0.9 gitpython-3.1.27 gunicorn-20.1.0 mlflow-1.28.0 prometheus-client-0.14.1 prometheus-flask-exporter-0.20.3 pyjwt-2.4.0 querystring-parser-1.2.4 smmap-5.0.0 websocket-client-1.4.1\n"
          ]
        }
      ]
    },
    {
      "cell_type": "code",
      "source": [
        "!npm install -g localtunnel"
      ],
      "metadata": {
        "colab": {
          "base_uri": "https://localhost:8080/"
        },
        "id": "347aXO4e4bWy",
        "outputId": "f666b339-5248-4227-96c8-d3efca77bebc"
      },
      "id": "347aXO4e4bWy",
      "execution_count": 15,
      "outputs": [
        {
          "output_type": "stream",
          "name": "stdout",
          "text": [
            "\u001b[K\u001b[?25h/tools/node/bin/lt -> /tools/node/lib/node_modules/localtunnel/bin/lt.js\n",
            "+ localtunnel@2.0.2\n",
            "added 22 packages from 22 contributors in 2.124s\n"
          ]
        }
      ]
    },
    {
      "cell_type": "code",
      "execution_count": 2,
      "id": "44c91a88-e498-4286-9249-d949265c8f03",
      "metadata": {
        "id": "44c91a88-e498-4286-9249-d949265c8f03"
      },
      "outputs": [],
      "source": [
        "from tensorflow.keras.datasets import mnist\n",
        "import matplotlib.pyplot as plt\n",
        "from tensorflow import keras\n",
        "from tensorflow.keras import layers\n",
        "from pathlib import Path\n",
        "\n",
        "import mlflow"
      ]
    },
    {
      "cell_type": "code",
      "execution_count": 3,
      "id": "d15b8a35-df07-4834-9c6c-b94c132cf7a4",
      "metadata": {
        "id": "d15b8a35-df07-4834-9c6c-b94c132cf7a4"
      },
      "outputs": [],
      "source": [
        "experiment_id = mlflow.create_experiment(\n",
        "    \"MNIST MLP classifier\", \n",
        "    artifact_location=Path.cwd().joinpath(\"./mlruns\").as_uri(),\n",
        "    tags={\"version\":\"v1\", \"priority\":\"P1\"}\n",
        ")"
      ]
    },
    {
      "cell_type": "code",
      "execution_count": 4,
      "id": "3874b2f7-a5b8-42f1-a1b5-989e094e5bc8",
      "metadata": {
        "colab": {
          "base_uri": "https://localhost:8080/",
          "height": 35
        },
        "id": "3874b2f7-a5b8-42f1-a1b5-989e094e5bc8",
        "outputId": "f1640673-ca25-4090-ef1c-9882e6b5cac3"
      },
      "outputs": [
        {
          "output_type": "execute_result",
          "data": {
            "text/plain": [
              "'1'"
            ],
            "application/vnd.google.colaboratory.intrinsic+json": {
              "type": "string"
            }
          },
          "metadata": {},
          "execution_count": 4
        }
      ],
      "source": [
        "experiment_id"
      ]
    },
    {
      "cell_type": "code",
      "execution_count": 5,
      "id": "ba5e04ae-60f7-4773-bacf-ce213f1b2222",
      "metadata": {
        "id": "ba5e04ae-60f7-4773-bacf-ce213f1b2222"
      },
      "outputs": [],
      "source": [
        "mlflow.set_tracking_uri(\"sqlite:///mlruns/mlruns.db\")"
      ]
    },
    {
      "cell_type": "code",
      "execution_count": 6,
      "id": "1d9f09fc-8750-4725-98bd-475bd4bc975b",
      "metadata": {
        "colab": {
          "base_uri": "https://localhost:8080/"
        },
        "id": "1d9f09fc-8750-4725-98bd-475bd4bc975b",
        "outputId": "7fafe045-d927-426b-d572-b2908f9cea7a"
      },
      "outputs": [
        {
          "output_type": "stream",
          "name": "stderr",
          "text": [
            "2022/09/16 10:48:22 INFO mlflow.store.db.utils: Creating initial MLflow database tables...\n",
            "2022/09/16 10:48:22 INFO mlflow.store.db.utils: Updating database tables\n",
            "INFO  [alembic.runtime.migration] Context impl SQLiteImpl.\n",
            "INFO  [alembic.runtime.migration] Will assume non-transactional DDL.\n",
            "INFO  [alembic.runtime.migration] Running upgrade  -> 451aebb31d03, add metric step\n",
            "INFO  [alembic.runtime.migration] Running upgrade 451aebb31d03 -> 90e64c465722, migrate user column to tags\n",
            "INFO  [alembic.runtime.migration] Running upgrade 90e64c465722 -> 181f10493468, allow nulls for metric values\n",
            "INFO  [alembic.runtime.migration] Running upgrade 181f10493468 -> df50e92ffc5e, Add Experiment Tags Table\n",
            "INFO  [alembic.runtime.migration] Running upgrade df50e92ffc5e -> 7ac759974ad8, Update run tags with larger limit\n",
            "INFO  [alembic.runtime.migration] Running upgrade 7ac759974ad8 -> 89d4b8295536, create latest metrics table\n",
            "INFO  [89d4b8295536_create_latest_metrics_table_py] Migration complete!\n",
            "INFO  [alembic.runtime.migration] Running upgrade 89d4b8295536 -> 2b4d017a5e9b, add model registry tables to db\n",
            "INFO  [2b4d017a5e9b_add_model_registry_tables_to_db_py] Adding registered_models and model_versions tables to database.\n",
            "INFO  [2b4d017a5e9b_add_model_registry_tables_to_db_py] Migration complete!\n",
            "INFO  [alembic.runtime.migration] Running upgrade 2b4d017a5e9b -> cfd24bdc0731, Update run status constraint with killed\n",
            "INFO  [alembic.runtime.migration] Running upgrade cfd24bdc0731 -> 0a8213491aaa, drop_duplicate_killed_constraint\n",
            "INFO  [alembic.runtime.migration] Running upgrade 0a8213491aaa -> 728d730b5ebd, add registered model tags table\n",
            "INFO  [alembic.runtime.migration] Running upgrade 728d730b5ebd -> 27a6a02d2cf1, add model version tags table\n",
            "INFO  [alembic.runtime.migration] Running upgrade 27a6a02d2cf1 -> 84291f40a231, add run_link to model_version\n",
            "INFO  [alembic.runtime.migration] Running upgrade 84291f40a231 -> a8c4a736bde6, allow nulls for run_id\n",
            "INFO  [alembic.runtime.migration] Running upgrade a8c4a736bde6 -> 39d1c3be5f05, add_is_nan_constraint_for_metrics_tables_if_necessary\n",
            "INFO  [alembic.runtime.migration] Running upgrade 39d1c3be5f05 -> c48cb773bb87, reset_default_value_for_is_nan_in_metrics_table_for_mysql\n",
            "INFO  [alembic.runtime.migration] Running upgrade c48cb773bb87 -> bd07f7e963c5, create index on run_uuid\n",
            "INFO  [alembic.runtime.migration] Running upgrade bd07f7e963c5 -> 0c779009ac13, add deleted_time field to runs table\n",
            "INFO  [alembic.runtime.migration] Running upgrade 0c779009ac13 -> cc1f77228345, change param value length to 500\n",
            "INFO  [alembic.runtime.migration] Context impl SQLiteImpl.\n",
            "INFO  [alembic.runtime.migration] Will assume non-transactional DDL.\n",
            "2022/09/16 10:48:23 INFO mlflow.tracking.fluent: Experiment with name 'MNIST MLP classifier' does not exist. Creating a new experiment.\n"
          ]
        }
      ],
      "source": [
        "experiment = mlflow.set_experiment(\"MNIST MLP classifier\")"
      ]
    },
    {
      "cell_type": "code",
      "execution_count": 7,
      "id": "4f8b9c1e-561b-405b-822c-cbcd9c804cde",
      "metadata": {
        "colab": {
          "base_uri": "https://localhost:8080/"
        },
        "id": "4f8b9c1e-561b-405b-822c-cbcd9c804cde",
        "outputId": "b1da3ffe-09ef-4360-f563-e009c1767acb"
      },
      "outputs": [
        {
          "output_type": "stream",
          "name": "stdout",
          "text": [
            "Downloading data from https://storage.googleapis.com/tensorflow/tf-keras-datasets/mnist.npz\n",
            "11493376/11490434 [==============================] - 0s 0us/step\n",
            "11501568/11490434 [==============================] - 0s 0us/step\n",
            "60000\n"
          ]
        }
      ],
      "source": [
        "(train_images,train_labels),(test_images,test_labels) = mnist.load_data()\n",
        "print(len(train_images))"
      ]
    },
    {
      "cell_type": "code",
      "execution_count": 32,
      "id": "0f4544f5-3cb3-4c4a-9831-c49e90566428",
      "metadata": {
        "id": "0f4544f5-3cb3-4c4a-9831-c49e90566428"
      },
      "outputs": [],
      "source": [
        "model = keras.Sequential([layers.Dense(128,activation='relu'),\n",
        "layers.Dense(10,activation='softmax')])\n",
        "model.compile(optimizer='rmsprop',loss='sparse_categorical_crossentropy',metrics=['accuracy'])"
      ]
    },
    {
      "cell_type": "code",
      "execution_count": 9,
      "id": "1762c88c-c308-445a-a202-aacb403f7ee5",
      "metadata": {
        "id": "1762c88c-c308-445a-a202-aacb403f7ee5"
      },
      "outputs": [],
      "source": [
        "train_images = train_images.reshape((60000,28*28))\n",
        "train_images = train_images.astype(\"float32\") / 255\n",
        "test_images = test_images.reshape((10000,28*28))\n",
        "test_images = test_images.astype(\"float32\") / 255"
      ]
    },
    {
      "cell_type": "code",
      "execution_count": 33,
      "id": "2d898d27-74e9-4ddc-b803-076c272466a2",
      "metadata": {
        "colab": {
          "base_uri": "https://localhost:8080/"
        },
        "id": "2d898d27-74e9-4ddc-b803-076c272466a2",
        "outputId": "2bd1d2a8-b69a-418b-904e-0f27d4f6c9d8"
      },
      "outputs": [
        {
          "output_type": "stream",
          "name": "stderr",
          "text": [
            "2022/09/16 10:56:21 WARNING mlflow.utils.autologging_utils: Encountered unexpected error during autologging: This model has not yet been built. Build the model first by calling `build()` or by calling the model on a batch of data.\n"
          ]
        },
        {
          "output_type": "stream",
          "name": "stdout",
          "text": [
            "Epoch 1/5\n",
            "469/469 [==============================] - 3s 6ms/step - loss: 0.3308 - accuracy: 0.9085\n",
            "Epoch 2/5\n",
            "469/469 [==============================] - 3s 7ms/step - loss: 0.1584 - accuracy: 0.9548\n",
            "Epoch 3/5\n",
            "469/469 [==============================] - 3s 7ms/step - loss: 0.1137 - accuracy: 0.9672\n",
            "Epoch 4/5\n",
            "469/469 [==============================] - 2s 5ms/step - loss: 0.0896 - accuracy: 0.9737\n",
            "Epoch 5/5\n",
            "469/469 [==============================] - 4s 8ms/step - loss: 0.0731 - accuracy: 0.9782\n"
          ]
        },
        {
          "output_type": "stream",
          "name": "stderr",
          "text": [
            "2022/09/16 10:56:38 WARNING mlflow.utils.requirements_utils: Found tensorflow version (2.8.2+zzzcolab20220719082949) contains a local version label (+zzzcolab20220719082949). MLflow logged a pip requirement for this package as 'tensorflow==2.8.2' without the local version label to make it installable from PyPI. To specify pip requirements containing local version labels, please use `conda_env` or `pip_requirements`.\n",
            "2022/09/16 10:56:44 WARNING mlflow.utils.requirements_utils: Found tensorflow version (2.8.2+zzzcolab20220719082949) contains a local version label (+zzzcolab20220719082949). MLflow logged a pip requirement for this package as 'tensorflow==2.8.2' without the local version label to make it installable from PyPI. To specify pip requirements containing local version labels, please use `conda_env` or `pip_requirements`.\n",
            "2022/09/16 10:56:44 WARNING mlflow.utils.requirements_utils: Found jaxlib version (0.3.15+cuda11.cudnn805) contains a local version label (+cuda11.cudnn805). MLflow logged a pip requirement for this package as 'jaxlib==0.3.15' without the local version label to make it installable from PyPI. To specify pip requirements containing local version labels, please use `conda_env` or `pip_requirements`.\n",
            "Registered model 'MLP MNIST classifier' already exists. Creating a new version of this model...\n",
            "2022/09/16 10:56:44 INFO mlflow.tracking._model_registry.client: Waiting up to 300 seconds for model version to finish creation.                     Model name: MLP MNIST classifier, version 3\n",
            "Created version '3' of model 'MLP MNIST classifier'.\n"
          ]
        }
      ],
      "source": [
        "with mlflow.start_run(experiment_id=experiment_id, description=\"MLP model for classifying MNIST hand written digits\", run_name=\"rmsprop-128N\") as run:\n",
        "  mlflow.keras.autolog(registered_model_name=\"MLP MNIST classifier\")\n",
        "  history = model.fit(train_images,train_labels,epochs = 5, batch_size=128)"
      ]
    },
    {
      "cell_type": "code",
      "source": [
        "get_ipython().system_raw(\"mlflow server --host 0.0.0.0 -p 8000 --backend-store-uri sqlite:///mlruns/mlruns.db --default-artifact-root ./mlruns &\")"
      ],
      "metadata": {
        "id": "3h2xMP3i6V3o"
      },
      "id": "3h2xMP3i6V3o",
      "execution_count": 10,
      "outputs": []
    },
    {
      "cell_type": "code",
      "source": [
        "get_ipython().system_raw('lt --port 8000 >> url.txt 2>&1 &')"
      ],
      "metadata": {
        "id": "DugQogoS9CQZ"
      },
      "id": "DugQogoS9CQZ",
      "execution_count": 17,
      "outputs": []
    },
    {
      "cell_type": "code",
      "source": [
        "# !rm url.txt"
      ],
      "metadata": {
        "id": "SVSxf8QS3oe6"
      },
      "id": "SVSxf8QS3oe6",
      "execution_count": 16,
      "outputs": []
    },
    {
      "cell_type": "code",
      "source": [
        "!cat url.txt"
      ],
      "metadata": {
        "colab": {
          "base_uri": "https://localhost:8080/"
        },
        "id": "WFr32LI29I8R",
        "outputId": "06e2a2e1-6c82-45b1-ffc6-33bf2bb245f0"
      },
      "id": "WFr32LI29I8R",
      "execution_count": 18,
      "outputs": [
        {
          "output_type": "stream",
          "name": "stdout",
          "text": [
            "your url is: https://young-pugs-live-34-83-147-216.loca.lt\n"
          ]
        }
      ]
    },
    {
      "cell_type": "code",
      "execution_count": 20,
      "id": "bad2d627-4c2b-4513-bced-8a7d36abdfc5",
      "metadata": {
        "id": "bad2d627-4c2b-4513-bced-8a7d36abdfc5"
      },
      "outputs": [],
      "source": [
        "test_img = test_images[0:2][:]\n",
        "test_labl = test_labels[0:2]\n",
        "pred_labl = model.predict(test_img)"
      ]
    },
    {
      "cell_type": "code",
      "execution_count": 21,
      "id": "1550aa3d-f0b6-42ec-9db5-7fbd43a76806",
      "metadata": {
        "colab": {
          "base_uri": "https://localhost:8080/"
        },
        "id": "1550aa3d-f0b6-42ec-9db5-7fbd43a76806",
        "outputId": "60eb585f-e423-4dfb-f557-00e2c253e285"
      },
      "outputs": [
        {
          "output_type": "stream",
          "name": "stdout",
          "text": [
            "Predicted error 0\n"
          ]
        }
      ],
      "source": [
        "print(f\"Predicted error {test_labl[0] - pred_labl[0].argmax()}\") "
      ]
    },
    {
      "cell_type": "code",
      "execution_count": null,
      "id": "51ff3dae-171d-4cea-bbba-7a622bb8c3d7",
      "metadata": {
        "id": "51ff3dae-171d-4cea-bbba-7a622bb8c3d7",
        "outputId": "db2a70f2-1e12-4ded-ae1e-a8c0c95b5665"
      },
      "outputs": [
        {
          "name": "stdout",
          "output_type": "stream",
          "text": [
            "1/1 [==============================] - 0s 91ms/step - loss: 0.0000e+00 - accuracy: 1.0000\n",
            "Test Loss:  0.0\n",
            "Test Accuracy:  100.0\n"
          ]
        }
      ],
      "source": [
        "test_loss, test_accuracy = model.evaluate(test_img,test_labl)\n",
        "print('Test Loss: ', test_loss)\n",
        "print('Test Accuracy: ',test_accuracy*100)"
      ]
    },
    {
      "cell_type": "code",
      "execution_count": null,
      "id": "c1b07c3c-3ee3-49b7-9f2b-024a6f02883e",
      "metadata": {
        "id": "c1b07c3c-3ee3-49b7-9f2b-024a6f02883e",
        "outputId": "a320ba37-67b0-430e-d97a-129e87d0adef"
      },
      "outputs": [
        {
          "name": "stdout",
          "output_type": "stream",
          "text": [
            "313/313 [==============================] - 1s 3ms/step - loss: 0.1494 - accuracy: 0.9837\n",
            "Test Loss:  0.14935661852359772\n",
            "Test Accuracy:  98.36999773979187\n"
          ]
        }
      ],
      "source": [
        "test_loss, test_accuracy = model.evaluate(test_images,test_labels)\n",
        "print('Test Loss: ', test_loss)\n",
        "print('Test Accuracy: ',test_accuracy*100)"
      ]
    },
    {
      "cell_type": "markdown",
      "id": "bb912b2f-39c8-4d72-a685-0d8463037ab1",
      "metadata": {
        "id": "bb912b2f-39c8-4d72-a685-0d8463037ab1"
      },
      "source": [
        "## Loading model for predictions"
      ]
    },
    {
      "cell_type": "code",
      "execution_count": 22,
      "id": "3368df92-c03f-4194-a81a-f08b487bc9f1",
      "metadata": {
        "colab": {
          "base_uri": "https://localhost:8080/",
          "height": 35
        },
        "id": "3368df92-c03f-4194-a81a-f08b487bc9f1",
        "outputId": "5a291ab6-7bda-49ef-9c27-70f328ce7cd2"
      },
      "outputs": [
        {
          "output_type": "execute_result",
          "data": {
            "text/plain": [
              "'c77f7a6e37f04e68bc2c5fd6f2517bd1'"
            ],
            "application/vnd.google.colaboratory.intrinsic+json": {
              "type": "string"
            }
          },
          "metadata": {},
          "execution_count": 22
        }
      ],
      "source": [
        "run.info.run_id"
      ]
    },
    {
      "cell_type": "code",
      "execution_count": 24,
      "id": "5d914092-78b0-4ea6-95db-628d1fd8367b",
      "metadata": {
        "id": "5d914092-78b0-4ea6-95db-628d1fd8367b"
      },
      "outputs": [],
      "source": [
        "keras_model = mlflow.keras.load_model(f\"runs:/{run.info.run_id}\" + \"/model\")"
      ]
    },
    {
      "cell_type": "code",
      "execution_count": 25,
      "id": "7e097b79-851b-4f6c-abc2-9f6060de677a",
      "metadata": {
        "id": "7e097b79-851b-4f6c-abc2-9f6060de677a"
      },
      "outputs": [],
      "source": [
        "predictions = keras_model.predict(test_img)"
      ]
    },
    {
      "cell_type": "code",
      "execution_count": 26,
      "id": "c1ba2c64-cf6e-4865-8d49-2176bc3b926e",
      "metadata": {
        "colab": {
          "base_uri": "https://localhost:8080/"
        },
        "id": "c1ba2c64-cf6e-4865-8d49-2176bc3b926e",
        "outputId": "cbb7e46c-5539-4b75-d3d2-1e9d85dd4657"
      },
      "outputs": [
        {
          "output_type": "execute_result",
          "data": {
            "text/plain": [
              "7"
            ]
          },
          "metadata": {},
          "execution_count": 26
        }
      ],
      "source": [
        "predictions[0].argmax()"
      ]
    },
    {
      "cell_type": "code",
      "execution_count": 27,
      "id": "9879f74d-be7f-4c4e-82fb-425c4682d4ab",
      "metadata": {
        "colab": {
          "base_uri": "https://localhost:8080/"
        },
        "id": "9879f74d-be7f-4c4e-82fb-425c4682d4ab",
        "outputId": "fde3e9ad-3980-4160-baee-9e2da8fab061"
      },
      "outputs": [
        {
          "output_type": "execute_result",
          "data": {
            "text/plain": [
              "(784,)"
            ]
          },
          "metadata": {},
          "execution_count": 27
        }
      ],
      "source": [
        "test_images[0].shape"
      ]
    },
    {
      "cell_type": "markdown",
      "id": "f59b3b32-56d6-41b1-be2a-0497bb75c326",
      "metadata": {
        "id": "f59b3b32-56d6-41b1-be2a-0497bb75c326"
      },
      "source": [
        "## Infering with served model"
      ]
    },
    {
      "cell_type": "code",
      "execution_count": null,
      "id": "261ed65c-aca5-491d-a556-701ee6cedf37",
      "metadata": {
        "id": "261ed65c-aca5-491d-a556-701ee6cedf37"
      },
      "outputs": [],
      "source": [
        "import requests\n",
        "import json\n",
        "import numpy as np"
      ]
    },
    {
      "cell_type": "code",
      "execution_count": null,
      "id": "98e73761-31a7-41b1-9e88-16fd322a3062",
      "metadata": {
        "id": "98e73761-31a7-41b1-9e88-16fd322a3062"
      },
      "outputs": [],
      "source": [
        "json_data = {'data': np.expand_dims(test_images[0], axis=0).tolist()}"
      ]
    },
    {
      "cell_type": "code",
      "execution_count": null,
      "id": "8c4851c8-da59-4e02-8690-acddf7df984c",
      "metadata": {
        "tags": [],
        "id": "8c4851c8-da59-4e02-8690-acddf7df984c",
        "outputId": "00fca20d-1aeb-43e3-983d-6155e62f0518"
      },
      "outputs": [
        {
          "name": "stdout",
          "output_type": "stream",
          "text": [
            "[{\"0\": 4.766670946843021e-10, \"1\": 5.465215411303015e-13, \"2\": 9.226603481238271e-09, \"3\": 5.619980947813019e-05, \"4\": 3.853055600619776e-17, \"5\": 5.215898268851049e-10, \"6\": 6.385581625232239e-18, \"7\": 0.9999409914016724, \"8\": 6.213520808984185e-10, \"9\": 2.7281921575195156e-06}]\n"
          ]
        }
      ],
      "source": [
        "headers = {'Content-type': 'application/json'}\n",
        "res = requests.post('http://127.0.0.1:5000/invocations', headers=headers, data=json.dumps(json_data))\n",
        "print(res.text)"
      ]
    },
    {
      "cell_type": "code",
      "execution_count": null,
      "id": "39629286-8849-4dd3-9715-1dcc59bc118f",
      "metadata": {
        "id": "39629286-8849-4dd3-9715-1dcc59bc118f"
      },
      "outputs": [],
      "source": []
    }
  ],
  "metadata": {
    "kernelspec": {
      "display_name": "Python 3 (ipykernel)",
      "language": "python",
      "name": "python3"
    },
    "language_info": {
      "codemirror_mode": {
        "name": "ipython",
        "version": 3
      },
      "file_extension": ".py",
      "mimetype": "text/x-python",
      "name": "python",
      "nbconvert_exporter": "python",
      "pygments_lexer": "ipython3",
      "version": "3.8.12"
    },
    "colab": {
      "provenance": []
    }
  },
  "nbformat": 4,
  "nbformat_minor": 5
}