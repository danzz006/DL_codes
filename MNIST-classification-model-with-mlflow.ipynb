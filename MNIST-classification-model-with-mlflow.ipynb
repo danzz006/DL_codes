{
 "cells": [
  {
   "cell_type": "code",
   "execution_count": 2,
   "id": "44c91a88-e498-4286-9249-d949265c8f03",
   "metadata": {},
   "outputs": [],
   "source": [
    "from tensorflow.keras.datasets import mnist\n",
    "import matplotlib.pyplot as plt\n",
    "from tensorflow import keras\n",
    "from tensorflow.keras import layers\n",
    "from pathlib import Path\n",
    "\n",
    "import mlflow"
   ]
  },
  {
   "cell_type": "code",
   "execution_count": 40,
   "id": "d15b8a35-df07-4834-9c6c-b94c132cf7a4",
   "metadata": {},
   "outputs": [],
   "source": [
    "experiment_id = mlflow.create_experiment(\n",
    "    \"MNIST MLP classifier\", \n",
    "    artifact_location=Path.cwd().joinpath(\"./meta/mlflow/mlartifacts\").as_uri(),\n",
    "    tags={\"version\":\"v1\", \"priority\":\"P1\"}\n",
    ")"
   ]
  },
  {
   "cell_type": "code",
   "execution_count": 41,
   "id": "3874b2f7-a5b8-42f1-a1b5-989e094e5bc8",
   "metadata": {},
   "outputs": [
    {
     "data": {
      "text/plain": [
       "'0'"
      ]
     },
     "execution_count": 41,
     "metadata": {},
     "output_type": "execute_result"
    }
   ],
   "source": [
    "experiment_id"
   ]
  },
  {
   "cell_type": "code",
   "execution_count": 42,
   "id": "1d9f09fc-8750-4725-98bd-475bd4bc975b",
   "metadata": {},
   "outputs": [],
   "source": [
    "experiment = mlflow.set_experiment(\"MNIST MLP classifier\")"
   ]
  },
  {
   "cell_type": "code",
   "execution_count": 43,
   "id": "ba5e04ae-60f7-4773-bacf-ce213f1b2222",
   "metadata": {},
   "outputs": [],
   "source": [
    "mlflow.set_tracking_uri(\"http://localhost:5000\")"
   ]
  },
  {
   "cell_type": "code",
   "execution_count": 6,
   "id": "4f8b9c1e-561b-405b-822c-cbcd9c804cde",
   "metadata": {},
   "outputs": [
    {
     "name": "stdout",
     "output_type": "stream",
     "text": [
      "60000\n"
     ]
    }
   ],
   "source": [
    "(train_images,train_labels),(test_images,test_labels) = mnist.load_data()\n",
    "print(len(train_images))"
   ]
  },
  {
   "cell_type": "code",
   "execution_count": 7,
   "id": "0f4544f5-3cb3-4c4a-9831-c49e90566428",
   "metadata": {},
   "outputs": [],
   "source": [
    "model = keras.Sequential([layers.Dense(512,activation='relu'),\n",
    "layers.Dense(10,activation='softmax')])\n",
    "model.compile(optimizer='rmsprop',loss='sparse_categorical_crossentropy',metrics=['accuracy'])"
   ]
  },
  {
   "cell_type": "code",
   "execution_count": 8,
   "id": "1762c88c-c308-445a-a202-aacb403f7ee5",
   "metadata": {},
   "outputs": [],
   "source": [
    "train_images = train_images.reshape((60000,28*28))\n",
    "train_images = train_images.astype(\"float32\") / 255\n",
    "test_images = test_images.reshape((10000,28*28))\n",
    "test_images = test_images.astype(\"float32\") / 255"
   ]
  },
  {
   "cell_type": "code",
   "execution_count": 44,
   "id": "2d898d27-74e9-4ddc-b803-076c272466a2",
   "metadata": {},
   "outputs": [
    {
     "name": "stdout",
     "output_type": "stream",
     "text": [
      "Epoch 1/5\n",
      "469/469 [==============================] - 2s 4ms/step - loss: 8.8811e-09 - accuracy: 1.0000\n",
      "Epoch 2/5\n",
      "469/469 [==============================] - 1s 3ms/step - loss: 8.6248e-09 - accuracy: 1.0000\n",
      "Epoch 3/5\n",
      "469/469 [==============================] - 2s 3ms/step - loss: 8.2731e-09 - accuracy: 1.0000\n",
      "Epoch 4/5\n",
      "469/469 [==============================] - 1s 3ms/step - loss: 8.0943e-09 - accuracy: 1.0000\n",
      "Epoch 5/5\n",
      "469/469 [==============================] - 1s 3ms/step - loss: 7.8817e-09 - accuracy: 1.0000\n"
     ]
    }
   ],
   "source": [
    "mlflow.keras.autolog()\n",
    "histroy = model.fit(train_images,train_labels,epochs = 5, batch_size=128)"
   ]
  },
  {
   "cell_type": "code",
   "execution_count": 59,
   "id": "30cf3d91-2536-4fb1-9cad-50f9723f6e69",
   "metadata": {},
   "outputs": [
    {
     "name": "stdout",
     "output_type": "stream",
     "text": [
      "WARNING:tensorflow:AutoGraph could not transform <function trace_model_call.<locals>._wrapped_model at 0x000001B87A3DBA60> and will run it as-is.\n",
      "Please report this to the TensorFlow team. When filing the bug, set the verbosity to 10 (on Linux, `export AUTOGRAPH_VERBOSITY=10`) and attach the full output.\n",
      "Cause: unsupported operand type(s) for -: 'NoneType' and 'int'\n",
      "To silence this warning, decorate the function with @tf.autograph.experimental.do_not_convert\n",
      "WARNING: AutoGraph could not transform <function trace_model_call.<locals>._wrapped_model at 0x000001B87A3DBA60> and will run it as-is.\n",
      "Please report this to the TensorFlow team. When filing the bug, set the verbosity to 10 (on Linux, `export AUTOGRAPH_VERBOSITY=10`) and attach the full output.\n",
      "Cause: unsupported operand type(s) for -: 'NoneType' and 'int'\n",
      "To silence this warning, decorate the function with @tf.autograph.experimental.do_not_convert\n",
      "WARNING:tensorflow:AutoGraph could not transform <function canonicalize_signatures.<locals>.signature_wrapper at 0x000001B87A3EC280> and will run it as-is.\n",
      "Please report this to the TensorFlow team. When filing the bug, set the verbosity to 10 (on Linux, `export AUTOGRAPH_VERBOSITY=10`) and attach the full output.\n",
      "Cause: unsupported operand type(s) for -: 'NoneType' and 'int'\n",
      "To silence this warning, decorate the function with @tf.autograph.experimental.do_not_convert\n",
      "WARNING: AutoGraph could not transform <function canonicalize_signatures.<locals>.signature_wrapper at 0x000001B87A3EC280> and will run it as-is.\n",
      "Please report this to the TensorFlow team. When filing the bug, set the verbosity to 10 (on Linux, `export AUTOGRAPH_VERBOSITY=10`) and attach the full output.\n",
      "Cause: unsupported operand type(s) for -: 'NoneType' and 'int'\n",
      "To silence this warning, decorate the function with @tf.autograph.experimental.do_not_convert\n",
      "INFO:tensorflow:Assets written to: C:\\PROGRA~1\\KMSpico\\temp\\tmpd12cx2qw\\model\\data\\model\\assets\n"
     ]
    }
   ],
   "source": [
    "with mlflow.start_run(experiment_id=experiment_id, description=\"parent\") as run:\n",
    "    mlflow.keras.log_model(model, \"models\")\n",
    "    "
   ]
  },
  {
   "cell_type": "code",
   "execution_count": 60,
   "id": "3368df92-c03f-4194-a81a-f08b487bc9f1",
   "metadata": {},
   "outputs": [
    {
     "data": {
      "text/plain": [
       "'cb48122c54084acbbd40a8adeb971dce'"
      ]
     },
     "execution_count": 60,
     "metadata": {},
     "output_type": "execute_result"
    }
   ],
   "source": [
    "run.info.run_id"
   ]
  },
  {
   "cell_type": "code",
   "execution_count": 29,
   "id": "bad2d627-4c2b-4513-bced-8a7d36abdfc5",
   "metadata": {},
   "outputs": [],
   "source": [
    "test_img = test_images[0:2][:]\n",
    "test_labl = test_labels[0:2]\n",
    "pred_labl = model.predict(test_img)"
   ]
  },
  {
   "cell_type": "code",
   "execution_count": 30,
   "id": "1550aa3d-f0b6-42ec-9db5-7fbd43a76806",
   "metadata": {},
   "outputs": [
    {
     "name": "stdout",
     "output_type": "stream",
     "text": [
      "Predicted error 0\n"
     ]
    }
   ],
   "source": [
    "print(f\"Predicted error {test_labl[0] - pred_labl[0].argmax()}\") "
   ]
  },
  {
   "cell_type": "code",
   "execution_count": 31,
   "id": "51ff3dae-171d-4cea-bbba-7a622bb8c3d7",
   "metadata": {},
   "outputs": [
    {
     "name": "stdout",
     "output_type": "stream",
     "text": [
      "1/1 [==============================] - 0s 91ms/step - loss: 0.0000e+00 - accuracy: 1.0000\n",
      "Test Loss:  0.0\n",
      "Test Accuracy:  100.0\n"
     ]
    }
   ],
   "source": [
    "test_loss, test_accuracy = model.evaluate(test_img,test_labl)\n",
    "print('Test Loss: ', test_loss)\n",
    "print('Test Accuracy: ',test_accuracy*100)"
   ]
  },
  {
   "cell_type": "code",
   "execution_count": 32,
   "id": "c1b07c3c-3ee3-49b7-9f2b-024a6f02883e",
   "metadata": {},
   "outputs": [
    {
     "name": "stdout",
     "output_type": "stream",
     "text": [
      "313/313 [==============================] - 1s 3ms/step - loss: 0.1494 - accuracy: 0.9837\n",
      "Test Loss:  0.14935661852359772\n",
      "Test Accuracy:  98.36999773979187\n"
     ]
    }
   ],
   "source": [
    "test_loss, test_accuracy = model.evaluate(test_images,test_labels)\n",
    "print('Test Loss: ', test_loss)\n",
    "print('Test Accuracy: ',test_accuracy*100)"
   ]
  },
  {
   "cell_type": "markdown",
   "id": "bb912b2f-39c8-4d72-a685-0d8463037ab1",
   "metadata": {},
   "source": [
    "## Loading model for predictions"
   ]
  },
  {
   "cell_type": "code",
   "execution_count": 61,
   "id": "5d914092-78b0-4ea6-95db-628d1fd8367b",
   "metadata": {},
   "outputs": [],
   "source": [
    "keras_model = mlflow.keras.load_model(f\"runs:/{run.info.run_id}\" + \"/models\")"
   ]
  },
  {
   "cell_type": "code",
   "execution_count": 62,
   "id": "7e097b79-851b-4f6c-abc2-9f6060de677a",
   "metadata": {},
   "outputs": [],
   "source": [
    "predictions = keras_model.predict(test_img)"
   ]
  },
  {
   "cell_type": "code",
   "execution_count": 64,
   "id": "c1ba2c64-cf6e-4865-8d49-2176bc3b926e",
   "metadata": {},
   "outputs": [
    {
     "data": {
      "text/plain": [
       "7"
      ]
     },
     "execution_count": 64,
     "metadata": {},
     "output_type": "execute_result"
    }
   ],
   "source": [
    "predictions[0].argmax()"
   ]
  },
  {
   "cell_type": "code",
   "execution_count": 88,
   "id": "9879f74d-be7f-4c4e-82fb-425c4682d4ab",
   "metadata": {},
   "outputs": [
    {
     "data": {
      "text/plain": [
       "(784,)"
      ]
     },
     "execution_count": 88,
     "metadata": {},
     "output_type": "execute_result"
    }
   ],
   "source": [
    "test_images[0].shape"
   ]
  },
  {
   "cell_type": "markdown",
   "id": "f59b3b32-56d6-41b1-be2a-0497bb75c326",
   "metadata": {},
   "source": [
    "## Infering with served model"
   ]
  },
  {
   "cell_type": "code",
   "execution_count": 94,
   "id": "261ed65c-aca5-491d-a556-701ee6cedf37",
   "metadata": {},
   "outputs": [],
   "source": [
    "import requests\n",
    "import json\n",
    "import numpy as np"
   ]
  },
  {
   "cell_type": "code",
   "execution_count": null,
   "id": "98e73761-31a7-41b1-9e88-16fd322a3062",
   "metadata": {},
   "outputs": [],
   "source": [
    "json_data = {'data': np.expand_dims(test_images[0], axis=0).tolist()}"
   ]
  },
  {
   "cell_type": "code",
   "execution_count": 96,
   "id": "8c4851c8-da59-4e02-8690-acddf7df984c",
   "metadata": {
    "tags": []
   },
   "outputs": [
    {
     "name": "stdout",
     "output_type": "stream",
     "text": [
      "[{\"0\": 4.766670946843021e-10, \"1\": 5.465215411303015e-13, \"2\": 9.226603481238271e-09, \"3\": 5.619980947813019e-05, \"4\": 3.853055600619776e-17, \"5\": 5.215898268851049e-10, \"6\": 6.385581625232239e-18, \"7\": 0.9999409914016724, \"8\": 6.213520808984185e-10, \"9\": 2.7281921575195156e-06}]\n"
     ]
    }
   ],
   "source": [
    "headers = {'Content-type': 'application/json'}\n",
    "res = requests.post('http://127.0.0.1:5000/invocations', headers=headers, data=json.dumps(json_data))\n",
    "print(res.text)"
   ]
  }
 ],
 "metadata": {
  "kernelspec": {
   "display_name": "Python 3 (ipykernel)",
   "language": "python",
   "name": "python3"
  },
  "language_info": {
   "codemirror_mode": {
    "name": "ipython",
    "version": 3
   },
   "file_extension": ".py",
   "mimetype": "text/x-python",
   "name": "python",
   "nbconvert_exporter": "python",
   "pygments_lexer": "ipython3",
   "version": "3.8.12"
  }
 },
 "nbformat": 4,
 "nbformat_minor": 5
}
