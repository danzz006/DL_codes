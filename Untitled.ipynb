{
 "cells": [
  {
   "cell_type": "code",
   "execution_count": 17,
   "metadata": {},
   "outputs": [],
   "source": [
    "from tensorflow import keras\n",
    "from tensorflow.keras import layers\n",
    "from tensorflow.keras.datasets import mnist\n",
    "import matplotlib.pyplot as plt\n",
    "from pathlib import Path\n",
    "\n",
    "import mlflow"
   ]
  },
  {
   "cell_type": "markdown",
   "metadata": {},
   "source": [
    "## Creating MLFlow experiment"
   ]
  },
  {
   "cell_type": "code",
   "execution_count": 62,
   "metadata": {},
   "outputs": [],
   "source": [
    "experiment_id = mlflow.create_experiment(\n",
    "    \"MNIST Classification with MLP\",\n",
    "    artifact_location=Path.cwd().joinpath(\"./metadata/mlflow/mlartifacts\").as_uri(),\n",
    "    tags={\"version\": \"v1\", \"priority\": \"P1\"}\n",
    ")"
   ]
  },
  {
   "cell_type": "markdown",
   "metadata": {},
   "source": [
    "## Setting experiment"
   ]
  },
  {
   "cell_type": "code",
   "execution_count": 68,
   "metadata": {},
   "outputs": [],
   "source": [
    "experiment = mlflow.set_experiment(\"MNIST Classification with MLP\")"
   ]
  },
  {
   "cell_type": "code",
   "execution_count": 63,
   "metadata": {},
   "outputs": [
    {
     "data": {
      "text/plain": [
       "'1'"
      ]
     },
     "execution_count": 63,
     "metadata": {},
     "output_type": "execute_result"
    }
   ],
   "source": [
    "experiment_id"
   ]
  },
  {
   "cell_type": "markdown",
   "metadata": {},
   "source": [
    "## Set tracking uri"
   ]
  },
  {
   "cell_type": "markdown",
   "metadata": {},
   "source": [
    "mlflow.set_tracking_uri(\"http://localhost:5000\")"
   ]
  },
  {
   "cell_type": "markdown",
   "metadata": {},
   "source": [
    "## Loading Data"
   ]
  },
  {
   "cell_type": "code",
   "execution_count": 4,
   "metadata": {},
   "outputs": [
    {
     "name": "stdout",
     "output_type": "stream",
     "text": [
      "Downloading data from https://storage.googleapis.com/tensorflow/tf-keras-datasets/mnist.npz\n",
      "11493376/11490434 [==============================] - 13s 1us/step\n",
      "60000\n"
     ]
    }
   ],
   "source": [
    "(train_images,train_labels),(test_images,test_labels) = mnist.load_data()\n",
    "print(len(train_images))\n"
   ]
  },
  {
   "cell_type": "markdown",
   "metadata": {},
   "source": [
    "## Defining model Architecture"
   ]
  },
  {
   "cell_type": "code",
   "execution_count": 5,
   "metadata": {},
   "outputs": [],
   "source": [
    "model = keras.Sequential([layers.Dense(512,activation='relu'),\n",
    "layers.Dense(10,activation='softmax')])\n",
    "model.compile(optimizer='rmsprop',loss='sparse_categorical_crossentropy',metrics=['accuracy'])"
   ]
  },
  {
   "cell_type": "code",
   "execution_count": 6,
   "metadata": {},
   "outputs": [],
   "source": [
    "train_images = train_images.reshape((60000,28*28))\n",
    "train_images = train_images.astype(\"float32\") / 255\n",
    "test_images = test_images.reshape((10000,28*28))\n",
    "test_images = test_images.astype(\"float32\") / 255"
   ]
  },
  {
   "cell_type": "markdown",
   "metadata": {},
   "source": [
    "## Training model"
   ]
  },
  {
   "cell_type": "code",
   "execution_count": 71,
   "metadata": {},
   "outputs": [
    {
     "name": "stderr",
     "output_type": "stream",
     "text": [
      "2022/09/04 23:11:14 INFO mlflow.utils.autologging_utils: Created MLflow autologging run with ID '8732f8b22b85479b9f1816443966ad8a', which will track hyperparameters, performance metrics, model artifacts, and lineage information for the current keras workflow\n"
     ]
    },
    {
     "name": "stdout",
     "output_type": "stream",
     "text": [
      "Epoch 1/7\n",
      "235/235 [==============================] - 5s 21ms/step - loss: 4.7664e-09 - accuracy: 1.0000\n",
      "Epoch 2/7\n",
      "235/235 [==============================] - 5s 20ms/step - loss: 4.7068e-09 - accuracy: 1.0000 0s - loss: 4.5901e-09  - ETA: 0s - loss: 4.6738e-09 - ac\n",
      "Epoch 3/7\n",
      "235/235 [==============================] - 4s 19ms/step - loss: 4.6849e-09 - accuracy: 1.0000\n",
      "Epoch 4/7\n",
      "235/235 [==============================] - 5s 20ms/step - loss: 4.5915e-09 - accuracy: 1.0000\n",
      "Epoch 5/7\n",
      "235/235 [==============================] - 4s 18ms/step - loss: 4.5478e-09 - accuracy: 1.0000\n",
      "Epoch 6/7\n",
      "235/235 [==============================] - 4s 18ms/step - loss: 4.5081e-09 - accuracy: 1.0000 0s - loss: 4.4564e\n",
      "Epoch 7/7\n",
      "235/235 [==============================] - 4s 19ms/step - loss: 4.4922e-09 - accuracy: 1.0000\n",
      "INFO:tensorflow:Assets written to: C:\\Users\\Mahad\\AppData\\Local\\Temp\\tmpwwbl3oou\\model\\data\\model\\assets\n"
     ]
    }
   ],
   "source": [
    "histroy = model.fit(train_images,train_labels,epochs = 7, batch_size=256)"
   ]
  },
  {
   "cell_type": "markdown",
   "metadata": {},
   "source": [
    "## Logging and registering model"
   ]
  },
  {
   "cell_type": "code",
   "execution_count": 66,
   "metadata": {},
   "outputs": [
    {
     "name": "stdout",
     "output_type": "stream",
     "text": [
      "INFO:tensorflow:Assets written to: C:\\Users\\Mahad\\AppData\\Local\\Temp\\tmp5xtqdobp\\model\\data\\model\\assets\n"
     ]
    },
    {
     "name": "stderr",
     "output_type": "stream",
     "text": [
      "Registered model 'mnist-mlp-classifier' already exists. Creating a new version of this model...\n",
      "2022/09/04 21:06:39 INFO mlflow.tracking._model_registry.client: Waiting up to 300 seconds for model version to finish creation.                     Model name: mnist-mlp-classifier, version 2\n",
      "Created version '2' of model 'mnist-mlp-classifier'.\n"
     ]
    }
   ],
   "source": [
    "with mlflow.start_run(experiment_id=experiment_id, description=\"parent\") as run:\n",
    "    mlflow.keras.log_model(model, \"models\", registered_model_name=\"mnist-mlp-classifier\")"
   ]
  },
  {
   "cell_type": "code",
   "execution_count": null,
   "metadata": {},
   "outputs": [],
   "source": [
    "# mlflow ui --backend-store-uri sqlite:///metadata/mlflow/mlruns.db --default-artifact-root ./metadata/mlflow/mlartifacts --host localhost"
   ]
  },
  {
   "cell_type": "code",
   "execution_count": 15,
   "metadata": {},
   "outputs": [
    {
     "data": {
      "text/plain": [
       "{'loss': [0.2529228925704956,\n",
       "  0.1034754142165184,\n",
       "  0.06827481836080551,\n",
       "  0.04872676730155945,\n",
       "  0.03723808005452156],\n",
       " 'accuracy': [0.927133321762085,\n",
       "  0.9687166810035706,\n",
       "  0.9796500205993652,\n",
       "  0.9855333566665649,\n",
       "  0.9884166717529297]}"
      ]
     },
     "execution_count": 15,
     "metadata": {},
     "output_type": "execute_result"
    }
   ],
   "source": [
    "model.history.history"
   ]
  },
  {
   "cell_type": "code",
   "execution_count": null,
   "metadata": {},
   "outputs": [],
   "source": [
    "test_img = test_images[0:2][:]\n",
    "test_labl = test_labels[0:2]\n",
    "pred_labl = model.predict(test_img)"
   ]
  },
  {
   "cell_type": "code",
   "execution_count": null,
   "metadata": {},
   "outputs": [],
   "source": [
    "print(f\"Predicted error {test_labl[0] - pred_labl[0].argmax()}\") "
   ]
  },
  {
   "cell_type": "code",
   "execution_count": null,
   "metadata": {},
   "outputs": [],
   "source": [
    "test_loss, test_accuracy = model.evaluate(test_img,test_labl)\n",
    "print('Test Loss: ', test_loss)\n",
    "print('Test Accuracy: ',test_accuracy*100)"
   ]
  },
  {
   "cell_type": "code",
   "execution_count": null,
   "metadata": {},
   "outputs": [],
   "source": [
    "test_loss, test_accuracy = model.evaluate(test_images,test_labels)\n",
    "print('Test Loss: ', test_loss)\n",
    "print('Test Accuracy: ',test_accuracy*100)"
   ]
  }
 ],
 "metadata": {
  "kernelspec": {
   "display_name": "Python 3",
   "language": "python",
   "name": "python3"
  },
  "language_info": {
   "codemirror_mode": {
    "name": "ipython",
    "version": 3
   },
   "file_extension": ".py",
   "mimetype": "text/x-python",
   "name": "python",
   "nbconvert_exporter": "python",
   "pygments_lexer": "ipython3",
   "version": "3.7.3"
  }
 },
 "nbformat": 4,
 "nbformat_minor": 4
}
