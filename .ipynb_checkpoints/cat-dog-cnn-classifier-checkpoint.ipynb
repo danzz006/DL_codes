{
 "cells": [
  {
   "cell_type": "code",
   "execution_count": null,
   "id": "4d6d03dd-d24a-4cac-a942-116c6c7bc8f9",
   "metadata": {},
   "outputs": [],
   "source": [
    "!dvc https://github.com/iterative/dataset-registry tutorials/versioning/data.zip"
   ]
  },
  {
   "cell_type": "code",
   "execution_count": null,
   "id": "3b2d616e-8aa9-4972-a750-36f42b92f9dd",
   "metadata": {},
   "outputs": [],
   "source": [
    "!dvc add data"
   ]
  },
  {
   "cell_type": "code",
   "execution_count": null,
   "id": "3a3046d7-e3f2-4d48-bcaf-1598baaebb4d",
   "metadata": {},
   "outputs": [],
   "source": [
    "import numpy as np\n",
    "import sys\n",
    "import os\n",
    "\n",
    "from tensorflow.keras.preprocessing.image import ImageDataGenerator\n",
    "from tensorflow.keras.models import Sequential\n",
    "from tensorflow.keras.layers import Dropout, Flatten, Dense\n",
    "from tensorflow.keras import applications\n",
    "from tensorflow.keras.callbacks import CSVLogger\n",
    "from tqdm.keras import TqdmCallback"
   ]
  },
  {
   "cell_type": "code",
   "execution_count": null,
   "id": "ecf622fb-b097-4235-8b3c-f56af0d47cc1",
   "metadata": {},
   "outputs": [],
   "source": [
    "experiment_id = mlflow.create_experiment(\n",
    "    \"cat-dog VGG classifier\", \n",
    "    artifact_location=Path.cwd().joinpath(\"./meta/mlflow/mlartifacts\").as_uri(),\n",
    "    tags={\"version\":\"v1\", \"priority\":\"P1\"}\n",
    ")"
   ]
  },
  {
   "cell_type": "code",
   "execution_count": null,
   "id": "55d43e91-7c2f-4b58-a94d-b0e93ddccb7e",
   "metadata": {},
   "outputs": [],
   "source": [
    "experiment = mlflow.set_experiment(\"MNIST MLP classifier\")"
   ]
  },
  {
   "cell_type": "code",
   "execution_count": null,
   "id": "bbd6da5e-ba8f-46cf-9291-3524f6a672ad",
   "metadata": {},
   "outputs": [],
   "source": [
    "mlflow.set_tracking_uri(\"http://localhost:5000\")"
   ]
  },
  {
   "cell_type": "code",
   "execution_count": 3,
   "id": "ccdbac51-8658-4cde-bab9-92841cc77752",
   "metadata": {},
   "outputs": [],
   "source": [
    "path =  = os.getcwd()"
   ]
  },
  {
   "cell_type": "code",
   "execution_count": 4,
   "id": "c52484bc-7a16-407d-ab1c-2fab056b8d9a",
   "metadata": {},
   "outputs": [],
   "source": [
    "img_width, img_height = 150, 150"
   ]
  },
  {
   "cell_type": "code",
   "execution_count": 13,
   "id": "75fc3f64-1714-468c-a71d-eaec25664eb4",
   "metadata": {},
   "outputs": [],
   "source": [
    "top_model_weights_path = 'model.h5'\n",
    "train_data_dir = os.path.join('data', 'train')\n",
    "validation_data_dir = os.path.join('data', 'validation')\n",
    "cats_train_path = os.path.join(path, train_data_dir, 'cats')\n",
    "nb_train_samples = 2 * len([name for name in os.listdir(cats_train_path)\n",
    "                            if os.path.isfile(\n",
    "                                os.path.join(cats_train_path, name))])\n"
   ]
  },
  {
   "cell_type": "code",
   "execution_count": 16,
   "id": "35d60c62-7c95-411b-94c1-fc6fc0735181",
   "metadata": {},
   "outputs": [
    {
     "name": "stdout",
     "output_type": "stream",
     "text": [
      "Found 1000 images belonging to 2 classes.\n",
      "Found 800 images belonging to 2 classes.\n"
     ]
    }
   ],
   "source": [
    "datagen = ImageDataGenerator(rescale=1. / 255)\n",
    "\n",
    "# build the VGG16 network\n",
    "model = applications.VGG16(include_top=False, weights='imagenet')\n",
    "\n",
    "train_generator = datagen.flow_from_directory(\n",
    "    train_data_dir,\n",
    "    target_size=(img_width, img_height),\n",
    "    batch_size=batch_size,\n",
    "    class_mode=None,\n",
    "    shuffle=False)\n",
    "\n",
    "val_generator = datagen.flow_from_directory(\n",
    "    validation_data_dir,\n",
    "    target_size=(img_width, img_height),\n",
    "    batch_size=batch_size,\n",
    "    class_mode=None,\n",
    "    shuffle=False)"
   ]
  },
  {
   "cell_type": "code",
   "execution_count": 17,
   "id": "1e1cd53e-8272-4b39-925c-8ed0cce2c1c5",
   "metadata": {},
   "outputs": [],
   "source": [
    "bottleneck_features_train = model.predict(\n",
    "    train_generator, nb_train_samples // batch_size)\n",
    "\n",
    "\n",
    "\n",
    "bottleneck_features_validation = model.predict(\n",
    "    val_generator, nb_validation_samples // batch_size)\n",
    "\n",
    "\n",
    "np.save(open('bottleneck_features_train.npy', 'wb'),\n",
    "        bottleneck_features_train)\n",
    "\n",
    "np.save(open('bottleneck_features_validation.npy', 'wb'),\n",
    "        bottleneck_features_validation)"
   ]
  },
  {
   "cell_type": "code",
   "execution_count": 18,
   "id": "8bf23fda-d8b8-4342-a69a-7bf24eedbb4d",
   "metadata": {},
   "outputs": [],
   "source": [
    "train_data = np.load(open('bottleneck_features_train.npy', 'rb'))\n",
    "\n",
    "train_labels = np.array(\n",
    "    [0] * (int(nb_train_samples / 2)) + [1] * (int(nb_train_samples / 2)))\n",
    "\n",
    "validation_data = np.load(open('bottleneck_features_validation.npy', 'rb'))\n",
    "\n",
    "validation_labels = np.array(\n",
    "    [0] * (int(nb_validation_samples / 2)) +\n",
    "    [1] * (int(nb_validation_samples / 2)))\n",
    "\n",
    "model = Sequential()\n",
    "model.add(Flatten(input_shape=train_data.shape[1:]))\n",
    "model.add(Dense(256, activation='relu'))\n",
    "model.add(Dropout(0.5))\n",
    "model.add(Dense(1, activation='sigmoid'))"
   ]
  },
  {
   "cell_type": "code",
   "execution_count": 19,
   "id": "d73c17dc-3db8-4978-9d74-9ad543e47150",
   "metadata": {},
   "outputs": [],
   "source": [
    "model.compile(optimizer='rmsprop',\n",
    "              loss='binary_crossentropy', metrics=['accuracy'])"
   ]
  },
  {
   "cell_type": "code",
   "execution_count": 29,
   "id": "a2be67b8-46bf-46a8-9c9d-89cbcf2de213",
   "metadata": {},
   "outputs": [],
   "source": [
    "nb_validation_samples = 800\n",
    "epochs = 580\n",
    "batch_size = 128"
   ]
  },
  {
   "cell_type": "code",
   "execution_count": 30,
   "id": "49d0cdc7-22bd-430e-ac5c-39a4b908f53d",
   "metadata": {},
   "outputs": [
    {
     "data": {
      "application/vnd.jupyter.widget-view+json": {
       "model_id": "c83c3f6614f54fc6903593338f16ea0d",
       "version_major": 2,
       "version_minor": 0
      },
      "text/plain": [
       "0epoch [00:00, ?epoch/s]"
      ]
     },
     "metadata": {},
     "output_type": "display_data"
    },
    {
     "data": {
      "application/vnd.jupyter.widget-view+json": {
       "model_id": "",
       "version_major": 2,
       "version_minor": 0
      },
      "text/plain": [
       "0batch [00:00, ?batch/s]"
      ]
     },
     "metadata": {},
     "output_type": "display_data"
    },
    {
     "name": "stdout",
     "output_type": "stream",
     "text": [
      "WARNING:tensorflow:Callback method `on_train_batch_end` is slow compared to the batch time (batch time: 0.0101s vs `on_train_batch_end` time: 0.0268s). Check your callbacks.\n"
     ]
    },
    {
     "data": {
      "text/plain": [
       "<tensorflow.python.keras.callbacks.History at 0x2b4bfafc6a0>"
      ]
     },
     "execution_count": 30,
     "metadata": {},
     "output_type": "execute_result"
    }
   ],
   "source": [
    "mlflow.keras.autolog()\n",
    "model.fit(train_data, train_labels,\n",
    "          epochs=epochs,\n",
    "          batch_size=batch_size,\n",
    "          validation_data=(validation_data, validation_labels),\n",
    "          verbose=0,\n",
    "          callbacks=[TqdmCallback(), CSVLogger(\"metrics.csv\")])"
   ]
  },
  {
   "cell_type": "code",
   "execution_count": 31,
   "id": "1179d581-295c-497c-803b-631608990dbe",
   "metadata": {},
   "outputs": [],
   "source": [
    "model.save_weights(top_model_weights_path)"
   ]
  },
  {
   "cell_type": "code",
   "execution_count": null,
   "id": "406f7e0e-29e5-4a11-a69f-f08fd8df4e57",
   "metadata": {},
   "outputs": [],
   "source": [
    "!dvc add model.h5"
   ]
  }
 ],
 "metadata": {
  "kernelspec": {
   "display_name": "Python 3 (ipykernel)",
   "language": "python",
   "name": "python3"
  },
  "language_info": {
   "codemirror_mode": {
    "name": "ipython",
    "version": 3
   },
   "file_extension": ".py",
   "mimetype": "text/x-python",
   "name": "python",
   "nbconvert_exporter": "python",
   "pygments_lexer": "ipython3",
   "version": "3.8.12"
  }
 },
 "nbformat": 4,
 "nbformat_minor": 5
}
