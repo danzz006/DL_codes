{
  "cells": [
    {
      "cell_type": "markdown",
      "id": "2c3418df",
      "metadata": {
        "id": "2c3418df"
      },
      "source": [
<<<<<<< HEAD
        "# Session 02 "
=======
        "# Session 02 <table class=\"tfo-notebook-buttons\" align=\"right\" margin-top=-700px>\n",
        "<tr>\n",
        "  <td>\n",
        "      <img src=\"https://github.com/FawadAbbas12/Workshop_ses1/blob/main/logo.png?raw=true\"  width=\"60\" height=\"60\" /><p style='margin-left:25px'>&nbsp;&nbsp;NECOP</p>\n",
        "  </td>\n",
        "  <td></td>\n",
        "  <td>\n",
        "          <a target=\"_blank\" href=\"https://ist.edu.pk/\"> <img style=\"margin-top:20px\" width=\"60\" height=\"50\" src=\"https://github.com/FawadAbbas12/Workshop_ses1/blob/main/IST-LOGO.jpeg?raw=true\"><p style='margin-left:18px'>IST</p></a>\n",
        "  </td>\n",
        "  </tr>\n",
        " </table>"
>>>>>>> 03f24425283acc55e724601dacc2a10064542d2b
      ]
    },
    {
      "cell_type": "markdown",
      "id": "ea3d60ed",
      "metadata": {
        "id": "ea3d60ed"
      },
      "source": [
<<<<<<< HEAD
        "## Intro to Python "
      ]
    },
    {
=======
        "## Intro to Python <table class=\"tfo-notebook-buttons\" align=\"right\" style=\"margin-top:-55px\">\n",
        "  <td>\n",
        "      <a target=\"_blank\" href=\"https://www.python.org/doc/\"><img src=\"https://external-content.duckduckgo.com/iu/?u=https%3A%2F%2Fwww.baptiste-donaux.fr%2Fpackager-application-python-avec-dependances%2Fpython.png&f=1&nofb=1\"  width=\"60\" height=\"50\" /><p style='margin-left:8px'>PYTHON</p></a>\n",
        "  </td>\n",
        " </table>"
      ]
    },
    {
      "cell_type": "code",
      "source": [
        "# !git clone https://github.com/FawadAbbas12/Workshop_ses1/ \n",
        "# !mv Workshop_ses1 res"
      ],
      "metadata": {
        "id": "lnYyKGWkq4RF"
      },
      "id": "lnYyKGWkq4RF",
      "execution_count": 142,
      "outputs": []
    },
    {
>>>>>>> 03f24425283acc55e724601dacc2a10064542d2b
      "cell_type": "markdown",
      "id": "23c86101",
      "metadata": {
        "heading_collapsed": true,
        "id": "23c86101"
      },
      "source": [
        "## Data type 🏛\n",
        "Python has the following data types built-in by default, in these categories        \n",
        "```\n",
        "    Text Type     : str\n",
        "    Numeric Types : int, float, complex\n",
        "    Sequence Types: list, tuple, range\n",
        "    Mapping Type  : dict\n",
        "    Set Types     : set, frozenset\n",
        "    Boolean Type  : bool\n",
        "    Binary Types  : bytes, bytearray, memoryview\n",
        "```"
      ]
    },
    {
      "cell_type": "code",
<<<<<<< HEAD
      "execution_count": 20,
=======
      "execution_count": 143,
>>>>>>> 03f24425283acc55e724601dacc2a10064542d2b
      "id": "e0b4a467",
      "metadata": {
        "ExecuteTime": {
          "end_time": "2022-01-06T04:26:46.783141Z",
          "start_time": "2022-01-06T04:26:46.781267Z"
        },
        "hidden": true,
        "id": "e0b4a467"
      },
      "outputs": [],
      "source": [
        "prompt = 'Enter your name:'\n",
        "message = str('Invalid option')\n",
        "\n",
        "number = 3\n",
        "array_index = int(32)\n",
        "\n",
        "circle_area = 45.356\n",
        "temperature = float(30.55)"
      ]
    },
    {
      "cell_type": "code",
<<<<<<< HEAD
      "execution_count": 21,
      "id": "tN6mMwmB9dXH",
      "metadata": {
        "id": "tN6mMwmB9dXH"
      },
      "outputs": [],
=======
>>>>>>> 03f24425283acc55e724601dacc2a10064542d2b
      "source": [
        "array = [1, 2, 3]\n",
        "emptyArray = []\n",
        "alsoEmptyArray = list()\n",
        "\n",
        "length_and_area = (45, 300.456)\n",
        "coordinates = tuple((32, 45, 100))\n",
        "# coordinates.index(32, 0, 1)\n",
        "\n",
        "cellphone_dictionary ={\n",
        "    \"khan\":3245332,\n",
        "    \"MR X.\":000000\n",
        "}"
<<<<<<< HEAD
      ]
=======
      ],
      "metadata": {
        "id": "tN6mMwmB9dXH"
      },
      "id": "tN6mMwmB9dXH",
      "execution_count": 144,
      "outputs": []
>>>>>>> 03f24425283acc55e724601dacc2a10064542d2b
    },
    {
      "cell_type": "markdown",
      "id": "d4b541b8",
      "metadata": {
        "heading_collapsed": true,
        "hidden": true,
        "id": "d4b541b8"
      },
      "source": [
        "### Get datatype of variable \n",
        "  to get data type of a variable pytoh have a built in function named type<br>\n",
        "  <code> <b><i>type(obj)</code></i></b><br>\n",
        "  obj = object for which data type is to be verified"
      ]
    },
    {
      "cell_type": "code",
<<<<<<< HEAD
      "execution_count": 22,
=======
      "execution_count": 145,
>>>>>>> 03f24425283acc55e724601dacc2a10064542d2b
      "id": "9f9266e6",
      "metadata": {
        "ExecuteTime": {
          "end_time": "2022-01-06T04:26:49.438679Z",
          "start_time": "2022-01-06T04:26:49.436068Z"
        },
<<<<<<< HEAD
        "colab": {
          "base_uri": "https://localhost:8080/"
        },
        "hidden": true,
        "id": "9f9266e6",
=======
        "hidden": true,
        "id": "9f9266e6",
        "colab": {
          "base_uri": "https://localhost:8080/"
        },
>>>>>>> 03f24425283acc55e724601dacc2a10064542d2b
        "outputId": "e1d54e85-5055-4b1d-d3b4-9b8811eaaf23"
      },
      "outputs": [
        {
<<<<<<< HEAD
          "name": "stdout",
          "output_type": "stream",
=======
          "output_type": "stream",
          "name": "stdout",
>>>>>>> 03f24425283acc55e724601dacc2a10064542d2b
          "text": [
            "<class 'dict'>\n"
          ]
        }
      ],
      "source": [
        "print(type(cellphone_dictionary))"
      ]
    },
    {
      "cell_type": "markdown",
      "id": "820f54cd",
      "metadata": {
        "heading_collapsed": true,
        "hidden": true,
        "id": "820f54cd"
      },
      "source": [
        "### Get list of member functions \n",
        "  <code> <b><i>dir(obj)</code></i></b><br>\n",
        "  <i><b>dir<i></b> is a python3's bulitin function whihc iterates over all member functions and prints their names. <br>\n",
        "    one simple trick of ide can be used to get immidiate information about object by hovering over it pressing <code> tab</code> or <code> shift + tab </code> or in colab you can also use <code> Ctrl + space </code>\n"
      ]
    },
    {
      "cell_type": "code",
<<<<<<< HEAD
      "execution_count": 23,
=======
      "execution_count": 146,
>>>>>>> 03f24425283acc55e724601dacc2a10064542d2b
      "id": "4efe46b1",
      "metadata": {
        "ExecuteTime": {
          "end_time": "2022-01-06T04:56:51.420540Z",
          "start_time": "2022-01-06T04:56:51.414282Z"
        },
<<<<<<< HEAD
        "colab": {
          "base_uri": "https://localhost:8080/"
        },
        "collapsed": true,
        "hidden": true,
        "id": "4efe46b1",
=======
        "collapsed": true,
        "hidden": true,
        "id": "4efe46b1",
        "colab": {
          "base_uri": "https://localhost:8080/"
        },
>>>>>>> 03f24425283acc55e724601dacc2a10064542d2b
        "outputId": "5b867c36-bd9c-417b-e827-8b77ed0d22d6"
      },
      "outputs": [
        {
<<<<<<< HEAD
          "data": {
            "text/plain": [
              "['__class__',\n",
              " '__class_getitem__',\n",
=======
          "output_type": "execute_result",
          "data": {
            "text/plain": [
              "['__class__',\n",
>>>>>>> 03f24425283acc55e724601dacc2a10064542d2b
              " '__contains__',\n",
              " '__delattr__',\n",
              " '__delitem__',\n",
              " '__dir__',\n",
              " '__doc__',\n",
              " '__eq__',\n",
              " '__format__',\n",
              " '__ge__',\n",
              " '__getattribute__',\n",
              " '__getitem__',\n",
              " '__gt__',\n",
              " '__hash__',\n",
              " '__init__',\n",
              " '__init_subclass__',\n",
<<<<<<< HEAD
              " '__ior__',\n",
=======
>>>>>>> 03f24425283acc55e724601dacc2a10064542d2b
              " '__iter__',\n",
              " '__le__',\n",
              " '__len__',\n",
              " '__lt__',\n",
              " '__ne__',\n",
              " '__new__',\n",
<<<<<<< HEAD
              " '__or__',\n",
              " '__reduce__',\n",
              " '__reduce_ex__',\n",
              " '__repr__',\n",
              " '__reversed__',\n",
              " '__ror__',\n",
=======
              " '__reduce__',\n",
              " '__reduce_ex__',\n",
              " '__repr__',\n",
>>>>>>> 03f24425283acc55e724601dacc2a10064542d2b
              " '__setattr__',\n",
              " '__setitem__',\n",
              " '__sizeof__',\n",
              " '__str__',\n",
              " '__subclasshook__',\n",
              " 'clear',\n",
              " 'copy',\n",
              " 'fromkeys',\n",
              " 'get',\n",
              " 'items',\n",
              " 'keys',\n",
              " 'pop',\n",
              " 'popitem',\n",
              " 'setdefault',\n",
              " 'update',\n",
              " 'values']"
            ]
          },
<<<<<<< HEAD
          "execution_count": 23,
          "metadata": {},
          "output_type": "execute_result"
=======
          "metadata": {},
          "execution_count": 146
>>>>>>> 03f24425283acc55e724601dacc2a10064542d2b
        }
      ],
      "source": [
        "dir(cellphone_dictionary)"
      ]
    },
    {
      "cell_type": "markdown",
      "id": "94c5ee49",
      "metadata": {
        "heading_collapsed": true,
        "id": "94c5ee49"
      },
      "source": [
        "## Conditions and loops ↪ 🏃"
      ]
    },
    {
      "cell_type": "markdown",
      "id": "5c533439",
      "metadata": {
        "heading_collapsed": true,
        "hidden": true,
        "id": "5c533439"
      },
      "source": [
        "### Conditions 👍 🙅\n",
        "    Equals    : a == b\n",
        "    Not Equals: a != b\n",
        "    Less than : a < b\n",
        "    Greater than: a > b\n",
        "    Less than or equal to   : a <= b\n",
        "    Greater than or equal to: a >= b\n",
        "    and operator: and\n",
        "    or operator : or\n"
      ]
    },
    {
      "cell_type": "code",
<<<<<<< HEAD
      "execution_count": 24,
=======
      "execution_count": 147,
>>>>>>> 03f24425283acc55e724601dacc2a10064542d2b
      "id": "52c012f6",
      "metadata": {
        "ExecuteTime": {
          "end_time": "2022-01-06T05:12:44.318050Z",
          "start_time": "2022-01-06T05:12:44.315610Z"
        },
<<<<<<< HEAD
        "colab": {
          "base_uri": "https://localhost:8080/"
        },
        "hidden": true,
        "id": "52c012f6",
=======
        "hidden": true,
        "id": "52c012f6",
        "colab": {
          "base_uri": "https://localhost:8080/"
        },
>>>>>>> 03f24425283acc55e724601dacc2a10064542d2b
        "outputId": "9eb3eb0f-732c-4d1a-a354-07366a68c5c6"
      },
      "outputs": [
        {
<<<<<<< HEAD
          "name": "stdout",
          "output_type": "stream",
=======
          "output_type": "stream",
          "name": "stdout",
>>>>>>> 03f24425283acc55e724601dacc2a10064542d2b
          "text": [
            "a is less than b\n"
          ]
        }
      ],
      "source": [
        "a = 1\n",
        "b = 2\n",
        "if (a < b):\n",
        "    print('a is less than b')\n",
        "    # print(f'{a} is less than {b}')\n",
        "# else:\n",
        "#     print(f'{a} is grater than {b}')\n",
        "\n",
        "#######################################\n",
        "# exercise 1 uncomment line# 5        #\n",
        "#######################################\n",
        "\n",
        "#######################################\n",
        "# exercise 2 uncomment line# 5~8      #\n",
        "#######################################"
      ]
    },
    {
      "cell_type": "code",
<<<<<<< HEAD
      "execution_count": 25,
=======
      "execution_count": 148,
>>>>>>> 03f24425283acc55e724601dacc2a10064542d2b
      "id": "dc595819",
      "metadata": {
        "ExecuteTime": {
          "end_time": "2022-01-06T05:10:07.835760Z",
          "start_time": "2022-01-06T05:10:07.801767Z"
        },
<<<<<<< HEAD
        "colab": {
          "base_uri": "https://localhost:8080/"
        },
        "hidden": true,
        "id": "dc595819",
=======
        "hidden": true,
        "id": "dc595819",
        "colab": {
          "base_uri": "https://localhost:8080/"
        },
>>>>>>> 03f24425283acc55e724601dacc2a10064542d2b
        "outputId": "56b9b483-bacf-4888-d606-7a3717aa2d2a"
      },
      "outputs": [
        {
<<<<<<< HEAD
          "name": "stdout",
          "output_type": "stream",
=======
          "output_type": "stream",
          "name": "stdout",
>>>>>>> 03f24425283acc55e724601dacc2a10064542d2b
          "text": [
            "3 is the biggest number\n"
          ]
        }
      ],
      "source": [
        "# if else ladder \n",
        "a, b, c = (1,2,3)\n",
        "biggest = -1\n",
        "if a > b and a > c:\n",
        "    biggest = a\n",
        "elif b > c:\n",
        "    biggest = b\n",
        "else:\n",
        "    biggest = c\n",
        "print(f'{biggest} is the biggest number')\n",
        "#######################################################\n",
        "# Chellange Change this code to print smallest Number #\n",
        "#######################################################"
      ]
    },
    {
      "cell_type": "code",
<<<<<<< HEAD
      "execution_count": 26,
      "id": "-V_VGIvZHNWy",
      "metadata": {
        "colab": {
          "base_uri": "https://localhost:8080/"
        },
        "id": "-V_VGIvZHNWy",
        "outputId": "cdf8566d-6d6c-4d79-f58b-348040a587e0"
      },
      "outputs": [
        {
          "name": "stdout",
          "output_type": "stream",
          "text": [
            "1 is less than 2\n"
          ]
        }
      ],
=======
>>>>>>> 03f24425283acc55e724601dacc2a10064542d2b
      "source": [
        "# short hand notation\n",
        "_str = f'{a} is {\"grater\" if a>b else \"less\"} than {b}'\n",
        "print(_str)"
<<<<<<< HEAD
=======
      ],
      "metadata": {
        "id": "-V_VGIvZHNWy",
        "colab": {
          "base_uri": "https://localhost:8080/"
        },
        "outputId": "cdf8566d-6d6c-4d79-f58b-348040a587e0"
      },
      "id": "-V_VGIvZHNWy",
      "execution_count": 149,
      "outputs": [
        {
          "output_type": "stream",
          "name": "stdout",
          "text": [
            "1 is less than 2\n"
          ]
        }
>>>>>>> 03f24425283acc55e724601dacc2a10064542d2b
      ]
    },
    {
      "cell_type": "markdown",
<<<<<<< HEAD
      "id": "vcrlgTg_OqEN",
      "metadata": {
        "id": "vcrlgTg_OqEN"
      },
      "source": [
        "## Lists and dictionaries 📔"
      ]
    },
    {
      "cell_type": "markdown",
      "id": "l4bqf8pMYN2P",
      "metadata": {
        "id": "l4bqf8pMYN2P"
      },
=======
      "source": [
        "## Lists and dictionaries 📔"
      ],
      "metadata": {
        "id": "vcrlgTg_OqEN"
      },
      "id": "vcrlgTg_OqEN"
    },
    {
      "cell_type": "markdown",
>>>>>>> 03f24425283acc55e724601dacc2a10064542d2b
      "source": [
        "Lists enable you to store a set of items in place. Lists take the form of arrays in other languages like Java.\n",
        "\n",
        "A list in Python is created using the following syntax:\n",
        "<br><code> listname = [item1, item2, item3, ...]</code>"
<<<<<<< HEAD
      ]
    },
    {
      "cell_type": "code",
      "execution_count": 27,
      "id": "DNJ-iSRoOrdG",
      "metadata": {
        "colab": {
          "base_uri": "https://localhost:8080/"
        },
        "id": "DNJ-iSRoOrdG",
        "outputId": "15e12b94-9595-473f-a160-beade17d3499"
      },
      "outputs": [
        {
          "name": "stdout",
          "output_type": "stream",
=======
      ],
      "metadata": {
        "id": "l4bqf8pMYN2P"
      },
      "id": "l4bqf8pMYN2P"
    },
    {
      "cell_type": "code",
      "source": [
        "aiProblmodelems = ['Classification', 'Regression', 'clustering', 'segmentatoin', 'signalprocessing']\n",
        "print(aiProblmodelems)"
      ],
      "metadata": {
        "id": "DNJ-iSRoOrdG",
        "colab": {
          "base_uri": "https://localhost:8080/"
        },
        "outputId": "15e12b94-9595-473f-a160-beade17d3499"
      },
      "id": "DNJ-iSRoOrdG",
      "execution_count": 150,
      "outputs": [
        {
          "output_type": "stream",
          "name": "stdout",
>>>>>>> 03f24425283acc55e724601dacc2a10064542d2b
          "text": [
            "['Classification', 'Regression', 'clustering', 'segmentatoin', 'signalprocessing']\n"
          ]
        }
<<<<<<< HEAD
      ],
      "source": [
        "aiProblmodelems = ['Classification', 'Regression', 'clustering', 'segmentatoin', 'signalprocessing']\n",
        "print(aiProblmodelems)"
=======
>>>>>>> 03f24425283acc55e724601dacc2a10064542d2b
      ]
    },
    {
      "cell_type": "code",
<<<<<<< HEAD
      "execution_count": 28,
      "id": "D_NlgjjqYgDM",
      "metadata": {
        "colab": {
          "base_uri": "https://localhost:8080/"
        },
        "id": "D_NlgjjqYgDM",
        "outputId": "14aa95d2-2afb-4ee2-d586-92e7c854ecd7"
      },
      "outputs": [
        {
          "name": "stdout",
          "output_type": "stream",
          "text": [
            "Adamax\n",
            "adabost\n",
            "['Adamax', 'Adam', 'sgd', 'adabost', 'Adagrad']\n",
            "['Adamax', 'Adam', 'RMSprop', 'sgd', 'adabost', 'Adagrad']\n",
            "['Adamax', 'Adam', 'RMSprop', 'sgd', 'Adagrad']\n"
          ]
        }
      ],
=======
>>>>>>> 03f24425283acc55e724601dacc2a10064542d2b
      "source": [
        "# access list item\n",
        "modelOptimizers = ['Adamax', 'Adam', 'sgd', 'adabost']\n",
        "print(modelOptimizers[0])\n",
        "\n",
        "print(modelOptimizers[-1])\n",
        "\n",
        "modelOptimizers.append('Adagrad') \n",
        "print(modelOptimizers)\n",
        "\n",
        "modelOptimizers.insert(2,'RMSprop') \n",
        "print(modelOptimizers)\n",
        "\n",
        "modelOptimizers.remove('adabost') \n",
        "print(modelOptimizers)\n",
        "\n"
<<<<<<< HEAD
=======
      ],
      "metadata": {
        "id": "D_NlgjjqYgDM",
        "colab": {
          "base_uri": "https://localhost:8080/"
        },
        "outputId": "14aa95d2-2afb-4ee2-d586-92e7c854ecd7"
      },
      "id": "D_NlgjjqYgDM",
      "execution_count": 151,
      "outputs": [
        {
          "output_type": "stream",
          "name": "stdout",
          "text": [
            "Adamax\n",
            "adabost\n",
            "['Adamax', 'Adam', 'sgd', 'adabost', 'Adagrad']\n",
            "['Adamax', 'Adam', 'RMSprop', 'sgd', 'adabost', 'Adagrad']\n",
            "['Adamax', 'Adam', 'RMSprop', 'sgd', 'Adagrad']\n"
          ]
        }
>>>>>>> 03f24425283acc55e724601dacc2a10064542d2b
      ]
    },
    {
      "cell_type": "markdown",
<<<<<<< HEAD
      "id": "kUTVC4trZhFU",
      "metadata": {
        "id": "kUTVC4trZhFU"
      },
=======
>>>>>>> 03f24425283acc55e724601dacc2a10064542d2b
      "source": [
        "### Slicing a list\n",
        "To derive a segment, you need to specify the index of the first element and where to stop slicing.\n",
        "\n",
        "In Python, we use a colon(:) as a slicing operator. Slicing follows the following syntax.<br>\n",
        "<code> list_name[Index_start:Index_end] </code>\n"
<<<<<<< HEAD
      ]
    },
    {
      "cell_type": "code",
      "execution_count": 29,
      "id": "96Fp8iCRYfqS",
      "metadata": {
        "colab": {
          "base_uri": "https://localhost:8080/"
        },
        "id": "96Fp8iCRYfqS",
        "outputId": "4e8c36d4-ceb9-4f5e-b7c2-29df7e8aaa1b"
      },
      "outputs": [
        {
          "name": "stdout",
          "output_type": "stream",
          "text": [
            "['Dense', 'conv2d', 'Activation']\n",
            "['Dense', 'conv2d', 'Activation']\n",
            "['batchNorm', 'Dropout']\n"
          ]
        }
      ],
      "source": [
        "layers = ['Dense', 'conv2d', 'Activation', 'batchNorm', 'Dropout']\n",
        "print(layers[0:3])\n",
        "print(layers[:3]) \n",
        "print(layers[3:])\n",
=======
      ],
      "metadata": {
        "id": "kUTVC4trZhFU"
      },
      "id": "kUTVC4trZhFU"
    },
    {
      "cell_type": "code",
      "source": [
        "    layers = ['Dense', 'conv2d', 'Activation', 'batchNorm', 'Dropout']\n",
        "    print(layers[0:3])\n",
        "    print(layers[:3]) \n",
        "    print(layers[3:])\n",
>>>>>>> 03f24425283acc55e724601dacc2a10064542d2b
        "    \n",
        "#######################################################\n",
        "# exercise 1: list items including index 2 and 4      #\n",
        "# Hint:                                               #\n",
        "#      last number in range is not included           #\n",
        "#######################################################"
<<<<<<< HEAD
=======
      ],
      "metadata": {
        "id": "96Fp8iCRYfqS",
        "colab": {
          "base_uri": "https://localhost:8080/"
        },
        "outputId": "4e8c36d4-ceb9-4f5e-b7c2-29df7e8aaa1b"
      },
      "id": "96Fp8iCRYfqS",
      "execution_count": 152,
      "outputs": [
        {
          "output_type": "stream",
          "name": "stdout",
          "text": [
            "['Dense', 'conv2d', 'Activation']\n",
            "['Dense', 'conv2d', 'Activation']\n",
            "['batchNorm', 'Dropout']\n"
          ]
        }
>>>>>>> 03f24425283acc55e724601dacc2a10064542d2b
      ]
    },
    {
      "cell_type": "markdown",
<<<<<<< HEAD
      "id": "fD4jZzPiaumS",
      "metadata": {
        "id": "fD4jZzPiaumS"
      },
=======
>>>>>>> 03f24425283acc55e724601dacc2a10064542d2b
      "source": [
        "# Dictionaries\n",
        "Dictionaries are used to store data values in key:value pairs.\n",
        "A dictionary is a collection which is ordered*, changeable and do not allow duplicates.\n",
        "\n",
        "    dict = {\n",
        "        \"key\": \"value\",\n",
        "        \"string\": \"Name\",\n",
        "        \"number\": 40,\n",
        "        \"list \" : [item1, item2, ....]\n",
        "        \"dict \" : {'key', 'value'}\n",
        "    }"
<<<<<<< HEAD
      ]
    },
    {
      "cell_type": "code",
      "execution_count": 30,
      "id": "KcLN3q61YfP7",
      "metadata": {
        "colab": {
          "base_uri": "https://localhost:8080/"
        },
        "id": "KcLN3q61YfP7",
        "outputId": "66e032f9-881c-4e90-a8af-e5a98eea1bb1"
      },
      "outputs": [
        {
          "name": "stdout",
          "output_type": "stream",
          "text": [
            "{'lossFunctoin': 'Categorical Cross Entrpy', 'ModelAccuracy': 0.932, 'ModelLoss': 0.231, 'ValidatoinLoss': 0.321}\n"
          ]
        }
      ],
=======
      ],
      "metadata": {
        "id": "fD4jZzPiaumS"
      },
      "id": "fD4jZzPiaumS"
    },
    {
      "cell_type": "code",
>>>>>>> 03f24425283acc55e724601dacc2a10064542d2b
      "source": [
        "modelOutputLog =\t{\n",
        "   \"lossFunctoin\" : \"Categorical Cross Entrpy\", \n",
        "   \"ModelAccuracy\": 0.932,\n",
        "   \"ModelLoss\"   : 0.231,\n",
        "   \"ValidatoinLoss\": 0.321\n",
        "\n",
        "}\n",
        "print(modelOutputLog)"
<<<<<<< HEAD
=======
      ],
      "metadata": {
        "id": "KcLN3q61YfP7",
        "colab": {
          "base_uri": "https://localhost:8080/"
        },
        "outputId": "66e032f9-881c-4e90-a8af-e5a98eea1bb1"
      },
      "id": "KcLN3q61YfP7",
      "execution_count": 153,
      "outputs": [
        {
          "output_type": "stream",
          "name": "stdout",
          "text": [
            "{'lossFunctoin': 'Categorical Cross Entrpy', 'ModelAccuracy': 0.932, 'ModelLoss': 0.231, 'ValidatoinLoss': 0.321}\n"
          ]
        }
>>>>>>> 03f24425283acc55e724601dacc2a10064542d2b
      ]
    },
    {
      "cell_type": "code",
<<<<<<< HEAD
      "execution_count": 31,
      "id": "Nyc7h7fBaBIN",
      "metadata": {
        "colab": {
          "base_uri": "https://localhost:8080/"
        },
        "id": "Nyc7h7fBaBIN",
        "outputId": "0551b365-f746-4bc5-8ffa-1d257977fb03"
      },
      "outputs": [
        {
          "name": "stdout",
          "output_type": "stream",
=======
      "source": [
        "#accessing dictionary items\n",
        "print(modelOutputLog[\"lossFunctoin\"])\n",
        "print(modelOutputLog.items())\n",
        "print(modelOutputLog.keys())\n",
        "print(modelOutputLog.values())"
      ],
      "metadata": {
        "id": "Nyc7h7fBaBIN",
        "colab": {
          "base_uri": "https://localhost:8080/"
        },
        "outputId": "0551b365-f746-4bc5-8ffa-1d257977fb03"
      },
      "id": "Nyc7h7fBaBIN",
      "execution_count": 154,
      "outputs": [
        {
          "output_type": "stream",
          "name": "stdout",
>>>>>>> 03f24425283acc55e724601dacc2a10064542d2b
          "text": [
            "Categorical Cross Entrpy\n",
            "dict_items([('lossFunctoin', 'Categorical Cross Entrpy'), ('ModelAccuracy', 0.932), ('ModelLoss', 0.231), ('ValidatoinLoss', 0.321)])\n",
            "dict_keys(['lossFunctoin', 'ModelAccuracy', 'ModelLoss', 'ValidatoinLoss'])\n",
            "dict_values(['Categorical Cross Entrpy', 0.932, 0.231, 0.321])\n"
          ]
        }
<<<<<<< HEAD
      ],
      "source": [
        "#accessing dictionary items\n",
        "print(modelOutputLog[\"lossFunctoin\"])\n",
        "print(modelOutputLog.items())\n",
        "print(modelOutputLog.keys())\n",
        "print(modelOutputLog.values())"
=======
>>>>>>> 03f24425283acc55e724601dacc2a10064542d2b
      ]
    },
    {
      "cell_type": "code",
<<<<<<< HEAD
      "execution_count": 32,
      "id": "GL5HpltcaAsz",
      "metadata": {
        "colab": {
          "base_uri": "https://localhost:8080/"
        },
        "id": "GL5HpltcaAsz",
        "outputId": "021c4edb-28be-4de9-ef0d-e7227d77942f"
      },
      "outputs": [
        {
          "name": "stdout",
          "output_type": "stream",
          "text": [
            "{'lossFunctoin': 'Categorical Cross Entrpy', 'ModelAccuracy': 0.932, 'ModelLoss': 0.231, 'ValidatoinLoss': 0.321, 'name': 'Resnet'}\n",
            "{'lossFunctoin': 'Categorical Cross Entrpy', 'ModelLoss': 0.231, 'ValidatoinLoss': 0.321, 'name': 'Resnet'}\n"
          ]
        }
      ],
=======
>>>>>>> 03f24425283acc55e724601dacc2a10064542d2b
      "source": [
        "# update dictionary items\n",
        "modelOutputLog.update({\"name\": \"Resnet\"})\n",
        "print(modelOutputLog)\n",
        "#delete item from dictionary \n",
        "del modelOutputLog['ModelAccuracy']\n",
        "print(modelOutputLog)"
<<<<<<< HEAD
=======
      ],
      "metadata": {
        "id": "GL5HpltcaAsz",
        "colab": {
          "base_uri": "https://localhost:8080/"
        },
        "outputId": "021c4edb-28be-4de9-ef0d-e7227d77942f"
      },
      "id": "GL5HpltcaAsz",
      "execution_count": 155,
      "outputs": [
        {
          "output_type": "stream",
          "name": "stdout",
          "text": [
            "{'lossFunctoin': 'Categorical Cross Entrpy', 'ModelAccuracy': 0.932, 'ModelLoss': 0.231, 'ValidatoinLoss': 0.321, 'name': 'Resnet'}\n",
            "{'lossFunctoin': 'Categorical Cross Entrpy', 'ModelLoss': 0.231, 'ValidatoinLoss': 0.321, 'name': 'Resnet'}\n"
          ]
        }
>>>>>>> 03f24425283acc55e724601dacc2a10064542d2b
      ]
    },
    {
      "cell_type": "code",
<<<<<<< HEAD
      "execution_count": 33,
      "id": "YMnsqZbpdL2c",
      "metadata": {
        "colab": {
          "base_uri": "https://localhost:8080/"
        },
        "id": "YMnsqZbpdL2c",
        "outputId": "c367c036-2aa5-4436-bcc8-07992a4d5e1f"
      },
      "outputs": [
        {
          "name": "stdout",
          "output_type": "stream",
=======
      "source": [
        "#iterate over dictionary\n",
        "for key, item in modelOutputLog.items():\n",
        "    print(f'modelOutputLog[\"{key}\"] = {item}')"
      ],
      "metadata": {
        "id": "YMnsqZbpdL2c",
        "colab": {
          "base_uri": "https://localhost:8080/"
        },
        "outputId": "c367c036-2aa5-4436-bcc8-07992a4d5e1f"
      },
      "id": "YMnsqZbpdL2c",
      "execution_count": 156,
      "outputs": [
        {
          "output_type": "stream",
          "name": "stdout",
>>>>>>> 03f24425283acc55e724601dacc2a10064542d2b
          "text": [
            "modelOutputLog[\"lossFunctoin\"] = Categorical Cross Entrpy\n",
            "modelOutputLog[\"ModelLoss\"] = 0.231\n",
            "modelOutputLog[\"ValidatoinLoss\"] = 0.321\n",
            "modelOutputLog[\"name\"] = Resnet\n"
          ]
        }
<<<<<<< HEAD
      ],
      "source": [
        "#iterate over dictionary\n",
        "for key, item in modelOutputLog.items():\n",
        "    print(f'modelOutputLog[\"{key}\"] = {item}')"
=======
>>>>>>> 03f24425283acc55e724601dacc2a10064542d2b
      ]
    },
    {
      "cell_type": "code",
<<<<<<< HEAD
      "execution_count": 34,
      "id": "IPil7yQOiYCf",
      "metadata": {
        "colab": {
          "base_uri": "https://localhost:8080/"
        },
        "id": "IPil7yQOiYCf",
        "outputId": "e8e4bd7b-b26a-4a4b-f5f1-a693bdc8557c"
      },
      "outputs": [
        {
          "name": "stdout",
          "output_type": "stream",
          "text": [
            "{'loss_function': {'brach1': 'CCE', 'brach2': 'MSE', 'brach3': 'BCE'}, 'loss': {'brach1': 0.0356, 'brach2': 0.0756, 'brach3': 0.0056}, 'val_loss': {'brach1': 0.0356, 'brach2': 0.0756, 'brach3': 0.0056}, 'accuracy': {'brach1': 0.9235, 'brach2': 0.6234, 'brach3': 0.5423}}\n"
          ]
        }
      ],
=======
>>>>>>> 03f24425283acc55e724601dacc2a10064542d2b
      "source": [
        "#Nested Dictionaries \n",
        "multiOutputModelLog={\n",
        "    'loss_function':{\n",
        "        'brach1':\"CCE\",\n",
        "        'brach2':\"MSE\",\n",
        "        'brach3':\"BCE\",\n",
        "        }, \n",
        "    'loss':{\n",
        "        'brach1':.0356,\n",
        "        'brach2':.0756,\n",
        "        'brach3':.0056,\n",
        "        },\n",
        "    'val_loss':{\n",
        "        'brach1':.0356,\n",
        "        'brach2':.0756,\n",
        "        'brach3':.0056,\n",
        "        },\n",
        "    'accuracy':{\n",
        "        'brach1':.9235,\n",
        "        'brach2':.6234,\n",
        "        'brach3':.5423,\n",
        "        }\n",
        "}\n",
        "print(multiOutputModelLog)\n",
        "\n",
        "#######################################################\n",
        "# exercise 1: print loss  for 3rd branch              #\n",
        "# Hint:                                               #\n",
        "#      you may need to use multiple []                #\n",
        "#######################################################"
<<<<<<< HEAD
=======
      ],
      "metadata": {
        "id": "IPil7yQOiYCf",
        "colab": {
          "base_uri": "https://localhost:8080/"
        },
        "outputId": "e8e4bd7b-b26a-4a4b-f5f1-a693bdc8557c"
      },
      "id": "IPil7yQOiYCf",
      "execution_count": 157,
      "outputs": [
        {
          "output_type": "stream",
          "name": "stdout",
          "text": [
            "{'loss_function': {'brach1': 'CCE', 'brach2': 'MSE', 'brach3': 'BCE'}, 'loss': {'brach1': 0.0356, 'brach2': 0.0756, 'brach3': 0.0056}, 'val_loss': {'brach1': 0.0356, 'brach2': 0.0756, 'brach3': 0.0056}, 'accuracy': {'brach1': 0.9235, 'brach2': 0.6234, 'brach3': 0.5423}}\n"
          ]
        }
>>>>>>> 03f24425283acc55e724601dacc2a10064542d2b
      ]
    },
    {
      "cell_type": "markdown",
      "id": "43a92c14",
      "metadata": {
        "heading_collapsed": true,
        "hidden": true,
        "id": "43a92c14"
      },
      "source": [
        "### Loops 🔄\n",
        "Python have two major loops <br><br>\n",
        "    <code> For Loop </code><br>\n",
        "        &emsp; for (place holders ) in (range, list, iterator):<br>\n",
        "            &emsp;&emsp;&emsp;do action<br>\n",
        "            \n",
        "<code> While Loop </code><br>\n",
        "    &emsp; while condition:<br>\n",
        "            &emsp;&emsp;&emsp;do action<br>"
      ]
    },
    {
      "cell_type": "markdown",
<<<<<<< HEAD
      "id": "6KVeXyyeCiT7",
      "metadata": {
        "id": "6KVeXyyeCiT7"
      },
      "source": [
        "### for loop"
      ]
    },
    {
      "cell_type": "code",
      "execution_count": 35,
=======
      "source": [
        "### for loop"
      ],
      "metadata": {
        "id": "6KVeXyyeCiT7"
      },
      "id": "6KVeXyyeCiT7"
    },
    {
      "cell_type": "code",
      "execution_count": 158,
>>>>>>> 03f24425283acc55e724601dacc2a10064542d2b
      "id": "ea4aaacf",
      "metadata": {
        "ExecuteTime": {
          "end_time": "2022-01-06T05:32:06.868269Z",
          "start_time": "2022-01-06T05:32:06.865191Z"
        },
<<<<<<< HEAD
        "colab": {
          "base_uri": "https://localhost:8080/"
        },
        "hidden": true,
        "id": "ea4aaacf",
=======
        "hidden": true,
        "id": "ea4aaacf",
        "colab": {
          "base_uri": "https://localhost:8080/"
        },
>>>>>>> 03f24425283acc55e724601dacc2a10064542d2b
        "outputId": "9fbd38df-4e60-4d1b-f75b-a1d18e280c44"
      },
      "outputs": [
        {
<<<<<<< HEAD
          "name": "stdout",
          "output_type": "stream",
=======
          "output_type": "stream",
          "name": "stdout",
>>>>>>> 03f24425283acc55e724601dacc2a10064542d2b
          "text": [
            "2, 5, 8, 11, 14, 17, 20, 23, 26, 29, "
          ]
        }
      ],
      "source": [
        "# range is a python's builtin function which returnes a list of numbers \n",
        "# in the given range it takes 3 arguments which are as following\n",
        "# arg1: starting_Point  arg2: end_point   arg_3: Step_size\n",
        "\n",
        "for x in range(2, 30, 3):\n",
        "  print(x, end=', ')\n",
        "\n",
        "#######################################################\n",
        "# exercise 1: change above given loop to only print   #\n",
        "# even numbers between 4 and 100                      #\n",
        "# Hint:                                               #\n",
        "#      start from 4 and increment wiht 2              #\n",
        "#######################################################\n",
        "\n",
        "#######################################################\n",
        "# exercise 2: uncomment line number 12~15 and rerun   #\n",
        "# Hint:                                               #\n",
        "#      zip is used to merge multiple iterators into   #\n",
        "#      one single iteratr wiht valued mapeed on index #    \n",
        "#######################################################\n",
        "\n",
        "# fruits = [\"apple\", \"banana\", \"cherry\", \"kiwi\", \"mango\"]\n",
        "# prices  = [1,2,3,4,5]\n",
        "# for fruit, price in zip(fruits, prices):\n",
        "#     print(f\"{fruit} is sold for {price}\")"
      ]
    },
    {
      "cell_type": "markdown",
<<<<<<< HEAD
      "id": "uaovD2kuCbd6",
      "metadata": {
        "id": "uaovD2kuCbd6"
      },
      "source": [
        "#### Continue and Break "
      ]
    },
    {
      "cell_type": "code",
      "execution_count": null,
      "id": "bZhm8qQfH09S",
      "metadata": {
        "id": "bZhm8qQfH09S"
      },
      "outputs": [],
      "source": []
    },
    {
      "cell_type": "markdown",
      "id": "RlxhrxvVClgS",
      "metadata": {
        "id": "RlxhrxvVClgS"
      },
      "source": [
        "### while Loop"
      ]
    },
    {
      "cell_type": "code",
      "execution_count": 36,
=======
      "source": [
        "#### Continue and Break "
      ],
      "metadata": {
        "id": "uaovD2kuCbd6"
      },
      "id": "uaovD2kuCbd6"
    },
    {
      "cell_type": "code",
      "source": [
        ""
      ],
      "metadata": {
        "id": "bZhm8qQfH09S"
      },
      "id": "bZhm8qQfH09S",
      "execution_count": 158,
      "outputs": []
    },
    {
      "cell_type": "markdown",
      "source": [
        "### while Loop"
      ],
      "metadata": {
        "id": "RlxhrxvVClgS"
      },
      "id": "RlxhrxvVClgS"
    },
    {
      "cell_type": "code",
      "execution_count": 159,
>>>>>>> 03f24425283acc55e724601dacc2a10064542d2b
      "id": "bfe3f91f",
      "metadata": {
        "ExecuteTime": {
          "end_time": "2022-01-06T05:36:15.808670Z",
          "start_time": "2022-01-06T05:36:11.315039Z"
        },
<<<<<<< HEAD
        "colab": {
          "base_uri": "https://localhost:8080/"
        },
        "hidden": true,
        "id": "bfe3f91f",
        "outputId": "672bf1e2-9df8-4d67-9b75-53262c265a74"
      },
      "outputs": [],
=======
        "hidden": true,
        "id": "bfe3f91f",
        "colab": {
          "base_uri": "https://localhost:8080/"
        },
        "outputId": "672bf1e2-9df8-4d67-9b75-53262c265a74"
      },
      "outputs": [
        {
          "name": "stdout",
          "output_type": "stream",
          "text": [
            "Enter a +ve number or -ve/0 to end -9\n"
          ]
        }
      ],
>>>>>>> 03f24425283acc55e724601dacc2a10064542d2b
      "source": [
        "number = 1\n",
        "while int(number) > 0:\n",
        "    number = input(\"Enter a +ve number or -ve/0 to end \")\n",
        "# else:\n",
        "#     print(\"so it finally end.\" )\n",
        "\n",
        "###################################################\n",
        "# Challenge1: uncomment line number 4&5 and rerun #\n",
        "# Challenge2: update loop to also exit for number #\n",
        "# bigger than 20.                                 # \n",
        "# Hint use 'and' or break statement               #\n",
<<<<<<< HEAD
        "###################################################\n",
        "#to also exit for number #\n",
        "# bigger than 20.                                 # \n",
        "# Hint use 'and' or break statement               #\n",
=======
>>>>>>> 03f24425283acc55e724601dacc2a10064542d2b
        "###################################################"
      ]
    },
    {
      "cell_type": "markdown",
      "id": "68845406",
      "metadata": {
        "heading_collapsed": true,
        "hidden": true,
        "id": "68845406"
      },
      "source": [
        "### List Comprehention"
      ]
    },
    {
      "cell_type": "code",
<<<<<<< HEAD
      "execution_count": 37,
=======
      "execution_count": 160,
>>>>>>> 03f24425283acc55e724601dacc2a10064542d2b
      "id": "46c629cc",
      "metadata": {
        "ExecuteTime": {
          "end_time": "2022-01-06T04:59:22.284733Z",
          "start_time": "2022-01-06T04:59:22.263173Z"
        },
<<<<<<< HEAD
        "colab": {
          "base_uri": "https://localhost:8080/"
        },
        "hidden": true,
        "id": "46c629cc",
=======
        "hidden": true,
        "id": "46c629cc",
        "colab": {
          "base_uri": "https://localhost:8080/"
        },
>>>>>>> 03f24425283acc55e724601dacc2a10064542d2b
        "outputId": "259ba9da-4c8f-4b74-c251-a4940b9917fd"
      },
      "outputs": [
        {
<<<<<<< HEAD
          "name": "stdout",
          "output_type": "stream",
=======
          "output_type": "stream",
          "name": "stdout",
>>>>>>> 03f24425283acc55e724601dacc2a10064542d2b
          "text": [
            "['apple', 'banana', 'mango']\n"
          ]
        }
      ],
      "source": [
        "fruits = [\"apple\", \"banana\", \"cherry\", \"kiwi\", \"mango\"]\n",
        "newlist = []\n",
        "for x in fruits:\n",
        "  if \"a\" in x:\n",
        "    newlist.append(x)\n",
        "print(newlist) "
      ]
    },
    {
      "cell_type": "code",
<<<<<<< HEAD
      "execution_count": 38,
      "id": "0cac8023",
      "metadata": {
        "colab": {
          "base_uri": "https://localhost:8080/"
        },
        "hidden": true,
        "id": "0cac8023",
=======
      "execution_count": 161,
      "id": "0cac8023",
      "metadata": {
        "hidden": true,
        "id": "0cac8023",
        "colab": {
          "base_uri": "https://localhost:8080/"
        },
>>>>>>> 03f24425283acc55e724601dacc2a10064542d2b
        "outputId": "45057633-5cb9-4bf7-f445-49f8290544eb"
      },
      "outputs": [
        {
<<<<<<< HEAD
          "name": "stdout",
          "output_type": "stream",
=======
          "output_type": "stream",
          "name": "stdout",
>>>>>>> 03f24425283acc55e724601dacc2a10064542d2b
          "text": [
            "['apple', 'banana', 'mango']\n"
          ]
        }
      ],
      "source": [
        "fruits = [\"apple\", \"banana\", \"cherry\", \"kiwi\", \"mango\"]\n",
        "newlist = [x for x in fruits if \"a\" in x]\n",
        "print(newlist) "
      ]
    },
    {
      "cell_type": "markdown",
      "id": "d30752d5",
      "metadata": {
        "heading_collapsed": true,
        "id": "d30752d5"
      },
      "source": [
        "## Functions \n",
        "A function is a block of code which only runs when it is called.<br>\n",
        "You can pass data, known as parameters, into a function.<br>\n",
        "A function may and maynot return data as a result.<br>\n",
        "\n",
        "<b>Syntax</b><br>\n",
        "\n",
        "    def functionName(parameters .....):\n",
        "        do action                      \n",
        "        return data "
      ]
    },
    {
      "cell_type": "code",
<<<<<<< HEAD
      "execution_count": 39,
=======
      "execution_count": 162,
>>>>>>> 03f24425283acc55e724601dacc2a10064542d2b
      "id": "5c649088",
      "metadata": {
        "ExecuteTime": {
          "end_time": "2022-01-06T05:52:44.718786Z",
          "start_time": "2022-01-06T05:52:44.716353Z"
        },
<<<<<<< HEAD
        "colab": {
          "base_uri": "https://localhost:8080/"
        },
        "hidden": true,
        "id": "5c649088",
=======
        "hidden": true,
        "id": "5c649088",
        "colab": {
          "base_uri": "https://localhost:8080/"
        },
>>>>>>> 03f24425283acc55e724601dacc2a10064542d2b
        "outputId": "ce6901ec-3529-4cfb-8aa6-94ad2ba55e45"
      },
      "outputs": [
        {
<<<<<<< HEAD
          "name": "stdout",
          "output_type": "stream",
          "text": [
            "[ DBG ] [1641750391.036223] hello\n",
=======
          "output_type": "stream",
          "name": "stdout",
          "text": [
            "[ DBG ] [1641749495.9886582] hello\n",
>>>>>>> 03f24425283acc55e724601dacc2a10064542d2b
            "[ DBG ] hello\n"
          ]
        }
      ],
      "source": [
        "def print_n_time(message, count):\n",
        "    for i in range(count):\n",
        "        print(message)\n",
        "\n",
        "def debug_log(level, debug_msg):\n",
        "    import time # time is an external module will be discussed later \n",
        "    if level >5:\n",
        "        print(f\"[ DBG ] {debug_msg}\")\n",
        "    else :\n",
        "        print(f\"[ DBG ] [{time.time()}] {debug_msg}\")\n",
        "\n",
        "debug_log(1,\"hello\")\n",
        "debug_log(8,\"hello\")\n",
        "\n",
        "########################################\n",
        "# exercise 1: add your own debug level #\n",
        "# hint:                                #\n",
        "# add a new elif statemtn              # \n",
        "########################################"
      ]
    },
    {
      "cell_type": "code",
<<<<<<< HEAD
      "execution_count": 40,
      "id": "K-Y5bDBIJtzt",
      "metadata": {
        "colab": {
          "base_uri": "https://localhost:8080/"
        },
        "id": "K-Y5bDBIJtzt",
        "outputId": "f0863970-ead5-43ef-f7f1-5549c865fed0"
      },
      "outputs": [
        {
          "name": "stdout",
          "output_type": "stream",
          "text": [
            "Input: 4 Prediction: 48\n"
          ]
        }
      ],
=======
>>>>>>> 03f24425283acc55e724601dacc2a10064542d2b
      "source": [
        "def line(m, x, c):\n",
        "    return m*x + c\n",
        "\n",
        "def predict_next(weights, _input):\n",
        "    pred = line(weights, _input, 0)\n",
        "    return _input, pred    \n",
        "\n",
        "_input, prediction = predict_next(12,4)\n",
        "print(f'Input: {_input} Prediction: {prediction}')\n",
        "\n",
        "#######################################\n",
        "# exercise 1: modify predict_next to  #\n",
        "# take extra argument named as biase  #\n",
        "# and add it to line function's       #\n",
        "# input(c)                            #\n",
        "# hint:                               #\n",
        "# functio signature should look like  #\n",
        "# predict_next(weight, _input, biase) # \n",
        "#######################################\n"
<<<<<<< HEAD
      ]
    },
    {
      "cell_type": "code",
      "execution_count": 41,
      "id": "SKKQLrHJRBMQ",
      "metadata": {
        "id": "SKKQLrHJRBMQ"
      },
      "outputs": [],
=======
      ],
      "metadata": {
        "id": "K-Y5bDBIJtzt",
        "colab": {
          "base_uri": "https://localhost:8080/"
        },
        "outputId": "f0863970-ead5-43ef-f7f1-5549c865fed0"
      },
      "execution_count": 163,
      "outputs": [
        {
          "output_type": "stream",
          "name": "stdout",
          "text": [
            "Input: 4 Prediction: 48\n"
          ]
        }
      ],
      "id": "K-Y5bDBIJtzt"
    },
    {
      "cell_type": "code",
>>>>>>> 03f24425283acc55e724601dacc2a10064542d2b
      "source": [
        "#######################################\n",
        "# exercise 1: write a function named  #\n",
        "# relu with following functinality    #\n",
        "# return 0 if number is -ve or same   #\n",
        "# number is returned                  #\n",
        "# hint:                               #\n",
        "# Use IF-else and return              #\n",
        "# functio signature                   #\n",
        "# def relu(input)                     # \n",
        "#######################################\n",
        "\n",
        "\n",
        "# def sigmoid(x):\n",
        "#     z = (1./(1. + np.exp(-x)))\n",
        "#     return z"
<<<<<<< HEAD
      ]
=======
      ],
      "metadata": {
        "id": "SKKQLrHJRBMQ"
      },
      "id": "SKKQLrHJRBMQ",
      "execution_count": 164,
      "outputs": []
>>>>>>> 03f24425283acc55e724601dacc2a10064542d2b
    },
    {
      "cell_type": "markdown",
      "id": "96107ff0",
      "metadata": {
        "heading_collapsed": true,
        "id": "96107ff0"
      },
      "source": [
        "## Classes & Module 📘\n",
        "Python is an object oriented programming language.<br>\n",
        "Almost everything in Python is an object, with its properties and methods.<br>\n",
        "A Class is like an object constructor, or a \"blueprint\" for creating objects.<br>"
      ]
    },
    {
      "cell_type": "code",
<<<<<<< HEAD
      "execution_count": 42,
=======
      "execution_count": 165,
>>>>>>> 03f24425283acc55e724601dacc2a10064542d2b
      "id": "07aef31f",
      "metadata": {
        "ExecuteTime": {
          "end_time": "2022-01-06T06:13:21.077720Z",
          "start_time": "2022-01-06T06:13:21.054807Z"
        },
<<<<<<< HEAD
        "colab": {
          "base_uri": "https://localhost:8080/"
        },
        "hidden": true,
        "id": "07aef31f",
=======
        "hidden": true,
        "id": "07aef31f",
        "colab": {
          "base_uri": "https://localhost:8080/"
        },
>>>>>>> 03f24425283acc55e724601dacc2a10064542d2b
        "outputId": "cafb0199-1554-4be9-e963-8a34e8e900ad"
      },
      "outputs": [
        {
<<<<<<< HEAD
          "name": "stdout",
          "output_type": "stream",
          "text": [
            "(3, 5)\n",
            "(6, 1)\n"
=======
          "output_type": "stream",
          "name": "stdout",
          "text": [
            "(1, 4)\n",
            "(6, 3)\n"
>>>>>>> 03f24425283acc55e724601dacc2a10064542d2b
          ]
        }
      ],
      "source": [
        "import random\n",
        "class Dice:\n",
        "    def __init__(self):\n",
        "        self.dice_val = (1,2,3,4,5,6)\n",
        "    def roll(self):\n",
        "        print(f'({random.randint(1,6)}, {random.randint(1,6)})')\n",
        "    def roll_(self):\n",
        "        print(f'({random.choice(self.dice_val)}, {random.choice(self.dice_val)})')\n",
        "dice = Dice()\n",
        "dice.roll_()\n",
        "dice.roll()"
      ]
    },
    {
      "cell_type": "markdown",
      "id": "0a99caa9",
      "metadata": {
        "heading_collapsed": true,
        "hidden": true,
        "id": "0a99caa9"
      },
      "source": [
        "### Inheritance"
      ]
    },
    {
      "cell_type": "code",
<<<<<<< HEAD
      "execution_count": 43,
      "id": "2bb61f21",
=======
      "execution_count": 166,
>>>>>>> 03f24425283acc55e724601dacc2a10064542d2b
      "metadata": {
        "ExecuteTime": {
          "end_time": "2022-01-06T06:02:58.818411Z",
          "start_time": "2022-01-06T06:02:58.747741Z"
        },
        "code_folding": [
          0
        ],
<<<<<<< HEAD
        "colab": {
          "base_uri": "https://localhost:8080/"
        },
        "hidden": true,
        "id": "2bb61f21",
=======
        "hidden": true,
        "id": "2bb61f21",
        "colab": {
          "base_uri": "https://localhost:8080/"
        },
>>>>>>> 03f24425283acc55e724601dacc2a10064542d2b
        "outputId": "505ec138-7a8f-4a14-b48a-7d2181114cca"
      },
      "outputs": [
        {
<<<<<<< HEAD
          "name": "stdout",
          "output_type": "stream",
=======
          "output_type": "stream",
          "name": "stdout",
>>>>>>> 03f24425283acc55e724601dacc2a10064542d2b
          "text": [
            "draw\n",
            "10\n",
            "12\n",
            "43\n",
            "53\n",
            "draw\n",
            "-10\n",
            "Number1: -10, Number2: -20\n"
          ]
        }
      ],
      "source": [
        "class Point:\n",
        "    def __init__(self,x=12,y=12):\n",
        "        self.x=x\n",
        "        self.y=y\n",
        "    def mov(self):\n",
        "        print(\"move\")\n",
        "    def draw(self):\n",
        "        print(\"draw\") \n",
        "    def number(self,number):\n",
        "        print(number)   \n",
        "           \n",
        "#inheritance in classes\n",
        "class DrawPoint(Point):\n",
        "    def __init__(self,x,y):\n",
        "        super(DrawPoint, self).__init__(x,y)\n",
        "    def show(self):\n",
        "        print(f\"Number1: {self.x}, Number2: {self.y}\")\n",
        "\n",
        "point1 = Point()        \n",
        "point1.x = 10\n",
        "point1.draw()\n",
        "point1.number(point1.x)\n",
        "point1.number(point1.y)\n",
        "\n",
        "point2 = Point(43,53)\n",
        "point1.number(point2.x)\n",
        "point1.number(point2.y)\n",
        "\n",
        "drawpoint = DrawPoint(-10,-20)\n",
        "drawpoint.draw()\n",
        "drawpoint.number(drawpoint.x)\n",
        "drawpoint.show()"
<<<<<<< HEAD
      ]
=======
      ],
      "id": "2bb61f21"
>>>>>>> 03f24425283acc55e724601dacc2a10064542d2b
    },
    {
      "cell_type": "markdown",
      "id": "d1249e1b",
      "metadata": {
        "id": "d1249e1b"
      },
      "source": [
        "## Files and Directories 📁"
      ]
    },
    {
      "cell_type": "markdown",
      "id": "64f73fed",
      "metadata": {
        "heading_collapsed": true,
        "id": "64f73fed"
      },
      "source": [
        "### Read and write to a file"
      ]
    },
    {
      "cell_type": "code",
<<<<<<< HEAD
      "execution_count": 44,
=======
      "execution_count": 167,
>>>>>>> 03f24425283acc55e724601dacc2a10064542d2b
      "id": "8a8f1464",
      "metadata": {
        "ExecuteTime": {
          "end_time": "2022-01-07T04:22:06.487232Z",
          "start_time": "2022-01-07T04:22:06.484164Z"
        },
<<<<<<< HEAD
        "colab": {
          "base_uri": "https://localhost:8080/"
        },
        "hidden": true,
        "id": "8a8f1464",
=======
        "hidden": true,
        "id": "8a8f1464",
        "colab": {
          "base_uri": "https://localhost:8080/"
        },
>>>>>>> 03f24425283acc55e724601dacc2a10064542d2b
        "outputId": "2ebb0099-7b75-40e6-af4a-65ce2083dea7"
      },
      "outputs": [
        {
<<<<<<< HEAD
          "name": "stdout",
          "output_type": "stream",
          "text": [
            "unable to read File\n",
            "[Errno 2] No such file or directory: 'test.txt'\n"
=======
          "output_type": "stream",
          "name": "stdout",
          "text": [
            "Overwriting file\n",
            "added new data\n"
>>>>>>> 03f24425283acc55e724601dacc2a10064542d2b
          ]
        }
      ],
      "source": [
        "def read_file_content(file_name):\n",
        "    try:\n",
        "        with open(file_name, 'r') as file:\n",
        "            print(file.read())\n",
        "    except Exception as e:\n",
        "        print(\"unable to read File\")\n",
        "        print(e)\n",
        "read_file_content('test.txt')"
      ]
    },
    {
      "cell_type": "code",
<<<<<<< HEAD
      "execution_count": 45,
=======
      "execution_count": 168,
>>>>>>> 03f24425283acc55e724601dacc2a10064542d2b
      "id": "6f82c3e5",
      "metadata": {
        "ExecuteTime": {
          "end_time": "2022-01-07T04:22:15.320962Z",
          "start_time": "2022-01-07T04:22:15.317383Z"
        },
<<<<<<< HEAD
        "colab": {
          "base_uri": "https://localhost:8080/"
        },
        "hidden": true,
        "id": "6f82c3e5",
=======
        "hidden": true,
        "id": "6f82c3e5",
        "colab": {
          "base_uri": "https://localhost:8080/"
        },
>>>>>>> 03f24425283acc55e724601dacc2a10064542d2b
        "outputId": "8d85d93f-1828-468c-b78c-a097e4c2b0e0"
      },
      "outputs": [
        {
<<<<<<< HEAD
          "name": "stdout",
          "output_type": "stream",
=======
          "output_type": "stream",
          "name": "stdout",
>>>>>>> 03f24425283acc55e724601dacc2a10064542d2b
          "text": [
            "Overwriting file\n"
          ]
        }
      ],
      "source": [
        "def write_to_file(file_name, data):\n",
        "    try:\n",
        "        with open(file_name, 'w') as file:\n",
        "            file.write(data)\n",
        "    except Exception as e:\n",
        "        print(\"unable to read File\")\n",
        "        print(e)\n",
        "\n",
        "write_to_file('test.txt', 'Overwriting file')\n",
        "read_file_content('test.txt')"
      ]
    },
    {
      "cell_type": "code",
<<<<<<< HEAD
      "execution_count": 46,
=======
      "execution_count": 169,
>>>>>>> 03f24425283acc55e724601dacc2a10064542d2b
      "id": "21ad8e1c",
      "metadata": {
        "ExecuteTime": {
          "end_time": "2022-01-07T04:22:48.648651Z",
          "start_time": "2022-01-07T04:22:48.645043Z"
        },
<<<<<<< HEAD
        "colab": {
          "base_uri": "https://localhost:8080/"
        },
        "hidden": true,
        "id": "21ad8e1c",
=======
        "hidden": true,
        "id": "21ad8e1c",
        "colab": {
          "base_uri": "https://localhost:8080/"
        },
>>>>>>> 03f24425283acc55e724601dacc2a10064542d2b
        "outputId": "91df3ea3-9554-4e32-f8b9-8b54eaf003c4"
      },
      "outputs": [
        {
<<<<<<< HEAD
          "name": "stdout",
          "output_type": "stream",
=======
          "output_type": "stream",
          "name": "stdout",
>>>>>>> 03f24425283acc55e724601dacc2a10064542d2b
          "text": [
            "Overwriting file\n",
            "added new data\n"
          ]
        }
      ],
      "source": [
        "def write_to_file_improved(file_name, mode, data):\n",
        "    try:\n",
        "        with open(file_name, mode) as file:\n",
        "            file.write(data)\n",
        "    except Exception as e:\n",
        "        print(\"unable to read File\")\n",
        "        print(e)\n",
        "write_to_file_improved('test.txt', 'a','\\nadded new data')\n",
        "read_file_content('test.txt')"
      ]
    },
    {
      "cell_type": "markdown",
      "id": "e343d4a6",
      "metadata": {
        "heading_collapsed": true,
        "id": "e343d4a6"
      },
      "source": [
        "### Iterate over files in directory"
      ]
    },
    {
      "cell_type": "code",
<<<<<<< HEAD
      "execution_count": 47,
=======
      "execution_count": 170,
>>>>>>> 03f24425283acc55e724601dacc2a10064542d2b
      "id": "56352c52",
      "metadata": {
        "ExecuteTime": {
          "end_time": "2022-01-06T06:30:28.567940Z",
          "start_time": "2022-01-06T06:30:28.565429Z"
        },
<<<<<<< HEAD
        "colab": {
          "base_uri": "https://localhost:8080/"
        },
        "hidden": true,
        "id": "56352c52",
=======
        "hidden": true,
        "id": "56352c52",
        "colab": {
          "base_uri": "https://localhost:8080/"
        },
>>>>>>> 03f24425283acc55e724601dacc2a10064542d2b
        "outputId": "71c4b4da-2aa1-45fe-d6e4-dc0527987d86"
      },
      "outputs": [
        {
<<<<<<< HEAD
          "name": "stdout",
          "output_type": "stream",
=======
          "output_type": "stream",
          "name": "stdout",
>>>>>>> 03f24425283acc55e724601dacc2a10064542d2b
          "text": [
            "True\n",
            "test.txt\n"
          ]
        }
      ],
      "source": [
        "from pathlib import Path\n",
        "# p = Path('../')\n",
        "p = Path()\n",
        "print(p.exists())\n",
        "for file in p.glob('*.txt'):\n",
        "    print(file)\n",
        "\n",
        "###################################################\n",
        "# Challenge: move one directory up in path and    #\n",
        "# print the content of first .py file             #\n",
        "# Hint:                                           #\n",
        "# '.' represent current dir and '../' Parent      #\n",
        "# to find .py file use p.globe(\"*.py\") and then   #\n",
        "# print data by using one of above give functions #\n",
        "###################################################"
      ]
    },
    {
      "cell_type": "markdown",
      "id": "2f0a5ce2",
      "metadata": {
        "ExecuteTime": {
          "end_time": "2022-01-06T06:04:17.573734Z",
          "start_time": "2022-01-06T06:04:17.571824Z"
        },
        "heading_collapsed": true,
        "id": "2f0a5ce2"
      },
      "source": [
        "## External packages 📤"
      ]
    },
    {
      "cell_type": "markdown",
      "id": "bce65d3d",
      "metadata": {
        "heading_collapsed": true,
        "hidden": true,
        "id": "bce65d3d"
      },
      "source": [
        "### Numpy\n",
        "NumPy stands for Numerical Python.<br>\n",
        "NumPy is a Python library used for working with arrays.<br>\n",
        "It also has functions for working in domain of linear algebra, fourier transform, and matrices.<br>\n",
        "\n",
        "    In Python we have lists that serve the purpose of arrays, \n",
        "    but they are slow to process.\n",
        "    NumPy aims to provide an array object that is up to 50x faster\n",
        "    than traditional Python lists.\n",
        "    The array object in NumPy is called ndarray, it provides a lot \n",
        "    of supporting functions that make working with ndarray very easy.\n",
        "    Arrays are very frequently used in data science, where speed and \n",
        "    resources are very important.\n"
      ]
    },
    {
      "cell_type": "code",
<<<<<<< HEAD
      "execution_count": 48,
=======
      "execution_count": 171,
>>>>>>> 03f24425283acc55e724601dacc2a10064542d2b
      "id": "26ab2801",
      "metadata": {
        "ExecuteTime": {
          "end_time": "2022-01-06T06:26:36.437158Z",
          "start_time": "2022-01-06T06:26:36.435512Z"
        },
        "hidden": true,
        "id": "26ab2801"
      },
      "outputs": [],
      "source": [
        "import numpy as np"
      ]
    },
    {
      "cell_type": "markdown",
      "id": "0b34d2d8",
      "metadata": {
        "hidden": true,
        "id": "0b34d2d8"
      },
      "source": [
        "1D and 2D Arrays"
      ]
    },
    {
      "cell_type": "code",
<<<<<<< HEAD
      "execution_count": 49,
      "id": "89292053",
      "metadata": {
        "colab": {
          "base_uri": "https://localhost:8080/"
        },
        "hidden": true,
        "id": "89292053",
=======
      "execution_count": 172,
      "id": "89292053",
      "metadata": {
        "hidden": true,
        "id": "89292053",
        "colab": {
          "base_uri": "https://localhost:8080/"
        },
>>>>>>> 03f24425283acc55e724601dacc2a10064542d2b
        "outputId": "1654a8fd-f060-40e7-c96c-5a8b872404f0"
      },
      "outputs": [
        {
<<<<<<< HEAD
          "name": "stdout",
          "output_type": "stream",
=======
          "output_type": "stream",
          "name": "stdout",
>>>>>>> 03f24425283acc55e724601dacc2a10064542d2b
          "text": [
            "100\n",
            "[100]\n",
            "[100]\n",
            "Array-y, Shape:(1,) Dim:1\n",
            "Array, x-type:<class 'numpy.ndarray'> x1-type:<class 'list'> y-type:<class 'numpy.ndarray'>\n"
          ]
        }
      ],
      "source": [
        "x = np.array(100)\n",
        "x1 = [100]\n",
        "y = np.array([100])\n",
        "print(x,x1,y,sep='\\n')\n",
        "print(f\"Array-y, Shape:{y.shape} Dim:{y.ndim}\")\n",
        "print(f\"Array, x-type:{type(x)} x1-type:{type(x1)} y-type:{type(y)}\")"
      ]
    },
    {
      "cell_type": "code",
<<<<<<< HEAD
      "execution_count": 50,
=======
      "execution_count": 173,
>>>>>>> 03f24425283acc55e724601dacc2a10064542d2b
      "id": "4a87937a",
      "metadata": {
        "ExecuteTime": {
          "end_time": "2022-01-06T06:33:16.697945Z",
          "start_time": "2022-01-06T06:33:16.693620Z"
        },
<<<<<<< HEAD
        "colab": {
          "base_uri": "https://localhost:8080/"
        },
        "collapsed": true,
        "hidden": true,
        "id": "4a87937a",
=======
        "collapsed": true,
        "hidden": true,
        "id": "4a87937a",
        "colab": {
          "base_uri": "https://localhost:8080/"
        },
>>>>>>> 03f24425283acc55e724601dacc2a10064542d2b
        "outputId": "a33fd20c-c083-40d1-c962-6a432f726e89"
      },
      "outputs": [
        {
<<<<<<< HEAD
          "name": "stdout",
          "output_type": "stream",
=======
          "output_type": "stream",
          "name": "stdout",
>>>>>>> 03f24425283acc55e724601dacc2a10064542d2b
          "text": [
            "Array-y,y1, Shape:(2,) ,(2, 2)\n",
            "Array-y,y1, ndim:1 ,2\n",
            "100\n",
            "Array-y1, Shape:(2, 2, 2) Dim,3\n",
            "200\n",
            "[[100 200]\n",
            " [300 400]]\n",
            "[[100 200]\n",
            " [300 400]]\n",
            "SUM array using numpy:\n",
            "2000\n",
            "get array mean using numpy:\n",
            "250.0\n"
          ]
        }
      ],
      "source": [
        "y = np.array([100,200])\n",
        "y1 = np.array([[100,200],[300,400]])\n",
        "print(f\"Array-y,y1, Shape:{y.shape} ,{y1.shape}\")\n",
        "print(f\"Array-y,y1, ndim:{y.ndim} ,{y1.ndim}\")\n",
        "print(y1[0][0])\n",
        "\n",
        "## Matrix -- rank 3 tensors\n",
        "y1 = np.array([ [   [100,200],\n",
        "                    [300,400] ],\n",
        "                [   [100,200],\n",
        "                    [300,400]] ])\n",
        "print(f\"Array-y1, Shape:{y1.shape} Dim,{y1.ndim}\")\n",
        "# Array Slicing\n",
        "print(y1[0][0][1])\n",
        "print(y1[0][:][:])\n",
        "print(y1[1][:][:])\n",
        "print(\"SUM array using numpy:\")\n",
        "print(y1.sum())\n",
        "print(\"get array mean using numpy:\")\n",
        "print(y1.mean())"
      ]
    },
    {
      "cell_type": "markdown",
<<<<<<< HEAD
      "id": "AwCwJPuJqMu4",
      "metadata": {
        "id": "AwCwJPuJqMu4"
      },
      "source": [
        "generate Time series"
      ]
    },
    {
      "cell_type": "code",
      "execution_count": 51,
      "id": "rS_Xe2FkqL7e",
      "metadata": {
        "id": "rS_Xe2FkqL7e"
      },
      "outputs": [],
=======
      "source": [
        "generate Time series"
      ],
      "metadata": {
        "id": "AwCwJPuJqMu4"
      },
      "id": "AwCwJPuJqMu4"
    },
    {
      "cell_type": "code",
>>>>>>> 03f24425283acc55e724601dacc2a10064542d2b
      "source": [
        "import numpy as np\n",
        "def generate_time_series(batch_size, n_steps):\n",
        "    freq1, freq2, offsets1, offsets2 = np.random.rand(4, batch_size, 1)\n",
        "    time = np.linspace(0, 1, n_steps)\n",
        "    series = 0.5 * np.sin((time - offsets1) * (freq1 * 10 + 10))  #   wave 1\n",
        "    series += 0.2 * np.sin((time - offsets2) * (freq2 * 20 + 20)) # + wave 2\n",
        "    series += 0.1 * (np.random.rand(batch_size, n_steps) - 0.5)   # + noise\n",
        "    return series[..., np.newaxis].astype(np.float32)\n",
        "\n",
        "np.random.seed(42)\n",
        "\n",
        "n_steps = 50\n",
        "series = generate_time_series(10000, n_steps + 1)"
<<<<<<< HEAD
      ]
=======
      ],
      "metadata": {
        "id": "rS_Xe2FkqL7e"
      },
      "id": "rS_Xe2FkqL7e",
      "execution_count": 174,
      "outputs": []
>>>>>>> 03f24425283acc55e724601dacc2a10064542d2b
    },
    {
      "cell_type": "markdown",
      "id": "a4e6375e",
      "metadata": {
        "heading_collapsed": true,
        "hidden": true,
        "id": "a4e6375e"
      },
      "source": [
        "### Pandas\n",
        "Pandas is a Python library used for working with data sets.<br>\n",
        "It has functions for analyzing, cleaning, exploring, and manipulating data.<br>\n",
        "The name \"Pandas\" has a reference to both \"Panel Data\", and \"Python Data Analysis\" and was created by Wes McKinney in 2008.<br>\n",
        "Usage:<br>\n",
        "\n",
        "     - Is there a correlation between two or more columns?\n",
        "     - What is average value?\n",
        "     - Max value?\n",
        "     - Min value?\n"
      ]
    },
    {
      "cell_type": "markdown",
      "id": "741649f9",
      "metadata": {
        "hidden": true,
        "id": "741649f9"
      },
      "source": [
        "Import Pandas"
      ]
    },
    {
      "cell_type": "code",
<<<<<<< HEAD
      "execution_count": 52,
      "id": "e0a2cf78",
      "metadata": {
        "colab": {
          "base_uri": "https://localhost:8080/"
        },
        "hidden": true,
        "id": "e0a2cf78",
=======
      "execution_count": 175,
      "id": "e0a2cf78",
      "metadata": {
        "hidden": true,
        "id": "e0a2cf78",
        "colab": {
          "base_uri": "https://localhost:8080/"
        },
>>>>>>> 03f24425283acc55e724601dacc2a10064542d2b
        "outputId": "5292c646-28b4-4c16-a4b7-80097047c88e"
      },
      "outputs": [
        {
<<<<<<< HEAD
          "name": "stdout",
          "output_type": "stream",
=======
          "output_type": "stream",
          "name": "stdout",
>>>>>>> 03f24425283acc55e724601dacc2a10064542d2b
          "text": [
            "0    1.0\n",
            "1    2.0\n",
            "2    3.0\n",
            "3    4.0\n",
            "4    NaN\n",
            "5    6.0\n",
            "6    7.0\n",
            "dtype: float64\n"
          ]
        }
      ],
      "source": [
        "import numpy as np\n",
        "import pandas as pd\n",
        "##object creation\n",
        "s = pd.Series([1,2,3,4,np.nan,6,7])\n",
        "print(s)"
      ]
    },
    {
      "cell_type": "code",
<<<<<<< HEAD
      "execution_count": 53,
=======
      "execution_count": 176,
>>>>>>> 03f24425283acc55e724601dacc2a10064542d2b
      "id": "e19385b8",
      "metadata": {
        "ExecuteTime": {
          "end_time": "2022-01-06T06:16:05.617779Z",
          "start_time": "2022-01-06T06:16:05.598491Z"
        },
<<<<<<< HEAD
        "colab": {
          "base_uri": "https://localhost:8080/"
        },
        "hidden": true,
        "id": "e19385b8",
=======
        "hidden": true,
        "id": "e19385b8",
        "colab": {
          "base_uri": "https://localhost:8080/"
        },
>>>>>>> 03f24425283acc55e724601dacc2a10064542d2b
        "outputId": "423604e9-fa96-47c2-882d-c5587ee593b7"
      },
      "outputs": [
        {
<<<<<<< HEAD
          "name": "stdout",
          "output_type": "stream",
=======
          "output_type": "stream",
          "name": "stdout",
>>>>>>> 03f24425283acc55e724601dacc2a10064542d2b
          "text": [
            "DatetimeIndex(['2022-01-10', '2022-01-11', '2022-01-12', '2022-01-13',\n",
            "               '2022-01-14'],\n",
            "              dtype='datetime64[ns]', freq='D')\n"
          ]
        }
      ],
      "source": [
        "dates = pd.date_range('20220110',periods=5)\n",
        "print(dates)"
      ]
    },
    {
      "cell_type": "code",
<<<<<<< HEAD
      "execution_count": 54,
=======
      "execution_count": 177,
>>>>>>> 03f24425283acc55e724601dacc2a10064542d2b
      "id": "e932f1b6",
      "metadata": {
        "ExecuteTime": {
          "end_time": "2022-01-06T06:16:08.844472Z",
          "start_time": "2022-01-06T06:16:08.652433Z"
        },
<<<<<<< HEAD
        "colab": {
          "base_uri": "https://localhost:8080/"
        },
        "collapsed": true,
        "hidden": true,
        "id": "e932f1b6",
=======
        "collapsed": true,
        "hidden": true,
        "id": "e932f1b6",
        "colab": {
          "base_uri": "https://localhost:8080/"
        },
>>>>>>> 03f24425283acc55e724601dacc2a10064542d2b
        "outputId": "650b2884-4035-4a36-95c4-f531a93e9455"
      },
      "outputs": [
        {
<<<<<<< HEAD
          "name": "stdout",
          "output_type": "stream",
=======
          "output_type": "stream",
          "name": "stdout",
>>>>>>> 03f24425283acc55e724601dacc2a10064542d2b
          "text": [
            "<class 'pandas.core.frame.DataFrame'>\n",
            "DatetimeIndex: 5 entries, 2022-01-10 to 2022-01-14\n",
            "Freq: D\n",
            "Data columns (total 5 columns):\n",
            " #   Column  Non-Null Count  Dtype  \n",
            "---  ------  --------------  -----  \n",
            " 0   A       5 non-null      float64\n",
            " 1   B       5 non-null      float64\n",
            " 2   C       5 non-null      float64\n",
            " 3   D       5 non-null      float64\n",
            " 4   E       5 non-null      float64\n",
            "dtypes: float64(5)\n",
            "memory usage: 240.0 bytes\n",
            "None\n",
            "                   A         B         C         D         E\n",
            "2022-01-10 -2.242304  1.920414 -0.090006  1.224172 -0.667613\n",
            "2022-01-11 -0.490078  0.228318  0.184258  0.830956 -1.886927\n",
            "2022-01-12 -1.085932  1.050091 -1.056080 -1.266690 -0.521360\n",
            "2022-01-13  0.417957  0.511069  0.094387 -1.176468  1.456020\n",
            "2022-01-14  0.853302  2.123770  0.539041  0.654406 -2.456375\n",
            "pandas to numpy array [[-2.24230398  1.92041407 -0.09000604  1.22417246 -0.66761255]\n",
            " [-0.49007849  0.22831753  0.1842582   0.83095627 -1.88692676]\n",
            " [-1.08593193  1.05009098 -1.05608029 -1.26668991 -0.52135969]\n",
            " [ 0.41795655  0.51106872  0.09438686 -1.17646791  1.45602023]\n",
            " [ 0.85330247  2.12376979  0.53904123  0.65440606 -2.45637465]]\n"
          ]
        }
      ],
      "source": [
        "### dataframe\n",
        "df = pd.DataFrame(np.random.randn(5,5),index=dates,columns=list('ABCDE'))\n",
        "print(df.info())\n",
        "print(df.head())\n",
        "print('pandas to numpy array', df.to_numpy())"
      ]
    },
    {
      "cell_type": "code",
<<<<<<< HEAD
      "execution_count": 55,
=======
      "execution_count": 178,
>>>>>>> 03f24425283acc55e724601dacc2a10064542d2b
      "id": "608641b4",
      "metadata": {
        "ExecuteTime": {
          "end_time": "2022-01-06T06:16:14.229294Z",
          "start_time": "2022-01-06T06:16:14.222674Z"
        },
<<<<<<< HEAD
        "colab": {
          "base_uri": "https://localhost:8080/"
        },
        "collapsed": true,
        "hidden": true,
        "id": "608641b4",
=======
        "collapsed": true,
        "hidden": true,
        "id": "608641b4",
        "colab": {
          "base_uri": "https://localhost:8080/"
        },
>>>>>>> 03f24425283acc55e724601dacc2a10064542d2b
        "outputId": "35f7169a-afe5-463b-82ed-c9ef71ec257d"
      },
      "outputs": [
        {
<<<<<<< HEAD
          "name": "stdout",
          "output_type": "stream",
=======
          "output_type": "stream",
          "name": "stdout",
>>>>>>> 03f24425283acc55e724601dacc2a10064542d2b
          "text": [
            "     A          B    C  D      E    F\n",
            "2  1.0 2022-01-10  1.0  3   test  foo\n",
            "3  1.0 2022-01-10  1.0  3  train  foo\n",
            "Index(['A', 'B', 'C', 'D', 'E', 'F'], dtype='object')\n"
          ]
        }
      ],
      "source": [
        "df2 = pd.DataFrame(\n",
        "    {\n",
        "        \"A\": 1.0,\n",
        "        \"B\": pd.Timestamp(\"20220110\"),\n",
        "        \"C\": pd.Series(1, index=list(range(4)), dtype=\"float32\"),\n",
        "        \"D\": np.array([3] * 4, dtype=\"int32\"),\n",
        "        \"E\": pd.Categorical([\"test\", \"train\", \"test\", \"train\"]),\n",
        "        \"F\": \"foo\",\n",
        "    }\n",
        ")\n",
        "\n",
        "print(df2.tail(2))\n",
        "print(df2.columns)"
      ]
    },
    {
      "cell_type": "markdown",
      "id": "0316e135",
      "metadata": {
        "ExecuteTime": {
          "end_time": "2022-01-06T06:34:24.839766Z",
          "start_time": "2022-01-06T06:34:24.837943Z"
        },
        "hidden": true,
        "id": "0316e135"
      },
      "source": [
        "### Matplot lib \n",
        "Matplotlib is a low level graph plotting library in python that serves as a visualization utility.<br>\n",
        "Matplotlib was created by John D. Hunter.<br>\n",
        "Matplotlib is open source and we can use it freely.<br>"
      ]
    },
    {
      "cell_type": "code",
<<<<<<< HEAD
      "execution_count": 56,
=======
      "execution_count": 179,
>>>>>>> 03f24425283acc55e724601dacc2a10064542d2b
      "id": "91044916",
      "metadata": {
        "ExecuteTime": {
          "end_time": "2022-01-06T06:40:12.734497Z",
          "start_time": "2022-01-06T06:40:12.647034Z"
        },
<<<<<<< HEAD
=======
        "hidden": true,
        "id": "91044916",
>>>>>>> 03f24425283acc55e724601dacc2a10064542d2b
        "colab": {
          "base_uri": "https://localhost:8080/",
          "height": 265
        },
<<<<<<< HEAD
        "hidden": true,
        "id": "91044916",
=======
>>>>>>> 03f24425283acc55e724601dacc2a10064542d2b
        "outputId": "2985c030-3536-4814-cdb1-5430e112671c"
      },
      "outputs": [
        {
<<<<<<< HEAD
          "data": {
            "image/png": "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",
=======
          "output_type": "display_data",
          "data": {
            "image/png": "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\n",
>>>>>>> 03f24425283acc55e724601dacc2a10064542d2b
            "text/plain": [
              "<Figure size 432x288 with 1 Axes>"
            ]
          },
          "metadata": {
            "needs_background": "light"
<<<<<<< HEAD
          },
          "output_type": "display_data"
=======
          }
>>>>>>> 03f24425283acc55e724601dacc2a10064542d2b
        }
      ],
      "source": [
        "%matplotlib inline\n",
        "import matplotlib.pyplot as plt\n",
        "import numpy as np\n",
        "from math import sin, cos\n",
        "xpoints = np.array(range(1,30))\n",
        "ypoints = []\n",
        "for i in xpoints:\n",
        "    ypoints.append(sin(i))\n",
        "# try using list comprehention \n",
        "# ypoints = [sin(ypoint) for ypoint in xpoints]\n",
        "plt.plot(xpoints, ypoints)\n",
        "plt.show()"
      ]
    },
    {
      "cell_type": "markdown",
<<<<<<< HEAD
      "id": "oyJX5s2Rpy9J",
      "metadata": {
        "id": "oyJX5s2Rpy9J"
      },
      "source": [
        "#### Plot model loss"
      ]
    },
    {
      "cell_type": "code",
      "execution_count": 57,
      "id": "0SMNJIlep4O8",
      "metadata": {
        "colab": {
          "base_uri": "https://localhost:8080/",
          "height": 289
        },
        "id": "0SMNJIlep4O8",
        "outputId": "2bbbb8b1-bf56-477d-ff78-1396ee58062c"
      },
      "outputs": [
        {
          "data": {
            "image/png": "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",
            "text/plain": [
              "<Figure size 864x288 with 3 Axes>"
            ]
          },
          "metadata": {
            "needs_background": "light"
          },
          "output_type": "display_data"
        }
      ],
=======
      "source": [
        "#### Plot model loss"
      ],
      "metadata": {
        "id": "oyJX5s2Rpy9J"
      },
      "id": "oyJX5s2Rpy9J"
    },
    {
      "cell_type": "code",
>>>>>>> 03f24425283acc55e724601dacc2a10064542d2b
      "source": [
        "from matplotlib import pyplot as plt\n",
        "def plot_series(series, y=None, y_pred=None, x_label=\"$t$\", y_label=\"$x(t)$\"):\n",
        "    plt.plot(series, \".-\")\n",
        "    if y is not None:\n",
        "        plt.plot(n_steps, y, \"bx\", markersize=10)\n",
        "    if y_pred is not None:\n",
        "        plt.plot(n_steps, y_pred, \"ro\")\n",
        "    plt.grid(True)\n",
        "    if x_label:\n",
        "        plt.xlabel(x_label, fontsize=16)\n",
        "    if y_label:\n",
        "        plt.ylabel(y_label, fontsize=16, rotation=0)\n",
        "    plt.hlines(0, 0, 100, linewidth=1)\n",
        "    plt.axis([0, n_steps + 1, -1, 1])\n",
        "\n",
        "fig, axes = plt.subplots(nrows=1, ncols=3, sharey=True, figsize=(12, 4))\n",
        "np.random.seed(42)\n",
        "n_steps = 50\n",
        "series = generate_time_series(10000, n_steps + 1)\n",
        "X_train, y_train = series[:7000, :n_steps], series[:7000, -1]\n",
        "X_valid, y_valid = series[7000:9000, :n_steps], series[7000:9000, -1]\n",
        "X_test, y_test = series[9000:, :n_steps], series[9000:, -1]\n",
        "for col in range(3):\n",
        "    plt.sca(axes[col])\n",
        "    plot_series(X_valid[col, :, 0], y_valid[col, 0],\n",
        "                y_label=(\"$x(t)$\" if col==0 else None))\n",
        "plt.show()"
<<<<<<< HEAD
=======
      ],
      "metadata": {
        "id": "0SMNJIlep4O8",
        "colab": {
          "base_uri": "https://localhost:8080/",
          "height": 289
        },
        "outputId": "2bbbb8b1-bf56-477d-ff78-1396ee58062c"
      },
      "id": "0SMNJIlep4O8",
      "execution_count": 180,
      "outputs": [
        {
          "output_type": "display_data",
          "data": {
            "image/png": "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\n",
            "text/plain": [
              "<Figure size 864x288 with 3 Axes>"
            ]
          },
          "metadata": {
            "needs_background": "light"
          }
        }
>>>>>>> 03f24425283acc55e724601dacc2a10064542d2b
      ]
    },
    {
      "cell_type": "markdown",
<<<<<<< HEAD
      "id": "BCRWvYcXILZf",
      "metadata": {
        "id": "BCRWvYcXILZf"
      },
      "source": [
        "### OPEN-CV"
      ]
    },
    {
      "cell_type": "code",
      "execution_count": 58,
      "id": "lQHx1l8GIR-K",
      "metadata": {
        "id": "lQHx1l8GIR-K"
      },
      "outputs": [],
      "source": [
        "import cv2 "
      ]
    },
    {
      "cell_type": "markdown",
      "id": "9z4IAPmbFwF0",
      "metadata": {
        "id": "9z4IAPmbFwF0"
      },
      "source": [
        "## Tips and Advance concepts 👇\n",
        "\n"
      ]
    },
    {
      "cell_type": "markdown",
      "id": "94sPkaNooTyP",
      "metadata": {
        "id": "94sPkaNooTyP"
      },
=======
      "source": [
        "### OPEN-CV"
      ],
      "metadata": {
        "id": "BCRWvYcXILZf"
      },
      "id": "BCRWvYcXILZf"
    },
    {
      "cell_type": "code",
      "source": [
        "import cv2 "
      ],
      "metadata": {
        "id": "lQHx1l8GIR-K"
      },
      "id": "lQHx1l8GIR-K",
      "execution_count": 181,
      "outputs": []
    },
    {
      "cell_type": "markdown",
      "source": [
        "## Tips and Advance concepts 👇\n",
        "\n"
      ],
      "metadata": {
        "id": "9z4IAPmbFwF0"
      },
      "id": "9z4IAPmbFwF0"
    },
    {
      "cell_type": "markdown",
>>>>>>> 03f24425283acc55e724601dacc2a10064542d2b
      "source": [
        "### List of functions 🤯\n",
        "\n",
        "in python we can use lists to store functions as an element and when needed call a specific function by getting it from specified index.\n",
        "This kind of techique is good for functions having same signature.\n",
        "\n",
        "*   Can be helpful to reduce unwante ifelse ledder\n",
        "*   Should ony be used for code having little to no interaction wiht user's input \n",
        "*    also littlebit difficult to debug.\n",
        "\n",
        "<b> Remember index always starts at 0 (Except for some people who use matlab 🥶) \n",
        "\n"
<<<<<<< HEAD
      ]
    },
    {
      "cell_type": "code",
      "execution_count": 59,
      "id": "YitjGQT4oOGT",
      "metadata": {
        "id": "YitjGQT4oOGT"
      },
      "outputs": [],
=======
      ],
      "metadata": {
        "id": "94sPkaNooTyP"
      },
      "id": "94sPkaNooTyP"
    },
    {
      "cell_type": "code",
>>>>>>> 03f24425283acc55e724601dacc2a10064542d2b
      "source": [
        "# class UNDEFIEDOPERATION is derived from super class Exception\n",
        "# to make it easy for debuggin messy code wiht little effort.\n",
        "class UNDEFIEDOPERATION(Exception):\n",
        "    # Constructor or Initializer\n",
        "    def __init__(self, message='Undefinde operation'):\n",
        "        self.message = message\n",
        " \n",
        "    # __str__ is to print() the value\n",
        "    def __str__(self):\n",
        "        return(repr(self.message))\n",
        "\n",
        "def add(num1, num2):\n",
        "    return num1 + num2\n",
        "def subtract(num1, num2):\n",
        "    return num1 - num2\n",
        "def multiply(num1, num2):\n",
        "    return num1 * num2\n",
        "\n",
        "def calculate(num1, num2, opp_code):\n",
        "    if opp_code == 0:\n",
        "        return add(num1, num2)\n",
        "    if opp_code == 1:\n",
        "        return subtract(num1, num2)\n",
        "    if opp_code == 2:\n",
        "        return multiply(num1, num2)\n",
        "\n",
        "def calculate_simplefied(num1, num2, opp_code):\n",
        "    if(opp_code >=3):\n",
        "        raise UNDEFIEDOPERATION()\n",
        "    function = [add, subtract, multiply]\n",
        "    return function[opp_code](num1, num2)\n"
<<<<<<< HEAD
      ]
    },
    {
      "cell_type": "code",
      "execution_count": 60,
      "id": "ILupe2gNw1m_",
      "metadata": {
        "colab": {
          "base_uri": "https://localhost:8080/"
        },
        "id": "ILupe2gNw1m_",
        "outputId": "63eb82c0-8a67-4d62-e250-c89fe3b6076e"
      },
      "outputs": [
        {
          "name": "stdout",
          "output_type": "stream",
          "text": [
            "Result = -1\n",
            "Result = -1\n"
          ]
        }
      ],
=======
      ],
      "metadata": {
        "id": "YitjGQT4oOGT"
      },
      "id": "YitjGQT4oOGT",
      "execution_count": 182,
      "outputs": []
    },
    {
      "cell_type": "code",
>>>>>>> 03f24425283acc55e724601dacc2a10064542d2b
      "source": [
        "calculat_res = calculate(3, 4, 1) \n",
        "print(f'Result = {calculat_res}')\n",
        "calculate_simplefied_res =  calculate_simplefied(3, 4, 1)\n",
        "print(f'Result = {calculate_simplefied_res}')"
<<<<<<< HEAD
=======
      ],
      "metadata": {
        "id": "ILupe2gNw1m_",
        "colab": {
          "base_uri": "https://localhost:8080/"
        },
        "outputId": "63eb82c0-8a67-4d62-e250-c89fe3b6076e"
      },
      "id": "ILupe2gNw1m_",
      "execution_count": 183,
      "outputs": [
        {
          "output_type": "stream",
          "name": "stdout",
          "text": [
            "Result = -1\n",
            "Result = -1\n"
          ]
        }
>>>>>>> 03f24425283acc55e724601dacc2a10064542d2b
      ]
    },
    {
      "cell_type": "code",
<<<<<<< HEAD
      "execution_count": 61,
      "id": "BXvlWchBoQrD",
      "metadata": {
        "id": "BXvlWchBoQrD"
      },
      "outputs": [],
      "source": [
        "# catch an undefined operations \n",
        "# calculate_simplefied(3, 4, 4)"
      ]
    },
    {
      "cell_type": "markdown",
      "id": "8LNYiJdhygSr",
      "metadata": {
        "id": "8LNYiJdhygSr"
      },
=======
      "source": [
        "# catch an undefined operations \n",
        "# calculate_simplefied(3, 4, 4)"
      ],
      "metadata": {
        "id": "BXvlWchBoQrD"
      },
      "id": "BXvlWchBoQrD",
      "execution_count": 184,
      "outputs": []
    },
    {
      "cell_type": "markdown",
>>>>>>> 03f24425283acc55e724601dacc2a10064542d2b
      "source": [
        "### Switch case statement in python 😉\n",
        "So by default python does not support switch case statemetns but dictionaries can be used in this regard to simulate switch statemtn.\n",
        "this process can optimize list of functions as it is easily manageable "
<<<<<<< HEAD
      ]
    },
    {
      "cell_type": "code",
      "execution_count": 62,
      "id": "BSHVSAyBoQbS",
      "metadata": {
        "id": "BSHVSAyBoQbS"
      },
      "outputs": [],
=======
      ],
      "metadata": {
        "id": "8LNYiJdhygSr"
      },
      "id": "8LNYiJdhygSr"
    },
    {
      "cell_type": "code",
>>>>>>> 03f24425283acc55e724601dacc2a10064542d2b
      "source": [
        "def calculate_simplefied_switch_case(num1, num2, operation):\n",
        "    def default(num1, num2):\n",
        "        raise UNDEFIEDOPERATION()\n",
        "    switch ={\n",
        "        'add':add,\n",
        "        'sub':subtract,\n",
        "        'mul':multiply\n",
        "    }\n",
        "    return switch.get(operation, default)(num1, num2)"
<<<<<<< HEAD
      ]
    },
    {
      "cell_type": "code",
      "execution_count": 63,
      "id": "fSQbyPj200Tf",
      "metadata": {
        "colab": {
          "base_uri": "https://localhost:8080/"
        },
        "id": "fSQbyPj200Tf",
        "outputId": "15529afb-419e-4a58-e835-2d7260f308e0"
      },
      "outputs": [
        {
=======
      ],
      "metadata": {
        "id": "BSHVSAyBoQbS"
      },
      "id": "BSHVSAyBoQbS",
      "execution_count": 185,
      "outputs": []
    },
    {
      "cell_type": "code",
      "source": [
        "calculate_simplefied_switch_case(1, 2, 'mul')"
      ],
      "metadata": {
        "id": "fSQbyPj200Tf",
        "colab": {
          "base_uri": "https://localhost:8080/"
        },
        "outputId": "15529afb-419e-4a58-e835-2d7260f308e0"
      },
      "id": "fSQbyPj200Tf",
      "execution_count": 186,
      "outputs": [
        {
          "output_type": "execute_result",
>>>>>>> 03f24425283acc55e724601dacc2a10064542d2b
          "data": {
            "text/plain": [
              "2"
            ]
          },
<<<<<<< HEAD
          "execution_count": 63,
          "metadata": {},
          "output_type": "execute_result"
        }
      ],
      "source": [
        "calculate_simplefied_switch_case(1, 2, 'mul')"
=======
          "metadata": {},
          "execution_count": 186
        }
>>>>>>> 03f24425283acc55e724601dacc2a10064542d2b
      ]
    },
    {
      "cell_type": "markdown",
<<<<<<< HEAD
      "id": "zTNyovJC-oAd",
      "metadata": {
        "id": "zTNyovJC-oAd"
      },
      "source": [
        "### Simple preceptron model 💡"
      ]
    },
    {
      "cell_type": "code",
      "execution_count": 64,
      "id": "nx0l_faQ-tSK",
      "metadata": {
        "colab": {
          "base_uri": "https://localhost:8080/",
          "height": 675
        },
        "id": "nx0l_faQ-tSK",
        "outputId": "8796d63a-8258-4eff-d05c-c0f522abddfa"
      },
      "outputs": [
        {
          "name": "stdout",
          "output_type": "stream",
          "text": [
            "[[ 2.83131711]\n",
            " [-0.9573157 ]] 0.2988669531305837\n",
            "Accuracy=  89.0 %\n"
          ]
        },
        {
          "data": {
            "image/png": "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",
            "text/plain": [
              "<Figure size 432x288 with 2 Axes>"
            ]
          },
          "metadata": {
            "needs_background": "light"
          },
          "output_type": "display_data"
        },
        {
          "name": "stdout",
          "output_type": "stream",
          "text": [
            "[[ 0.02712393]\n",
            " [-0.02381936]] 0.019999999999999997\n",
            "Accuracy=  73.0 %\n"
          ]
        },
        {
          "data": {
            "image/png": "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",
            "text/plain": [
              "<Figure size 432x288 with 2 Axes>"
            ]
          },
          "metadata": {
            "needs_background": "light"
          },
          "output_type": "display_data"
        }
      ],
=======
      "source": [
        "### Simple preceptron model 💡"
      ],
      "metadata": {
        "id": "zTNyovJC-oAd"
      },
      "id": "zTNyovJC-oAd"
    },
    {
      "cell_type": "code",
>>>>>>> 03f24425283acc55e724601dacc2a10064542d2b
      "source": [
        "### LinearClassifier Example with perceptron training etc\n",
        "###\n",
        "from sklearn.datasets import make_classification\n",
        "from sklearn.datasets import make_circles\n",
        "import numpy as np\n",
        "import matplotlib.pyplot as plt\n",
        "\n",
        "\n",
        "class LinearClassifier:\n",
        "    def __init__(self):\n",
        "        pass\n",
        "    def sigmoid(self,z):\n",
        "        return 1.0/(1. + np.exp(-z))\n",
        "\n",
        "    def loss(self,y,y_ht):\n",
        "        loss =  -np.mean( y*(np.log(y_ht)) - (1-y)*np.log(1-y_ht) )\n",
        "        return loss\n",
        "\n",
        "    def gradient(self,x,y,y_ht):\n",
        "        m = x.shape[0]\n",
        "        dw = (1/m)*np.dot(x.T,(y_ht-y)) #wrt w\n",
        "        db = (1/m)*np.sum((y_ht-y)) # wrt bias\n",
        "        return dw,db \n",
        "\n",
        "    def plot_dec_boundry(self,x,w,b,y,debug):\n",
        "        x1 = [min(x[:,0]), max(x[:,0])]\n",
        "        m = -w[0]/w[1]\n",
        "        c = -b/w[1]\n",
        "        x2 = m*x1 + c\n",
        "        plt.plot(x[:,0][y==0], x[:,1][y==0],'r^')\n",
        "        plt.plot(x[:,0][y==1], x[:,1][y==1],'bs')\n",
        "        plt.plot(x1,x2,'y-')\n",
        "        if debug:\n",
        "            plt.show()\n",
        "\n",
        "    def normalize(self,x):\n",
        "        m,n = x.shape   #m : trg exmple, n: features\n",
        "        for i in range(n):\n",
        "            x = (x - x.mean(axis=0))/x.std(axis=0)\n",
        "        return x    \n",
        "\n",
        "    def train(self, x,y,bs,epochs,lr):\n",
        "        m,n = x.shape\n",
        "        w = np.zeros((n,1))  ## or random ?\n",
        "        b = 0\n",
        "        y = y.reshape(m,1)\n",
        "        x = self.normalize(x)\n",
        "\n",
        "        losses = []\n",
        "\n",
        "        for epoch in range(epochs):\n",
        "            for i in range((m-1)//bs+1):\n",
        "                start_i = i*bs\n",
        "                end_i = start_i + bs\n",
        "                xb = x[start_i:end_i]\n",
        "                yb = y[start_i:end_i]\n",
        "\n",
        "                y_ht = self.sigmoid(np.dot(xb,w)+b)\n",
        "\n",
        "                dw,db = self.gradient(xb,yb,y_ht)\n",
        "\n",
        "                w -=lr*dw\n",
        "                b -=lr*db\n",
        "\n",
        "            l = self.loss(y,self.sigmoid(np.dot(x,w)+b))\n",
        "            losses.append(l)\n",
        "            # self.plot_dec_boundry(x,w,b,y,1)\n",
        "\n",
        "        return w,b,losses\n",
        "\n",
        "    def step_func(self,z):\n",
        "        return 1.0 if (z > 0) else 0.0\n",
        "\n",
        "    def percep_train(self,x, y, epochs, lr):\n",
        "    \n",
        "        m, n = x.shape\n",
        "        \n",
        "        w = np.zeros((n+1,1))   ## weight plus bias\n",
        "        \n",
        "        losses = []\n",
        "        \n",
        "        for epoch in range(epochs):\n",
        "            n_miss = 0\n",
        "            for idx, x_i in enumerate(x):\n",
        "                x_i = np.insert(x_i, 0, 1).reshape(-1,1)\n",
        "                y_hat = self.step_func(np.dot(x_i.T, w))\n",
        "          \n",
        "                if (np.squeeze(y_hat) - y[idx]) != 0:\n",
        "                    w += lr*((y[idx] - y_hat)*x_i)\n",
        "                    n_miss += 1\n",
        "       \n",
        "            losses.append(n_miss)\n",
        "            \n",
        "        return np.array([ [w[1][0]],[w[2][0]] ]),w[0][0], losses\n",
        "    \n",
        "\n",
        "    def predict(self,x,w,b):\n",
        "\n",
        "        x = self.normalize(x)\n",
        "        preds = self.sigmoid((np.dot(x,w)+b))\n",
        "        pred_class = []\n",
        "\n",
        "        pred_class = [1 if i>0.5 else 0 for i in preds]\n",
        "\n",
        "        return np.array(pred_class)\n",
        "    \n",
        "    def accuracy(self,y, y_ht):\n",
        "        accuracy = np.sum(y == y_ht) / len(y)\n",
        "        return accuracy\n",
        "\n",
        "\n",
        "x,Y = make_classification(n_features=2,n_classes=2,n_samples=100,n_redundant=0,n_clusters_per_class=1)\n",
        "# x,Y = make_circles(n_samples=100,noise=0.03,factor=0.7)\n",
        "\n",
        "p = LinearClassifier()\n",
        "w,b,loss = p.train(x,Y,bs=10,epochs=9000,lr=0.01)\n",
        "print(w,b)\n",
        "class_pred = p.predict(x,w,b)\n",
        "print('Accuracy= ',p.accuracy(Y,class_pred) * 100,'%')\n",
        "plt.subplot(1,2,1)\n",
        "p.plot_dec_boundry(x,w,b,Y,0)\n",
        "plt.subplot(1,2,2)\n",
        "plt.plot(loss)\n",
        "plt.suptitle(['Accuray' + str(p.accuracy(Y,class_pred) * 100)])\n",
        "plt.show()\n",
        "\n",
        "w1,b1,loss1 = p.percep_train(x,Y,epochs=1000,lr=0.01)\n",
        "print(w1,b1)\n",
        "\n",
        "class_pred = p.predict(x,w1,b1)\n",
        "print('Accuracy= ',p.accuracy(Y,class_pred) * 100,'%')\n",
        "\n",
        "plt.subplot(1,2,1)\n",
        "p.plot_dec_boundry(x,w1,b1,Y,0)\n",
        "plt.subplot(1,2,2)\n",
        "plt.plot(loss1)\n",
        "plt.suptitle(['Accuray' + str(p.accuracy(Y,class_pred) * 100)])\n",
        "plt.show()\n",
        "\n"
<<<<<<< HEAD
=======
      ],
      "metadata": {
        "id": "nx0l_faQ-tSK",
        "colab": {
          "base_uri": "https://localhost:8080/",
          "height": 675
        },
        "outputId": "8796d63a-8258-4eff-d05c-c0f522abddfa"
      },
      "id": "nx0l_faQ-tSK",
      "execution_count": 187,
      "outputs": [
        {
          "output_type": "stream",
          "name": "stdout",
          "text": [
            "[[ 2.83131711]\n",
            " [-0.9573157 ]] 0.29886695313058376\n",
            "Accuracy=  89.0 %\n"
          ]
        },
        {
          "output_type": "display_data",
          "data": {
            "image/png": "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\n",
            "text/plain": [
              "<Figure size 432x288 with 2 Axes>"
            ]
          },
          "metadata": {
            "needs_background": "light"
          }
        },
        {
          "output_type": "stream",
          "name": "stdout",
          "text": [
            "[[ 0.02712393]\n",
            " [-0.02381936]] 0.019999999999999997\n",
            "Accuracy=  73.0 %\n"
          ]
        },
        {
          "output_type": "display_data",
          "data": {
            "image/png": "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\n",
            "text/plain": [
              "<Figure size 432x288 with 2 Axes>"
            ]
          },
          "metadata": {
            "needs_background": "light"
          }
        }
>>>>>>> 03f24425283acc55e724601dacc2a10064542d2b
      ]
    },
    {
      "cell_type": "markdown",
      "id": "aa7f7c71",
      "metadata": {
        "id": "aa7f7c71"
      },
      "source": [
        "## Save and Close"
      ]
    },
    {
      "cell_type": "code",
<<<<<<< HEAD
      "execution_count": 65,
=======
      "execution_count": 188,
>>>>>>> 03f24425283acc55e724601dacc2a10064542d2b
      "id": "7c1ba051",
      "metadata": {
        "ExecuteTime": {
          "end_time": "2022-01-06T08:01:26.053621Z",
          "start_time": "2022-01-06T08:01:26.032301Z"
        },
<<<<<<< HEAD
=======
        "id": "7c1ba051",
>>>>>>> 03f24425283acc55e724601dacc2a10064542d2b
        "colab": {
          "base_uri": "https://localhost:8080/",
          "height": 17
        },
<<<<<<< HEAD
        "id": "7c1ba051",
=======
>>>>>>> 03f24425283acc55e724601dacc2a10064542d2b
        "outputId": "22e789ec-c8c8-4de2-ac38-6e3f09bf521a"
      },
      "outputs": [
        {
<<<<<<< HEAD
          "data": {
            "application/javascript": "IPython.notebook.save_checkpoint();\nwindow.onbeforeunload = null\nwindow.close();\nIPython.notebook.session.delete();\n",
=======
          "output_type": "display_data",
          "data": {
            "application/javascript": [
              "IPython.notebook.save_checkpoint();\n",
              "window.onbeforeunload = null\n",
              "window.close();\n",
              "IPython.notebook.session.delete();"
            ],
>>>>>>> 03f24425283acc55e724601dacc2a10064542d2b
            "text/plain": [
              "<IPython.core.display.Javascript object>"
            ]
          },
<<<<<<< HEAD
          "metadata": {},
          "output_type": "display_data"
=======
          "metadata": {}
>>>>>>> 03f24425283acc55e724601dacc2a10064542d2b
        }
      ],
      "source": [
        "%%javascript\n",
        "IPython.notebook.save_checkpoint();\n",
        "window.onbeforeunload = null\n",
        "window.close();\n",
        "IPython.notebook.session.delete();"
      ]
    }
  ],
  "metadata": {
<<<<<<< HEAD
    "colab": {
      "collapsed_sections": [
        "aa7f7c71"
      ],
      "name": "SESSION_02.ipynb",
      "provenance": []
    },
=======
>>>>>>> 03f24425283acc55e724601dacc2a10064542d2b
    "kernelspec": {
      "display_name": "Python 3 (ipykernel)",
      "language": "python",
      "name": "python3"
    },
    "language_info": {
      "codemirror_mode": {
        "name": "ipython",
        "version": 3
      },
      "file_extension": ".py",
      "mimetype": "text/x-python",
      "name": "python",
      "nbconvert_exporter": "python",
      "pygments_lexer": "ipython3",
      "version": "3.9.7"
    },
    "toc": {
      "base_numbering": 1,
      "nav_menu": {},
      "number_sections": false,
      "sideBar": true,
      "skip_h1_title": false,
      "title_cell": "Table of Contents",
      "title_sidebar": "Contents",
      "toc_cell": false,
      "toc_position": {},
      "toc_section_display": true,
      "toc_window_display": true
    },
    "varInspector": {
      "cols": {
        "lenName": 16,
        "lenType": 16,
        "lenVar": 40
      },
      "kernels_config": {
        "python": {
          "delete_cmd_postfix": "",
          "delete_cmd_prefix": "del ",
          "library": "var_list.py",
          "varRefreshCmd": "print(var_dic_list())"
        },
        "r": {
          "delete_cmd_postfix": ") ",
          "delete_cmd_prefix": "rm(",
          "library": "var_list.r",
          "varRefreshCmd": "cat(var_dic_list()) "
        }
      },
      "types_to_exclude": [
        "module",
        "function",
        "builtin_function_or_method",
        "instance",
        "_Feature"
      ],
      "window_display": false
<<<<<<< HEAD
=======
    },
    "colab": {
      "name": "SESSION_02.ipynb",
      "provenance": [],
      "collapsed_sections": [
        "aa7f7c71"
      ]
>>>>>>> 03f24425283acc55e724601dacc2a10064542d2b
    }
  },
  "nbformat": 4,
  "nbformat_minor": 5
<<<<<<< HEAD
}
=======
}
>>>>>>> 03f24425283acc55e724601dacc2a10064542d2b
