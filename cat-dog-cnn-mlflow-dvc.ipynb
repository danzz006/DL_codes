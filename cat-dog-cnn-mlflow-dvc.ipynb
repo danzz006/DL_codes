{
  "cells": [
    {
      "cell_type": "code",
      "execution_count": null,
      "id": "Ywv8-29HN2Kp",
      "metadata": {
        "id": "Ywv8-29HN2Kp"
      },
      "outputs": [],
      "source": [
        "# !pip install dvc mlflow"
      ]
    },
    {
      "cell_type": "code",
      "execution_count": 1,
      "id": "-HsG1ONk9G7b",
      "metadata": {
        "colab": {
          "base_uri": "https://localhost:8080/"
        },
        "id": "-HsG1ONk9G7b",
        "outputId": "34480b7a-e55c-4b61-94eb-815cfb396108"
      },
      "outputs": [
        {
          "name": "stdout",
          "output_type": "stream",
          "text": [
            "\u001b[K\u001b[?25h/tools/node/bin/lt -> /tools/node/lib/node_modules/localtunnel/bin/lt.js\n",
            "+ localtunnel@2.0.2\n",
            "added 22 packages from 22 contributors in 2.02s\n"
          ]
        }
      ],
      "source": [
        "# !npm install -g localtunnel"
      ]
    },
    {
      "cell_type": "code",
      "execution_count": 2,
      "id": "idX7FqkrNCAD",
      "metadata": {
        "colab": {
          "base_uri": "https://localhost:8080/"
        },
        "id": "idX7FqkrNCAD",
        "outputId": "f495dd1e-3dd3-405e-e6ce-b9a51fb9363e"
      },
      "outputs": [
        {
          "name": "stdout",
          "output_type": "stream",
          "text": [
            "\u001b[0m"
          ]
        }
      ],
      "source": [
        "!dvc get https://github.com/iterative/dataset-registry tutorials/versioning/data.zip"
      ]
    },
    {
      "cell_type": "code",
      "execution_count": null,
      "id": "-ommrSXWNl9W",
      "metadata": {
        "id": "-ommrSXWNl9W"
      },
      "outputs": [],
      "source": [
        "!unzip data.zip"
      ]
    },
    {
      "cell_type": "code",
      "execution_count": null,
      "id": "PijjiuUONCAN",
      "metadata": {
        "id": "PijjiuUONCAN",
        "outputId": "ebf1617d-99a1-4ec7-f620-bc21202e88f6",
        "tags": []
      },
      "outputs": [
        {
          "name": "stdout",
          "output_type": "stream",
          "text": [
            "\n",
            "To track the changes with git, run:\n",
            "\n",
            "\tgit add data.dvc\n",
            "\n",
            "To enable auto staging, run:\n",
            "\n",
            "\tdvc config core.autostage true\n"
          ]
        }
      ],
      "source": [
        "!dvc add data"
      ]
    },
    {
      "cell_type": "code",
      "execution_count": null,
      "id": "gzS5o_s3NCAP",
      "metadata": {
        "id": "gzS5o_s3NCAP"
      },
      "outputs": [],
      "source": [
        "!git add data.dvc .gitignore"
      ]
    },
    {
      "cell_type": "code",
      "execution_count": 4,
      "id": "432255a7",
      "metadata": {
        "id": "432255a7"
      },
      "outputs": [],
      "source": [
        "import numpy as np\n",
        "import sys\n",
        "import os\n",
        "\n",
        "import tensorflow as tf\n",
        "from tensorflow.keras.preprocessing.image import ImageDataGenerator\n",
        "from tensorflow.keras.models import Sequential\n",
        "from tensorflow.keras.layers import Dropout, Flatten, Dense\n",
        "from tensorflow.keras import applications\n",
        "from tensorflow.keras.callbacks import CSVLogger\n",
        "from tqdm.keras import TqdmCallback\n",
        "from tensorflow import keras \n",
        "from PIL import Image\n",
        "import time \n",
        "\n",
        "import mlflow\n",
        "from pathlib import Path"
      ]
    },
    {
      "cell_type": "code",
      "execution_count": 5,
      "id": "4438146e",
      "metadata": {
        "id": "4438146e",
        "tags": []
      },
      "outputs": [],
      "source": [
        "experiment_id = mlflow.create_experiment(\n",
        "    \"cat-dog VGG classifier\", \n",
        "    artifact_location=Path.cwd().joinpath(\"./mlruns/mlruns.db\").as_uri(),\n",
        "    tags={\"version\":\"v1\", \"priority\":\"P1\"}\n",
        ")"
      ]
    },
    {
      "cell_type": "code",
      "execution_count": 6,
      "id": "f4606525",
      "metadata": {
        "id": "f4606525"
      },
      "outputs": [],
      "source": [
        "mlflow.set_tracking_uri(\"sqlite:///mlruns/mlruns.db\")"
      ]
    },
    {
      "cell_type": "code",
      "execution_count": 7,
      "id": "134bb499",
      "metadata": {
        "colab": {
          "base_uri": "https://localhost:8080/"
        },
        "collapsed": true,
        "id": "134bb499",
        "jupyter": {
          "outputs_hidden": true
        },
        "outputId": "cd93c9d9-c00e-46cb-81e2-65e2d4d1387a"
      },
      "outputs": [
        {
          "name": "stderr",
          "output_type": "stream",
          "text": [
            "2022/09/20 09:41:24 INFO mlflow.store.db.utils: Creating initial MLflow database tables...\n",
            "2022/09/20 09:41:24 INFO mlflow.store.db.utils: Updating database tables\n",
            "INFO  [alembic.runtime.migration] Context impl SQLiteImpl.\n",
            "INFO  [alembic.runtime.migration] Will assume non-transactional DDL.\n",
            "INFO  [alembic.runtime.migration] Running upgrade  -> 451aebb31d03, add metric step\n",
            "INFO  [alembic.runtime.migration] Running upgrade 451aebb31d03 -> 90e64c465722, migrate user column to tags\n",
            "INFO  [alembic.runtime.migration] Running upgrade 90e64c465722 -> 181f10493468, allow nulls for metric values\n",
            "INFO  [alembic.runtime.migration] Running upgrade 181f10493468 -> df50e92ffc5e, Add Experiment Tags Table\n",
            "INFO  [alembic.runtime.migration] Running upgrade df50e92ffc5e -> 7ac759974ad8, Update run tags with larger limit\n",
            "INFO  [alembic.runtime.migration] Running upgrade 7ac759974ad8 -> 89d4b8295536, create latest metrics table\n",
            "INFO  [89d4b8295536_create_latest_metrics_table_py] Migration complete!\n",
            "INFO  [alembic.runtime.migration] Running upgrade 89d4b8295536 -> 2b4d017a5e9b, add model registry tables to db\n",
            "INFO  [2b4d017a5e9b_add_model_registry_tables_to_db_py] Adding registered_models and model_versions tables to database.\n",
            "INFO  [2b4d017a5e9b_add_model_registry_tables_to_db_py] Migration complete!\n",
            "INFO  [alembic.runtime.migration] Running upgrade 2b4d017a5e9b -> cfd24bdc0731, Update run status constraint with killed\n",
            "INFO  [alembic.runtime.migration] Running upgrade cfd24bdc0731 -> 0a8213491aaa, drop_duplicate_killed_constraint\n",
            "INFO  [alembic.runtime.migration] Running upgrade 0a8213491aaa -> 728d730b5ebd, add registered model tags table\n",
            "INFO  [alembic.runtime.migration] Running upgrade 728d730b5ebd -> 27a6a02d2cf1, add model version tags table\n",
            "INFO  [alembic.runtime.migration] Running upgrade 27a6a02d2cf1 -> 84291f40a231, add run_link to model_version\n",
            "INFO  [alembic.runtime.migration] Running upgrade 84291f40a231 -> a8c4a736bde6, allow nulls for run_id\n",
            "INFO  [alembic.runtime.migration] Running upgrade a8c4a736bde6 -> 39d1c3be5f05, add_is_nan_constraint_for_metrics_tables_if_necessary\n",
            "INFO  [alembic.runtime.migration] Running upgrade 39d1c3be5f05 -> c48cb773bb87, reset_default_value_for_is_nan_in_metrics_table_for_mysql\n",
            "INFO  [alembic.runtime.migration] Running upgrade c48cb773bb87 -> bd07f7e963c5, create index on run_uuid\n",
            "INFO  [alembic.runtime.migration] Running upgrade bd07f7e963c5 -> 0c779009ac13, add deleted_time field to runs table\n",
            "INFO  [alembic.runtime.migration] Running upgrade 0c779009ac13 -> cc1f77228345, change param value length to 500\n",
            "INFO  [alembic.runtime.migration] Running upgrade cc1f77228345 -> 97727af70f4d, Add creation_time and last_update_time to experiments table\n",
            "INFO  [alembic.runtime.migration] Context impl SQLiteImpl.\n",
            "INFO  [alembic.runtime.migration] Will assume non-transactional DDL.\n",
            "2022/09/20 09:41:24 INFO mlflow.tracking.fluent: Experiment with name 'cat-dog VGG classifier' does not exist. Creating a new experiment.\n"
          ]
        }
      ],
      "source": [
        "experiment = mlflow.set_experiment(experiment_name=\"cat-dog VGG classifier\")"
      ]
    },
    {
      "cell_type": "code",
      "execution_count": 8,
      "id": "bf2911bd",
      "metadata": {
        "colab": {
          "base_uri": "https://localhost:8080/"
        },
        "id": "bf2911bd",
        "outputId": "ec25213a-dfe8-48f7-be55-6e00244dc883"
      },
      "outputs": [
        {
          "data": {
            "text/plain": [
              "<Experiment: artifact_location='./mlruns/1', creation_time=1663666884733, experiment_id='1', last_update_time=1663666884733, lifecycle_stage='active', name='cat-dog VGG classifier', tags={}>"
            ]
          },
          "execution_count": 8,
          "metadata": {},
          "output_type": "execute_result"
        }
      ],
      "source": [
        "experiment"
      ]
    },
    {
      "cell_type": "code",
      "execution_count": 9,
      "id": "6fff78f2",
      "metadata": {
        "id": "6fff78f2"
      },
      "outputs": [],
      "source": [
        "path = os.getcwd()"
      ]
    },
    {
      "cell_type": "code",
      "execution_count": 10,
      "id": "ff17737a",
      "metadata": {
        "id": "ff17737a"
      },
      "outputs": [],
      "source": [
        "img_width, img_height = 150, 150"
      ]
    },
    {
      "cell_type": "code",
      "execution_count": 11,
      "id": "53659e61",
      "metadata": {
        "id": "53659e61"
      },
      "outputs": [],
      "source": [
        "top_model_weights_path = 'model.h5'\n",
        "train_data_dir = os.path.join('data', 'train')\n",
        "validation_data_dir = os.path.join('data', 'validation')\n",
        "cats_train_path = os.path.join(path, train_data_dir, 'cats')\n",
        "nb_train_samples = 2 * len([name for name in os.listdir(cats_train_path)\n",
        "                            if os.path.isfile(\n",
        "                                os.path.join(cats_train_path, name))])\n"
      ]
    },
    {
      "cell_type": "code",
      "execution_count": 12,
      "id": "fc4ab18d",
      "metadata": {
        "id": "fc4ab18d"
      },
      "outputs": [],
      "source": [
        "batch_size = 32"
      ]
    },
    {
      "cell_type": "code",
      "execution_count": 13,
      "id": "f069ae29",
      "metadata": {
        "colab": {
          "base_uri": "https://localhost:8080/"
        },
        "id": "f069ae29",
        "outputId": "6f8ca2cf-9666-4def-bd9d-8a05f8256ee1"
      },
      "outputs": [
        {
          "name": "stdout",
          "output_type": "stream",
          "text": [
            "Found 1000 images belonging to 2 classes.\n",
            "Found 800 images belonging to 2 classes.\n"
          ]
        }
      ],
      "source": [
        "datagen = ImageDataGenerator(rescale=1. / 255)\n",
        "\n",
        "\n",
        "\n",
        "train_generator = datagen.flow_from_directory(\n",
        "    train_data_dir,\n",
        "    target_size=(img_width, img_height),\n",
        "    batch_size=batch_size,\n",
        "    class_mode='binary',\n",
        "    shuffle=True)\n",
        "\n",
        "val_generator = datagen.flow_from_directory(\n",
        "    validation_data_dir,\n",
        "    target_size=(img_width, img_height),\n",
        "    batch_size=batch_size,\n",
        "    class_mode='binary',\n",
        "    shuffle=False)"
      ]
    },
    {
      "cell_type": "code",
      "execution_count": 14,
      "id": "d47pUSk_Oumx",
      "metadata": {
        "colab": {
          "base_uri": "https://localhost:8080/"
        },
        "id": "d47pUSk_Oumx",
        "outputId": "c719736b-19ee-446a-a214-d34fc4162b56"
      },
      "outputs": [
        {
          "name": "stdout",
          "output_type": "stream",
          "text": [
            "Downloading data from https://storage.googleapis.com/tensorflow/keras-applications/vgg16/vgg16_weights_tf_dim_ordering_tf_kernels_notop.h5\n",
            "58892288/58889256 [==============================] - 0s 0us/step\n",
            "58900480/58889256 [==============================] - 0s 0us/step\n"
          ]
        }
      ],
      "source": [
        "# build the VGG16 network\n",
        "model = applications.VGG16(include_top=False, weights='imagenet')"
      ]
    },
    {
      "cell_type": "code",
      "execution_count": 15,
      "id": "66c8afc1",
      "metadata": {
        "id": "66c8afc1"
      },
      "outputs": [],
      "source": [
        "model.trainable = False\n",
        "\n",
        "inputs = keras.Input(shape=(150, 150, 3))\n",
        "x = model(inputs, training=False)\n",
        "x = keras.layers.GlobalAveragePooling2D()(x)\n",
        "\n",
        "outputs = keras.layers.Dense(1)(x)\n",
        "model = keras.Model(inputs, outputs)\n"
      ]
    },
    {
      "cell_type": "code",
      "execution_count": 16,
      "id": "5fb05bed",
      "metadata": {
        "colab": {
          "base_uri": "https://localhost:8080/"
        },
        "id": "5fb05bed",
        "outputId": "ee286edc-8717-41e5-f85a-df7a3a04b94e"
      },
      "outputs": [
        {
          "name": "stdout",
          "output_type": "stream",
          "text": [
            "Model: \"model\"\n",
            "_________________________________________________________________\n",
            " Layer (type)                Output Shape              Param #   \n",
            "=================================================================\n",
            " input_2 (InputLayer)        [(None, 150, 150, 3)]     0         \n",
            "                                                                 \n",
            " vgg16 (Functional)          (None, None, None, 512)   14714688  \n",
            "                                                                 \n",
            " global_average_pooling2d (G  (None, 512)              0         \n",
            " lobalAveragePooling2D)                                          \n",
            "                                                                 \n",
            " dense (Dense)               (None, 1)                 513       \n",
            "                                                                 \n",
            "=================================================================\n",
            "Total params: 14,715,201\n",
            "Trainable params: 513\n",
            "Non-trainable params: 14,714,688\n",
            "_________________________________________________________________\n"
          ]
        }
      ],
      "source": [
        "model.summary()"
      ]
    },
    {
      "cell_type": "code",
      "execution_count": 17,
      "id": "d7e763df",
      "metadata": {
        "id": "d7e763df"
      },
      "outputs": [],
      "source": [
        "loss_fn = keras.losses.BinaryCrossentropy(from_logits=True)\n",
        "optimizer = keras.optimizers.SGD(learning_rate=0.001, momentum=0.09, nesterov=False)\n",
        "# learning schedulre\n",
        "epochs = 50"
      ]
    },
    {
      "cell_type": "code",
      "execution_count": 18,
      "id": "eHb_RKo9Yl_u",
      "metadata": {
        "id": "eHb_RKo9Yl_u"
      },
      "outputs": [],
      "source": [
        "model.compile(optimizer=optimizer,loss=loss_fn)"
      ]
    },
    {
      "cell_type": "code",
      "execution_count": 19,
      "id": "0ba9d7cb",
      "metadata": {
        "id": "0ba9d7cb"
      },
      "outputs": [],
      "source": [
        "acc_metric = tf.keras.metrics.BinaryAccuracy()"
      ]
    },
    {
      "cell_type": "code",
      "execution_count": null,
      "id": "41546d79",
      "metadata": {
        "colab": {
          "base_uri": "https://localhost:8080/"
        },
        "id": "41546d79",
        "outputId": "422c48f2-a5f2-43d4-aa35-55ca3744c907"
      },
      "outputs": [
        {
          "name": "stdout",
          "output_type": "stream",
          "text": [
            "Epoch: 0\n",
            "Training loss at step 0: 0.7037\n"
          ]
        }
      ],
      "source": [
        "with mlflow.start_run(run_name=\"exp-epcoh-20\",experiment_id=experiment.experiment_id, description=\"A model to classify between cat and dog example\") as run:\n",
        "\n",
        "    mlflow.log_param(\"optimizer\", \"Adam\")\n",
        "    mlflow.log_param(\"objective\", \"BinaryCrossentropy\")\n",
        "    mlflow.log_param(\"epochs\", epochs)\n",
        "    \n",
        "    for epoch in range(epochs):\n",
        "        print(f\"Epoch: {epoch}\")  \n",
        "        for step, (inputs, targets) in zip(range(len(train_generator)), train_generator):\n",
        "            \n",
        "            with tf.GradientTape() as tape:\n",
        "                # Forward pass.\n",
        "                logits = model(inputs)\n",
        "                # Compute the loss value for this batch.\n",
        "                targets = targets.reshape(logits.shape)\n",
        "                # targets = np.expand_dims(targets, axis=0)\n",
        "                loss_value = loss_fn(targets, logits)\n",
        "            \n",
        "            acc_metric.update_state(targets, logits)\n",
        "\n",
        "\n",
        "            # Get gradients of loss wrt the *trainable* weights.\n",
        "            gradients = tape.gradient(loss_value, model.trainable_weights)\n",
        "            # Update the weights of the model.\n",
        "            optimizer.apply_gradients(zip(gradients, model.trainable_weights))\n",
        "            \n",
        "            \n",
        "            if step % 30 == 0:\n",
        "              print(\n",
        "                  f\"Training loss at step {step}: {loss_value:.4f}\"\n",
        "              )\n",
        "            mlflow.log_metric(\"Training loss\", loss_value)\n",
        "            \n",
        "        train_acc = acc_metric.result().numpy()\n",
        "\n",
        "        print(f\"Training acc over epoch: {train_acc:.4f}\")\n",
        "            \n",
        "        mlflow.log_metric(\"training accuracy\", train_acc)\n",
        "        \n",
        "        print(\"Validating...\")\n",
        "        val_acc = model.evaluate(val_generator)\n",
        "\n",
        "        mlflow.log_metric(\"validation accuracy\", val_acc)\n",
        "        print(f\"Validation acc: {val_acc:.4f}\")\n",
        "        \n",
        "    mlflow.keras.log_model(model, experiment.artifact_location, registered_model_name=\"cat-dog VGG classifier\")\n",
        "    os.makedirs(\"artifact_data\", exist_ok=True)\n",
        "    model.save_weights(\"artifact_data/model_weights.h5\")\n",
        "    model.save(\"artifact_data/keras_model\")\n",
        "    # with open(\"artifact_data/model_summary.txt\", 'w', encoding='utf-8') as fs:\n",
        "    #     fs.write(model.summary())\n",
        "        \n",
        "    mlflow.log_artifacts(\"artifact_data\", artifact_path=\"artifacts\")"
      ]
    },
    {
      "cell_type": "code",
      "execution_count": 25,
      "id": "psNCqSEx9Mxr",
      "metadata": {
        "id": "psNCqSEx9Mxr"
      },
      "outputs": [],
      "source": [
        "get_ipython().system_raw(\"mlflow server --host 0.0.0.0 -p 8000 --backend-store-uri sqlite:///mlruns/mlruns.db --default-artifact-root ./mlruns &\")"
      ]
    },
    {
      "cell_type": "code",
      "execution_count": 26,
      "id": "fEkZaF0i9PDr",
      "metadata": {
        "id": "fEkZaF0i9PDr"
      },
      "outputs": [],
      "source": [
        "get_ipython().system_raw('lt --port 8000 >> url.txt 2>&1 &')"
      ]
    },
    {
      "cell_type": "code",
      "execution_count": 24,
      "id": "9gn28SOt-50b",
      "metadata": {
        "id": "9gn28SOt-50b"
      },
      "outputs": [],
      "source": [
        "!rm url.txt"
      ]
    },
    {
      "cell_type": "code",
      "execution_count": 27,
      "id": "AJbvGNDn9RUz",
      "metadata": {
        "colab": {
          "base_uri": "https://localhost:8080/"
        },
        "id": "AJbvGNDn9RUz",
        "outputId": "0f76edb6-4896-4c88-9909-2ddc2a2b05a9"
      },
      "outputs": [
        {
          "name": "stdout",
          "output_type": "stream",
          "text": [
            "your url is: https://silver-bats-guess-35-196-3-165.loca.lt\n"
          ]
        }
      ],
      "source": [
        "!cat url.txt"
      ]
    },
    {
      "cell_type": "code",
      "execution_count": null,
      "id": "n3EZxa3UNCAo",
      "metadata": {
        "id": "n3EZxa3UNCAo"
      },
      "outputs": [],
      "source": [
        "!dvc add model.h5 metrics.csv"
      ]
    },
    {
      "cell_type": "markdown",
      "id": "a31667f8",
      "metadata": {
        "id": "a31667f8"
      },
      "source": [
        "## Serving a registered model"
      ]
    },
    {
      "cell_type": "code",
      "execution_count": null,
      "id": "4c60da82",
      "metadata": {
        "id": "4c60da82"
      },
      "outputs": [],
      "source": [
        "import mlflow.pyfunc"
      ]
    },
    {
      "cell_type": "code",
      "execution_count": null,
      "id": "aeb25414",
      "metadata": {
        "id": "aeb25414"
      },
      "outputs": [],
      "source": [
        "model_name = \"VGG cat-dog classifier\"\n",
        "stage = 'Staging'"
      ]
    },
    {
      "cell_type": "code",
      "execution_count": null,
      "id": "6ed92a00",
      "metadata": {
        "id": "6ed92a00"
      },
      "outputs": [],
      "source": [
        "model = mlflow.pyfunc.load_model(\n",
        "    model_uri=f\"models:/{model_name}/{stage}\"\n",
        ")"
      ]
    },
    {
      "cell_type": "code",
      "execution_count": null,
      "id": "e044ac62",
      "metadata": {
        "id": "e044ac62"
      },
      "outputs": [],
      "source": [
        "test_img = next(val_generator)"
      ]
    },
    {
      "cell_type": "code",
      "execution_count": null,
      "id": "ecee78bd",
      "metadata": {
        "id": "ecee78bd"
      },
      "outputs": [],
      "source": [
        "img_name = \"dogs\\\\dog.6.jpg\""
      ]
    },
    {
      "cell_type": "code",
      "execution_count": null,
      "id": "d50291a1",
      "metadata": {
        "id": "d50291a1"
      },
      "outputs": [],
      "source": [
        "test_img = np.array(Image.open(os.path.join(train_data_dir, img_name)))\n",
        "test_img = np.expand_dims(test_img, axis=0)"
      ]
    },
    {
      "cell_type": "code",
      "execution_count": null,
      "id": "5feca42c",
      "metadata": {
        "id": "5feca42c",
        "outputId": "1fffcfd4-0f70-4a95-8e9f-1827cceff803"
      },
      "outputs": [
        {
          "data": {
            "text/plain": [
              "(1, 488, 499, 3)"
            ]
          },
          "execution_count": 37,
          "metadata": {},
          "output_type": "execute_result"
        }
      ],
      "source": [
        "test_img.shape"
      ]
    },
    {
      "cell_type": "code",
      "execution_count": null,
      "id": "1c1e4fc0",
      "metadata": {
        "id": "1c1e4fc0"
      },
      "outputs": [],
      "source": [
        "model.predict(test_img)"
      ]
    },
    {
      "cell_type": "code",
      "execution_count": null,
      "id": "89cee044",
      "metadata": {
        "id": "89cee044"
      },
      "outputs": [],
      "source": []
    }
  ],
  "metadata": {
    "accelerator": "GPU",
    "colab": {
      "collapsed_sections": [],
      "provenance": []
    },
    "kernelspec": {
      "display_name": "tf2_BS",
      "language": "python",
      "name": "python3"
    },
    "language_info": {
      "codemirror_mode": {
        "name": "ipython",
        "version": 3
      },
      "file_extension": ".py",
      "mimetype": "text/x-python",
      "name": "python",
      "nbconvert_exporter": "python",
      "pygments_lexer": "ipython3",
      "version": "3.9.5 (default, May 18 2021, 14:42:02) [MSC v.1916 64 bit (AMD64)]"
    },
    "vscode": {
      "interpreter": {
        "hash": "6ae8f7a6d4c0fbd91c6bbab3309293cc3dfdd489eb890bf33eea4192ec81af3b"
      }
    }
  },
  "nbformat": 4,
  "nbformat_minor": 5
}
